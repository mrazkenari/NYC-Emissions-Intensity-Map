{
 "cells": [
  {
   "cell_type": "code",
   "execution_count": 3,
   "metadata": {
    "slideshow": {
     "slide_type": "skip"
    }
   },
   "outputs": [],
   "source": [
    "# New York City Emissions Intensity Map\n",
    "# by Mohamad Razkenari \n",
    "# https://www.razkenari.com/nyc-eim"
   ]
  },
  {
   "cell_type": "code",
   "execution_count": 4,
   "metadata": {
    "slideshow": {
     "slide_type": "skip"
    }
   },
   "outputs": [],
   "source": [
    "# Install and Import packages in the current Jupyter kernel\n",
    "\n",
    "import sys\n",
    "import os\n",
    "\n",
    "# !{sys.executable} -m pip install numpy pandas scikit-learn matplotlib seaborn arcgis sodapy folium pyspark\n",
    "# !conda install --yes --prefix {sys.prefix} geopandas\n",
    "\n",
    "import pandas as pd\n",
    "import numpy as np\n",
    "from sodapy import Socrata\n",
    "\n",
    "from arcgis import GIS\n",
    "from arcgis.geocoding import geocode\n",
    "from arcgis.geometry import lengths, areas_and_lengths, project\n",
    "from arcgis.geometry import Point, Polyline, Polygon, Geometry\n",
    "import geopandas\n",
    "import folium\n",
    "import pickle"
   ]
  },
  {
   "cell_type": "code",
   "execution_count": 5,
   "metadata": {
    "slideshow": {
     "slide_type": "skip"
    }
   },
   "outputs": [],
   "source": [
    "# Data ID from NYC OPEN DATA\n",
    "\n",
    "dic_id = {\n",
    "    'consumption_2020' : 'usc3-8zwd' ,  #building consumption 2020\n",
    "    'consumption_2019' : 'wcm8-aq5w' , #building consumption 2019\n",
    "    'consumption_2018' : '4tys-3tzj' , #building consumption 2018\n",
    "    'consumption_2017' : '4tys-3tzj' , #building consumption 2017\n",
    "    'consumption_2016' : 'utpj-74fz' , #building consumption 2016\n",
    "    'consumption_2015' : '77q4-nkfh' , #building consumption 2015\n",
    "    'consumption_2014' : 'nbun-wekj' , #building consumption 2014\n",
    "    'consumption_2013' : 'yr5p-wjer' , #building consumption 2013\n",
    "    'consumption_2012' : 'r6ub-zhff' , #building consumption 2012\n",
    "    'consumption_2011' : 'k7nh-aufb' , #building consumption 2011\n",
    "    'consumption_2010' : 'kswi-37bp' , #building consumption 2010\n",
    "    'footprint' : 'qb5r-6dgf' , #building foorprint coordinates\n",
    "    'points' : '7w4b-tj9d' , #building coordinates\n",
    "    'pluto' : '64uk-42ks' , #Primary Land Use Tax Lot Output\n",
    "    'pluto_change' : 'qt5r-nqxp' , #PLUTO changes\n",
    "    }"
   ]
  },
  {
   "cell_type": "code",
   "execution_count": 7,
   "metadata": {},
   "outputs": [
    {
     "data": {
      "text/plain": [
       "\"\\n# RUN ONLY ONCE TO STORE THE DATA LOCALLY\\n\\ndef store_data(df_name, api_id):\\n    json_data = client.get_all(api_id) # to get all data\\n    df = pd.DataFrame.from_dict(json_data)\\n    df.to_csv(df_name+'.csv')\\n    print(df_name+' was stored.')\\n    return\\n\\nfor key, value in dic_id.items():\\n    store_data(key, value)\\n\\n\""
      ]
     },
     "execution_count": 7,
     "metadata": {},
     "output_type": "execute_result"
    }
   ],
   "source": [
    "\"\"\"\n",
    "# RUN ONLY ONCE TO STORE THE DATA LOCALLY\n",
    "\n",
    "socrata_domain = 'data.cityofnewyork.us'\n",
    "socrata_token = os.environ.get(\"x52Wi0DHBQrk0WqZu2yTkQsnc\")\n",
    "client = Socrata(socrata_domain, socrata_token)\n",
    "\n",
    "def store_data(df_name, api_id):\n",
    "    json_data = client.get_all(api_id) # to get all data\n",
    "    df = pd.DataFrame.from_dict(json_data)\n",
    "    df.to_csv(df_name+'.csv')\n",
    "    print(df_name+' was stored.')\n",
    "    return\n",
    "\n",
    "for key, value in dic_id.items():\n",
    "    store_data(key, value)\n",
    "\n",
    "\"\"\""
   ]
  },
  {
   "cell_type": "code",
   "execution_count": 8,
   "metadata": {
    "scrolled": true
   },
   "outputs": [
    {
     "name": "stdout",
     "output_type": "stream",
     "text": [
      "df_consumption_2020 was loaded.\n",
      "df_consumption_2019 was loaded.\n",
      "df_consumption_2018 was loaded.\n",
      "df_consumption_2017 was loaded.\n",
      "df_consumption_2016 was loaded.\n",
      "df_consumption_2015 was loaded.\n",
      "df_consumption_2014 was loaded.\n",
      "df_consumption_2013 was loaded.\n",
      "df_consumption_2012 was loaded.\n",
      "df_consumption_2011 was loaded.\n",
      "df_consumption_2010 was loaded.\n"
     ]
    },
    {
     "name": "stderr",
     "output_type": "stream",
     "text": [
      "C:\\Users\\marazken\\Anaconda3\\lib\\site-packages\\numpy\\lib\\arraysetops.py:583: FutureWarning: elementwise comparison failed; returning scalar instead, but in the future will perform elementwise comparison\n",
      "  mask |= (ar1 == a)\n"
     ]
    },
    {
     "name": "stdout",
     "output_type": "stream",
     "text": [
      "df_footprint was loaded.\n",
      "df_points was loaded.\n",
      "df_pluto was loaded.\n",
      "df_pluto_change was loaded.\n"
     ]
    }
   ],
   "source": [
    "# RUN TO LOAD DATA\n",
    "\n",
    "for key, value in dic_id.items():\n",
    "    exec(f\"df_{key}\" + f\" = pd.read_csv('{key}\" + \".csv', index_col=[0], low_memory=False)\")\n",
    "    print('df_'+key+' was loaded.')"
   ]
  },
  {
   "cell_type": "code",
   "execution_count": 9,
   "metadata": {},
   "outputs": [],
   "source": [
    "pd.set_option(\"display.max_columns\", None)"
   ]
  },
  {
   "cell_type": "code",
   "execution_count": 10,
   "metadata": {},
   "outputs": [
    {
     "ename": "NameError",
     "evalue": "name 'df_2020' is not defined",
     "output_type": "error",
     "traceback": [
      "\u001b[1;31m---------------------------------------------------------------------------\u001b[0m",
      "\u001b[1;31mNameError\u001b[0m                                 Traceback (most recent call last)",
      "\u001b[1;32m~\\AppData\\Local\\Temp/ipykernel_53144/478378517.py\u001b[0m in \u001b[0;36m<module>\u001b[1;34m\u001b[0m\n\u001b[1;32m----> 1\u001b[1;33m \u001b[0mlen\u001b[0m\u001b[1;33m(\u001b[0m\u001b[0mdf_2020\u001b[0m\u001b[1;33m)\u001b[0m\u001b[1;33m\u001b[0m\u001b[1;33m\u001b[0m\u001b[0m\n\u001b[0m",
      "\u001b[1;31mNameError\u001b[0m: name 'df_2020' is not defined"
     ]
    }
   ],
   "source": [
    "len(df_2020)"
   ]
  },
  {
   "cell_type": "code",
   "execution_count": 11,
   "metadata": {},
   "outputs": [
    {
     "data": {
      "text/plain": [
       "26557"
      ]
     },
     "execution_count": 11,
     "metadata": {},
     "output_type": "execute_result"
    }
   ],
   "source": [
    "len(df_consumption_2020.nyc_borough_block_and_lot_bbl.unique())"
   ]
  },
  {
   "cell_type": "code",
   "execution_count": 12,
   "metadata": {},
   "outputs": [
    {
     "data": {
      "text/plain": [
       "26723"
      ]
     },
     "execution_count": 12,
     "metadata": {},
     "output_type": "execute_result"
    }
   ],
   "source": [
    "len(df_consumption_2020.nyc_building_identification_number_bin.unique())"
   ]
  },
  {
   "cell_type": "code",
   "execution_count": 88,
   "metadata": {
    "scrolled": true
   },
   "outputs": [],
   "source": [
    "#clean consumption data\n",
    "\n",
    "df_2020 = df_consumption_2020[['property_id', \n",
    "                               'parent_property_id', \n",
    "                               'nyc_borough_block_and_lot_bbl',\n",
    "                               'nyc_building_identification_number_bin', \n",
    "                               'longitude', \n",
    "                               'latitude',\n",
    "                               'address_1',\n",
    "                               'city', \n",
    "                               'borough', \n",
    "                               'postcode', \n",
    "                               'census_tract', \n",
    "                               'national_median_reference_property_type',\n",
    "                               'property_gfa_calculated_buildings_ft',\n",
    "                               'electricity_use_grid_purchase_kwh', \n",
    "                               'natural_gas_use_kbtu', \n",
    "                               'district_steam_use_kbtu', \n",
    "                               'fuel_oil_2_use_kbtu', \n",
    "                               'fuel_oil_4_use_kbtu', \n",
    "                               'electricity_use_generated_from_onsite_renewable_systems_kwh']].rename(columns={'parent_property_id':'parent_id', \n",
    "                                                                                   'nyc_borough_block_and_lot_bbl' : 'bbl',\n",
    "                                                                                   'nyc_building_identification_number_bin' : 'bin', \n",
    "                                                                                   'address_1': 'address',\n",
    "                                                                                   'national_median_reference_property_type': 'property_type',\n",
    "                                                                                   'electricity_use_grid_purchase_kwh': 'electricity_kwh', \n",
    "                                                                                   'natural_gas_use_kbtu': 'natural_gas_kbtu', \n",
    "                                                                                   'fuel_oil_2_use_kbtu': 'fuel_2_kbtu', \n",
    "                                                                                   'fuel_oil_4_use_kbtu': 'fuel_4_kbtu', \n",
    "                                                                                   'district_steam_use_kbtu' : 'steam_kbtu' , \n",
    "                                                                                   'electricity_use_generated_from_onsite_renewable_systems_kwh' : 'onsite_renewable_kwh', \n",
    "                                                                                   'property_gfa_calculated_buildings_ft': 'floor_area_ft'})\n",
    "\n",
    "df_2019 = df_consumption_2019[['property_id',\n",
    "                               'electricity_use_grid_purchase_1',\n",
    "                               'natural_gas_use_kbtu',\n",
    "                               'district_steam_use_kbtu',\n",
    "                               'fuel_oil_2_use_kbtu', \n",
    "                               'fuel_oil_4_use_kbtu']].rename(columns={'electricity_use_grid_purchase_1': 'electricity_kwh', \n",
    "                                                                       'natural_gas_use_kbtu': 'natural_gas_kbtu', \n",
    "                                                                       'fuel_oil_2_use_kbtu': 'fuel_2_kbtu', \n",
    "                                                                       'fuel_oil_4_use_kbtu': 'fuel_4_kbtu', \n",
    "                                                                       'district_steam_use_kbtu' : 'steam_kbtu'})\n",
    "\n",
    "df_new = df_2020.join(df_2019.set_index('property_id'), rsuffix='_2019', on='property_id', how='left')"
   ]
  },
  {
   "cell_type": "code",
   "execution_count": 89,
   "metadata": {},
   "outputs": [
    {
     "data": {
      "text/plain": [
       "29189"
      ]
     },
     "execution_count": 89,
     "metadata": {},
     "output_type": "execute_result"
    }
   ],
   "source": [
    "len(df_new)"
   ]
  },
  {
   "cell_type": "code",
   "execution_count": 90,
   "metadata": {
    "scrolled": true
   },
   "outputs": [],
   "source": [
    "df_2018 = df_consumption_2018[['property_id',\n",
    "                               'electricity_use_grid_purchase_1',\n",
    "                               'natural_gas_use_kbtu',\n",
    "                               'district_steam_use_kbtu',\n",
    "                               'fuel_oil_2_use_kbtu', \n",
    "                               'fuel_oil_4_use_kbtu']].rename(columns={'electricity_use_grid_purchase_1': 'electricity_kwh', \n",
    "                                                                       'natural_gas_use_kbtu': 'natural_gas_kbtu', \n",
    "                                                                       'fuel_oil_2_use_kbtu': 'fuel_2_kbtu', \n",
    "                                                                       'fuel_oil_4_use_kbtu': 'fuel_4_kbtu', \n",
    "                                                                       'district_steam_use_kbtu' : 'steam_kbtu'})\n",
    "\n",
    "df_new = df_new.join(df_2018.set_index('property_id'), rsuffix='_2018', on='property_id', how='left')"
   ]
  },
  {
   "cell_type": "code",
   "execution_count": 91,
   "metadata": {},
   "outputs": [
    {
     "data": {
      "text/plain": [
       "29909"
      ]
     },
     "execution_count": 91,
     "metadata": {},
     "output_type": "execute_result"
    }
   ],
   "source": [
    "len(df_new)"
   ]
  },
  {
   "cell_type": "code",
   "execution_count": 92,
   "metadata": {},
   "outputs": [],
   "source": [
    "\n",
    "df_2017 = df_consumption_2017[['property_id',\n",
    "                               'electricity_use_grid_purchase_1',\n",
    "                               'natural_gas_use_kbtu',\n",
    "                               'district_steam_use_kbtu',\n",
    "                               'fuel_oil_2_use_kbtu', \n",
    "                               'fuel_oil_4_use_kbtu']].rename(columns={'electricity_use_grid_purchase_1': 'electricity_kwh', \n",
    "                                                                       'natural_gas_use_kbtu': 'natural_gas_kbtu', \n",
    "                                                                       'fuel_oil_2_use_kbtu': 'fuel_2_kbtu', \n",
    "                                                                       'fuel_oil_4_use_kbtu': 'fuel_4_kbtu', \n",
    "                                                                       'district_steam_use_kbtu' : 'steam_kbtu'})\n",
    "\n",
    "df_new = df_new.join(df_2017.set_index('property_id'), rsuffix='_2017', on='property_id', how='left')"
   ]
  },
  {
   "cell_type": "code",
   "execution_count": 93,
   "metadata": {},
   "outputs": [
    {
     "data": {
      "text/plain": [
       "31357"
      ]
     },
     "execution_count": 93,
     "metadata": {},
     "output_type": "execute_result"
    }
   ],
   "source": [
    "len(df_new)"
   ]
  },
  {
   "cell_type": "code",
   "execution_count": 94,
   "metadata": {},
   "outputs": [],
   "source": [
    "df_2016 = df_consumption_2016[['property_id',\n",
    "                               'electricity_use_grid_purchase_1',\n",
    "                               'natural_gas_use_kbtu',\n",
    "                               'district_steam_use_kbtu',\n",
    "                               'fuel_oil_2_use_kbtu', \n",
    "                               'fuel_oil_4_use_kbtu']].rename(columns={'electricity_use_grid_purchase_1': 'electricity_kwh', \n",
    "                                                                       'natural_gas_use_kbtu': 'natural_gas_kbtu', \n",
    "                                                                       'fuel_oil_2_use_kbtu': 'fuel_2_kbtu', \n",
    "                                                                       'fuel_oil_4_use_kbtu': 'fuel_4_kbtu', \n",
    "                                                                       'district_steam_use_kbtu' : 'steam_kbtu'})\n",
    "\n",
    "df_new = df_new.join(df_2016.set_index('property_id'), rsuffix='_2016', on='property_id', how='left')"
   ]
  },
  {
   "cell_type": "code",
   "execution_count": 95,
   "metadata": {},
   "outputs": [
    {
     "data": {
      "text/plain": [
       "31388"
      ]
     },
     "execution_count": 95,
     "metadata": {},
     "output_type": "execute_result"
    }
   ],
   "source": [
    "len(df_new)"
   ]
  },
  {
   "cell_type": "code",
   "execution_count": 96,
   "metadata": {},
   "outputs": [],
   "source": [
    "df_2015 = df_consumption_2015[['property_id',\n",
    "                               'electricity_use_grid_purchase_1',\n",
    "                               'natural_gas_use_kbtu',\n",
    "                               'district_steam_use_kbtu',\n",
    "                               'fuel_oil_2_use_kbtu', \n",
    "                               'fuel_oil_4_use_kbtu']].rename(columns={'electricity_use_grid_purchase_1': 'electricity_kwh', \n",
    "                                                                       'natural_gas_use_kbtu': 'natural_gas_kbtu', \n",
    "                                                                       'fuel_oil_2_use_kbtu': 'fuel_2_kbtu', \n",
    "                                                                       'fuel_oil_4_use_kbtu': 'fuel_4_kbtu', \n",
    "                                                                       'district_steam_use_kbtu' : 'steam_kbtu'})\n",
    "\n",
    "df_new = df_new.join(df_2015.set_index('property_id'), rsuffix='_2015', on='property_id', how='left')"
   ]
  },
  {
   "cell_type": "code",
   "execution_count": 97,
   "metadata": {},
   "outputs": [
    {
     "data": {
      "text/plain": [
       "31595"
      ]
     },
     "execution_count": 97,
     "metadata": {},
     "output_type": "execute_result"
    }
   ],
   "source": [
    "len(df_new)"
   ]
  },
  {
   "cell_type": "code",
   "execution_count": 98,
   "metadata": {},
   "outputs": [],
   "source": [
    "df_2014 = df_consumption_2014[['property_id',\n",
    "                               'electricity_use_grid_purchase_1',\n",
    "                               'natural_gas_use_kbtu',\n",
    "                               'district_steam_use_kbtu',\n",
    "                               'fuel_oil_2_use_kbtu', \n",
    "                               'fuel_oil_4_use_kbtu']].rename(columns={'electricity_use_grid_purchase_1': 'electricity_kwh', \n",
    "                                                                       'natural_gas_use_kbtu': 'natural_gas_kbtu', \n",
    "                                                                       'fuel_oil_2_use_kbtu': 'fuel_2_kbtu', \n",
    "                                                                       'fuel_oil_4_use_kbtu': 'fuel_4_kbtu', \n",
    "                                                                       'district_steam_use_kbtu' : 'steam_kbtu'})\n",
    "\n",
    "df_new = df_new.join(df_2014.set_index('property_id'), rsuffix='_2014', on='property_id', how='left')"
   ]
  },
  {
   "cell_type": "code",
   "execution_count": 99,
   "metadata": {},
   "outputs": [
    {
     "data": {
      "text/plain": [
       "31632"
      ]
     },
     "execution_count": 99,
     "metadata": {},
     "output_type": "execute_result"
    }
   ],
   "source": [
    "len(df_new)"
   ]
  },
  {
   "cell_type": "code",
   "execution_count": 100,
   "metadata": {},
   "outputs": [],
   "source": [
    "df_2013 = df_consumption_2013[['property_id',\n",
    "                               'electricity_use_grid_purchase_1',\n",
    "                               'natural_gas_use_kbtu',\n",
    "                               'district_steam_use_kbtu',\n",
    "                               'fuel_oil_2_use_kbtu', \n",
    "                               'fuel_oil_4_use_kbtu']].rename(columns={'electricity_use_grid_purchase_1': 'electricity_kwh', \n",
    "                                                                       'natural_gas_use_kbtu': 'natural_gas_kbtu', \n",
    "                                                                       'fuel_oil_2_use_kbtu': 'fuel_2_kbtu', \n",
    "                                                                       'fuel_oil_4_use_kbtu': 'fuel_4_kbtu', \n",
    "                                                                       'district_steam_use_kbtu' : 'steam_kbtu'})\n",
    "\n",
    "df_new = df_new.join(df_2013.set_index('property_id'), rsuffix='_2013', on='property_id', how='left')"
   ]
  },
  {
   "cell_type": "code",
   "execution_count": 101,
   "metadata": {},
   "outputs": [
    {
     "data": {
      "text/plain": [
       "31753"
      ]
     },
     "execution_count": 101,
     "metadata": {},
     "output_type": "execute_result"
    }
   ],
   "source": [
    "len(df_new)"
   ]
  },
  {
   "cell_type": "code",
   "execution_count": 102,
   "metadata": {},
   "outputs": [],
   "source": [
    "df_2012 = df_consumption_2012[['property_id',\n",
    "                               'electricity_use_grid_purchase_1',\n",
    "                               'natural_gas_use_kbtu',\n",
    "                               'district_steam_use_kbtu',\n",
    "                               'fuel_oil_2_use_kbtu', \n",
    "                               'fuel_oil_4_use_kbtu']].rename(columns={'electricity_use_grid_purchase_1': 'electricity_kwh', \n",
    "                                                                       'natural_gas_use_kbtu': 'natural_gas_kbtu', \n",
    "                                                                       'fuel_oil_2_use_kbtu': 'fuel_2_kbtu', \n",
    "                                                                       'fuel_oil_4_use_kbtu': 'fuel_4_kbtu', \n",
    "                                                                       'district_steam_use_kbtu' : 'steam_kbtu'})\n",
    "\n",
    "df_new = df_new.join(df_2012.set_index('property_id'), rsuffix='_2012', on='property_id', how='left')"
   ]
  },
  {
   "cell_type": "code",
   "execution_count": 103,
   "metadata": {},
   "outputs": [
    {
     "data": {
      "text/plain": [
       "31872"
      ]
     },
     "execution_count": 103,
     "metadata": {},
     "output_type": "execute_result"
    }
   ],
   "source": [
    "len(df_new)"
   ]
  },
  {
   "cell_type": "code",
   "execution_count": 104,
   "metadata": {},
   "outputs": [],
   "source": [
    "df_2011 = df_consumption_2011[['bin_unique_building_identifier',\n",
    "                               'total_floor_space_sq_ft', \n",
    "                               'electricity_use_kwh',\n",
    "                               'natural_gas_use_kbtu',\n",
    "                               'district_steam_use_kbtu',\n",
    "                               'fuel_oil_2_use_kbtu', \n",
    "                               'fuel_oil_4_use_kbtu']].rename(columns={'bin_unique_building_identifier': 'bin', \n",
    "                                                                       'electricity_use_kwh': 'electricity_kwh', \n",
    "                                                                       'natural_gas_use_kbtu': 'natural_gas_kbtu', \n",
    "                                                                       'fuel_oil_2_use_kbtu': 'fuel_2_kbtu', \n",
    "                                                                       'fuel_oil_4_use_kbtu': 'fuel_4_kbtu', \n",
    "                                                                       'district_steam_use_kbtu' : 'steam_kbtu'})\n",
    "\n",
    "df_2011[\"bin\"] = df_2011[\"bin\"].astype('str', errors='ignore')\n",
    "\n",
    "df_new = df_new.join(df_2011.set_index('bin'), rsuffix='_2011', on='bin', how='left')"
   ]
  },
  {
   "cell_type": "code",
   "execution_count": 105,
   "metadata": {},
   "outputs": [
    {
     "data": {
      "text/plain": [
       "32167"
      ]
     },
     "execution_count": 105,
     "metadata": {},
     "output_type": "execute_result"
    }
   ],
   "source": [
    "len(df_new)"
   ]
  },
  {
   "cell_type": "code",
   "execution_count": 106,
   "metadata": {},
   "outputs": [],
   "source": [
    "df_2010 = df_consumption_2010[['bin',\n",
    "                               'electricity_use_kwh',\n",
    "                               'natural_gas_use_kbtu',\n",
    "                               'district_steam_use_kbtu',\n",
    "                               'fuel_oil_2_use_kbtu', \n",
    "                               'fuel_oil_4_use_kbtu']].rename(columns={'electricity_use_kwh': 'electricity_kwh', \n",
    "                                                                       'natural_gas_use_kbtu': 'natural_gas_kbtu', \n",
    "                                                                       'fuel_oil_2_use_kbtu': 'fuel_2_kbtu', \n",
    "                                                                       'fuel_oil_4_use_kbtu': 'fuel_4_kbtu', \n",
    "                                                                       'district_steam_use_kbtu' : 'steam_kbtu'})\n",
    "\n",
    "df_2010[\"bin\"] = df_2010[\"bin\"].astype('str', errors='ignore')\n",
    "\n",
    "df_new = df_new.join(df_2010.set_index('bin'), lsuffix='_2020', rsuffix='_2010', on='bin', how='left')"
   ]
  },
  {
   "cell_type": "code",
   "execution_count": 107,
   "metadata": {},
   "outputs": [
    {
     "data": {
      "text/plain": [
       "32167"
      ]
     },
     "execution_count": 107,
     "metadata": {},
     "output_type": "execute_result"
    }
   ],
   "source": [
    "len(df_new)"
   ]
  },
  {
   "cell_type": "code",
   "execution_count": 108,
   "metadata": {},
   "outputs": [],
   "source": [
    "df_new = df_new.replace(r'Not Available', np.nan, regex=True).fillna(0)"
   ]
  },
  {
   "cell_type": "code",
   "execution_count": 109,
   "metadata": {
    "scrolled": false
   },
   "outputs": [],
   "source": [
    "cols = df_new.columns[12:]\n",
    "df_new[cols]  = df_new[cols].apply(pd.to_numeric, errors='coerce', axis=1)"
   ]
  },
  {
   "cell_type": "code",
   "execution_count": 110,
   "metadata": {
    "scrolled": true
   },
   "outputs": [
    {
     "name": "stderr",
     "output_type": "stream",
     "text": [
      "C:\\Users\\marazken\\AppData\\Local\\Temp/ipykernel_53144/144364140.py:47: SettingWithCopyWarning: \n",
      "A value is trying to be set on a copy of a slice from a DataFrame\n",
      "\n",
      "See the caveats in the documentation: https://pandas.pydata.org/pandas-docs/stable/user_guide/indexing.html#returning-a-view-versus-a-copy\n",
      "  df_new['expected_emissoins'][df_new['expected_emissoins'] <=0] = None\n"
     ]
    }
   ],
   "source": [
    "df_new['emissoins_2020_kgCO2_sf'] = (df_new.electricity_kwh_2020 * 0.288962 + df_new.natural_gas_kbtu_2020 * 0.05311 + \n",
    "                                     df_new.steam_kbtu_2020 * 0.04493 + df_new.fuel_2_kbtu_2020 * 0.07421 + \n",
    "                                     df_new.fuel_4_kbtu_2020 * 0.07529) / df_new.floor_area_ft\n",
    "\n",
    "df_new['emissoins_2019_kgCO2_sf'] = (df_new.electricity_kwh_2019 * 0.288962 + df_new.natural_gas_kbtu_2019 * 0.05311 + \n",
    "                                     df_new.steam_kbtu_2019 * 0.04493 + df_new.fuel_2_kbtu_2019 * 0.07421 + \n",
    "                                     df_new.fuel_4_kbtu_2019 * 0.07529) / df_new.floor_area_ft\n",
    "\n",
    "df_new['emissoins_2018_kgCO2_sf'] = (df_new.electricity_kwh_2018 * 0.288962 + df_new.natural_gas_kbtu_2018 * 0.05311 + \n",
    "                                     df_new.steam_kbtu_2018 * 0.04493 + df_new.fuel_2_kbtu_2018 * 0.07421 + \n",
    "                                     df_new.fuel_4_kbtu_2018 * 0.07529) / df_new.floor_area_ft\n",
    "\n",
    "df_new['emissoins_2017_kgCO2_sf'] = (df_new.electricity_kwh_2017 * 0.288962 + df_new.natural_gas_kbtu_2017 * 0.05311 + \n",
    "                                     df_new.steam_kbtu_2017 * 0.04493 + df_new.fuel_2_kbtu_2017 * 0.07421 + \n",
    "                                     df_new.fuel_4_kbtu_2017 * 0.07529) / df_new.floor_area_ft\n",
    "\n",
    "df_new['emissoins_2016_kgCO2_sf'] = (df_new.electricity_kwh_2016 * 0.288962 + df_new.natural_gas_kbtu_2016 * 0.05311 + \n",
    "                                     df_new.steam_kbtu_2016 * 0.04493 + df_new.fuel_2_kbtu_2016 * 0.07421 + \n",
    "                                     df_new.fuel_4_kbtu_2016 * 0.07529) / df_new.floor_area_ft\n",
    "\n",
    "df_new['emissoins_2015_kgCO2_sf'] = (df_new.electricity_kwh_2015 * 0.288962 + df_new.natural_gas_kbtu_2015 * 0.05311 + \n",
    "                                     df_new.steam_kbtu_2015 * 0.04493 + df_new.fuel_2_kbtu_2015 * 0.07421 + \n",
    "                                     df_new.fuel_4_kbtu_2015 * 0.07529) / df_new.floor_area_ft\n",
    "\n",
    "df_new['emissoins_2014_kgCO2_sf'] = (df_new.electricity_kwh_2014 * 0.288962 + df_new.natural_gas_kbtu_2014 * 0.05311 + \n",
    "                                     df_new.steam_kbtu_2014 * 0.04493 + df_new.fuel_2_kbtu_2014 * 0.07421 + \n",
    "                                     df_new.fuel_4_kbtu_2014 * 0.07529) / df_new.floor_area_ft\n",
    "\n",
    "df_new['emissoins_2013_kgCO2_sf'] = (df_new.electricity_kwh_2013 * 0.288962 + df_new.natural_gas_kbtu_2013 * 0.05311 + \n",
    "                                     df_new.steam_kbtu_2013 * 0.04493 + df_new.fuel_2_kbtu_2013 * 0.07421 + \n",
    "                                     df_new.fuel_4_kbtu_2013 * 0.07529) / df_new.floor_area_ft\n",
    "\n",
    "df_new['emissoins_2012_kgCO2_sf'] = (df_new.electricity_kwh_2012 * 0.288962 + df_new.natural_gas_kbtu_2012 * 0.05311 + \n",
    "                                     df_new.steam_kbtu_2012 * 0.04493 + df_new.fuel_2_kbtu_2012 * 0.07421 + \n",
    "                                     df_new.fuel_4_kbtu_2012 * 0.07529) / df_new.floor_area_ft\n",
    "\n",
    "df_new['emissoins_2011_kgCO2_sf'] = (df_new.electricity_kwh_2011 * 0.288962 + df_new.natural_gas_kbtu_2011 * 0.05311 + \n",
    "                                     df_new.steam_kbtu_2011 * 0.04493 + df_new.fuel_2_kbtu_2011 * 0.07421 + \n",
    "                                     df_new.fuel_4_kbtu_2011 * 0.07529) / df_new.floor_area_ft\n",
    "\n",
    "df_new['emissoins_2010_kgCO2_sf'] = (df_new.electricity_kwh_2010 * 0.288962 + df_new.natural_gas_kbtu_2010 * 0.05311 + \n",
    "                                     df_new.steam_kbtu_2010 * 0.04493 + df_new.fuel_2_kbtu_2010 * 0.07421 + \n",
    "                                     df_new.fuel_4_kbtu_2010 * 0.07529) / df_new.floor_area_ft\n",
    "\n",
    "#Assuming expected future emissions is just the max of previous years\n",
    "df_new['expected_emissoins'] = df_new.iloc[:, 70:74].max(axis=1)\n",
    "df_new['expected_emissoins'][df_new['expected_emissoins'] <=0] = None"
   ]
  },
  {
   "cell_type": "code",
   "execution_count": 111,
   "metadata": {},
   "outputs": [],
   "source": [
    "classification_mapping = {\n",
    "        'Assembly (A)': ['CBECS - Public Assembly', 'CBECS - Food Sales', 'CBECS - Social/Meeting', 'CBECS - Courthouse',\n",
    "                        'CBECS - Religious Worship','CBECS - Food Service', 'CBECS - Restaurant/Cafeteria', \n",
    "                         'CBECS - Bar/Pub/Lounge', 'CBECS - Recreation'],\n",
    "        'Civic (B)' : ['CBECS - Service'],\n",
    "        'Labratory (B)': ['CBECS - Laboratory'], \n",
    "        'Health Care (B)': ['CBECS - Clinic/Outpatient', 'CBECS - Medical Office'],\n",
    "        'Office (B)': ['CBECS - Office & Bank/Financial', 'CBECS - Bank/Financial','CBECS - College/University', \n",
    "                         'EPA - Data Center','CBECS - Library', 'CBECS - Fire Station/Police Station'], \n",
    "        'Educational (E)': ['CBECS - Education', 'CBECS - Elementary/Middle & High School', 'CBECS - Preschool'],\n",
    "        'Industrial (F)': ['Industry Survey', 'AWWA - Wastewater Plant'],\n",
    "        'High Hazard (H)' :['CBECS - Refrigerated Warehouse'] ,\n",
    "        'Board and Care (I-1)': ['CBECS - Inpatient Healthcare', 'CBECS - Lodging'], \n",
    "        'Medical Care and Institutional (I-2)': ['ASHE Survey', 'CBECS - Outpatient Healthcare'],\n",
    "        'Detention and Correctional (I-3)': [],\n",
    "        'Day Care (I-4)' : [],\n",
    "        'Mercantile (M)': ['CBECS - Retail Store', 'CBECS - Grocery Store/Food Market', 'CBECS - Enclosed Mall',\n",
    "                          'CBECS - Retail other than Mall', 'CBECS - Strip Shopping Mall', \n",
    "                           'CBECS - Public Order and Safety','CBECS - Enclosed Mall and Strip Shopping Mall'], \n",
    "        'Hotels and Dormitories (R-1)': ['CBECS - Hotel & Motel/Inn', 'CBECS - Dormitory'],\n",
    "        'Multifamily (R-2) ': ['Fannie Mae Industry Survey - Multifamily'],\n",
    "        'Storage (S)': ['CBECS - Non-Refrigerated Warehouse', 'CBECS - Unrefrigerated Warehouse & Distribution Center'],\n",
    "        'Utility and Miscellaneous (U)' : ['CBECS - Public Order and Safety', 'CBECS - Other']\n",
    "    }\n",
    "\n",
    "def find_class(property_type):\n",
    "    for key, value in classification_mapping.items():\n",
    "        if property_type in value:\n",
    "            return key\n",
    "\n",
    "df_new['building_class'] = df_new.apply (lambda row: find_class(row.property_type), axis=1)"
   ]
  },
  {
   "cell_type": "code",
   "execution_count": 112,
   "metadata": {
    "scrolled": true
   },
   "outputs": [],
   "source": [
    "df_penalty = pd.DataFrame({'building_class': ['Assembly (A)', 'Civic (B)' , 'Labratory (B)', 'Health Care (B)', \n",
    "                                     'Office (B)', 'Educational (E)', 'Industrial (F)', 'High Hazard (H)', \n",
    "                                     'Board and Care (I-1)', 'Medical Care and Institutional (I-2)', \n",
    "                                     'Detention and Correctional (I-3)', 'Day Care (I-4)' , 'Mercantile (M)', \n",
    "                                     'Hotels and Dormitories (R-1)', 'Multifamily (R-2) ', \n",
    "                                     'Storage (S)', 'Utility and Miscellaneous (U)'], \n",
    "                           'e_2024_tCO2e_sf': [0.01074, 0.02381, 0.02381, 0.02381, 0.00846, 0.00758, 0.00574, \n",
    "                                              0.02381, 0.01138, 0.02381, 0.02381, 0.00758, 0.01181, 0.00987, \n",
    "                                              0.00675, 0.00426, 0.00426], \n",
    "                           'e_2030_tCO2e_sf': [0.00420 , 0.01193,  0.01193, 0.01193, 0.00453, 0.00344, 0.00167, \n",
    "                                              0.01193, 0.00598, 0.01193, 0.01193, 0.00344, 0.00403, 0.00526, \n",
    "                                              0.00407, 0.00110, 0.00110],\n",
    "                           'e_2050_tCO2e_sf': 0.0014})"
   ]
  },
  {
   "cell_type": "code",
   "execution_count": 113,
   "metadata": {},
   "outputs": [],
   "source": [
    "df_new = df_new.join(df_penalty.set_index('building_class'), on='building_class', how='left')"
   ]
  },
  {
   "cell_type": "code",
   "execution_count": 129,
   "metadata": {},
   "outputs": [],
   "source": [
    "df_new['estimated_penalty_2024'] = (df_new.expected_emissoins/1000 - df_new.e_2024_tCO2e_sf) * 268 * df_new.floor_area_ft\n",
    "df_new['estimated_penalty_2030'] = (df_new.expected_emissoins/1000 - df_new.e_2030_tCO2e_sf) * 268 * df_new.floor_area_ft\n",
    "df_new['estimated_penalty_2050'] = (df_new.expected_emissoins/1000 - df_new.e_2050_tCO2e_sf) * 268 * df_new.floor_area_ft"
   ]
  },
  {
   "cell_type": "code",
   "execution_count": 133,
   "metadata": {},
   "outputs": [],
   "source": [
    "import warnings\n",
    "\n",
    "with warnings.catch_warnings(record=True):\n",
    "    df_new['estimated_penalty_2024'][df_new['estimated_penalty_2024'] < 0] = 0\n",
    "    df_new['estimated_penalty_2030'][df_new['estimated_penalty_2030'] < 0] = 0\n",
    "    df_new['estimated_penalty_2050'][df_new['estimated_penalty_2050'] < 0] = 0"
   ]
  },
  {
   "cell_type": "code",
   "execution_count": 134,
   "metadata": {},
   "outputs": [
    {
     "data": {
      "text/plain": [
       "count    3.086900e+04\n",
       "mean     9.874718e+04\n",
       "std      8.450857e+06\n",
       "min      0.000000e+00\n",
       "25%      0.000000e+00\n",
       "50%      0.000000e+00\n",
       "75%      1.533943e+03\n",
       "max      1.261604e+09\n",
       "Name: estimated_penalty_2024, dtype: float64"
      ]
     },
     "execution_count": 134,
     "metadata": {},
     "output_type": "execute_result"
    }
   ],
   "source": [
    "df_new.estimated_penalty_2024.describe()"
   ]
  },
  {
   "cell_type": "code",
   "execution_count": 135,
   "metadata": {},
   "outputs": [
    {
     "data": {
      "text/html": [
       "<div>\n",
       "<style scoped>\n",
       "    .dataframe tbody tr th:only-of-type {\n",
       "        vertical-align: middle;\n",
       "    }\n",
       "\n",
       "    .dataframe tbody tr th {\n",
       "        vertical-align: top;\n",
       "    }\n",
       "\n",
       "    .dataframe thead th {\n",
       "        text-align: right;\n",
       "    }\n",
       "</style>\n",
       "<table border=\"1\" class=\"dataframe\">\n",
       "  <thead>\n",
       "    <tr style=\"text-align: right;\">\n",
       "      <th></th>\n",
       "      <th>property_id</th>\n",
       "      <th>parent_id</th>\n",
       "      <th>bbl</th>\n",
       "      <th>bin</th>\n",
       "      <th>longitude</th>\n",
       "      <th>latitude</th>\n",
       "      <th>address</th>\n",
       "      <th>city</th>\n",
       "      <th>borough</th>\n",
       "      <th>postcode</th>\n",
       "      <th>census_tract</th>\n",
       "      <th>property_type</th>\n",
       "      <th>floor_area_ft</th>\n",
       "      <th>electricity_kwh_2020</th>\n",
       "      <th>natural_gas_kbtu_2020</th>\n",
       "      <th>steam_kbtu_2020</th>\n",
       "      <th>fuel_2_kbtu_2020</th>\n",
       "      <th>fuel_4_kbtu_2020</th>\n",
       "      <th>onsite_renewable_kwh</th>\n",
       "      <th>electricity_kwh_2019</th>\n",
       "      <th>natural_gas_kbtu_2019</th>\n",
       "      <th>steam_kbtu_2019</th>\n",
       "      <th>fuel_2_kbtu_2019</th>\n",
       "      <th>fuel_4_kbtu_2019</th>\n",
       "      <th>electricity_kwh_2018</th>\n",
       "      <th>natural_gas_kbtu_2018</th>\n",
       "      <th>steam_kbtu_2018</th>\n",
       "      <th>fuel_2_kbtu_2018</th>\n",
       "      <th>fuel_4_kbtu_2018</th>\n",
       "      <th>electricity_kwh_2017</th>\n",
       "      <th>natural_gas_kbtu_2017</th>\n",
       "      <th>steam_kbtu_2017</th>\n",
       "      <th>fuel_2_kbtu_2017</th>\n",
       "      <th>fuel_4_kbtu_2017</th>\n",
       "      <th>electricity_kwh_2016</th>\n",
       "      <th>natural_gas_kbtu_2016</th>\n",
       "      <th>steam_kbtu_2016</th>\n",
       "      <th>fuel_2_kbtu_2016</th>\n",
       "      <th>fuel_4_kbtu_2016</th>\n",
       "      <th>electricity_kwh_2015</th>\n",
       "      <th>natural_gas_kbtu_2015</th>\n",
       "      <th>steam_kbtu_2015</th>\n",
       "      <th>fuel_2_kbtu_2015</th>\n",
       "      <th>fuel_4_kbtu_2015</th>\n",
       "      <th>electricity_kwh_2014</th>\n",
       "      <th>natural_gas_kbtu_2014</th>\n",
       "      <th>steam_kbtu_2014</th>\n",
       "      <th>fuel_2_kbtu_2014</th>\n",
       "      <th>fuel_4_kbtu_2014</th>\n",
       "      <th>electricity_kwh_2013</th>\n",
       "      <th>natural_gas_kbtu_2013</th>\n",
       "      <th>steam_kbtu_2013</th>\n",
       "      <th>fuel_2_kbtu_2013</th>\n",
       "      <th>fuel_4_kbtu_2013</th>\n",
       "      <th>electricity_kwh_2012</th>\n",
       "      <th>natural_gas_kbtu_2012</th>\n",
       "      <th>steam_kbtu_2012</th>\n",
       "      <th>fuel_2_kbtu_2012</th>\n",
       "      <th>fuel_4_kbtu_2012</th>\n",
       "      <th>total_floor_space_sq_ft</th>\n",
       "      <th>electricity_kwh_2011</th>\n",
       "      <th>natural_gas_kbtu_2011</th>\n",
       "      <th>steam_kbtu_2011</th>\n",
       "      <th>fuel_2_kbtu_2011</th>\n",
       "      <th>fuel_4_kbtu_2011</th>\n",
       "      <th>electricity_kwh_2010</th>\n",
       "      <th>natural_gas_kbtu_2010</th>\n",
       "      <th>steam_kbtu_2010</th>\n",
       "      <th>fuel_2_kbtu_2010</th>\n",
       "      <th>fuel_4_kbtu_2010</th>\n",
       "      <th>emissoins_2020_kgCO2_sf</th>\n",
       "      <th>emissoins_2019_kgCO2_sf</th>\n",
       "      <th>emissoins_2018_kgCO2_sf</th>\n",
       "      <th>emissoins_2017_kgCO2_sf</th>\n",
       "      <th>emissoins_2016_kgCO2_sf</th>\n",
       "      <th>emissoins_2015_kgCO2_sf</th>\n",
       "      <th>emissoins_2014_kgCO2_sf</th>\n",
       "      <th>emissoins_2013_kgCO2_sf</th>\n",
       "      <th>emissoins_2012_kgCO2_sf</th>\n",
       "      <th>emissoins_2011_kgCO2_sf</th>\n",
       "      <th>emissoins_2010_kgCO2_sf</th>\n",
       "      <th>expected_emissoins</th>\n",
       "      <th>building_class</th>\n",
       "      <th>e_2024_tCO2e_sf</th>\n",
       "      <th>e_2030_tCO2e_sf</th>\n",
       "      <th>e_2050_tCO2e_sf</th>\n",
       "      <th>estimated_penalty_2024</th>\n",
       "      <th>estimated_penalty_2030</th>\n",
       "      <th>estimated_penalty_2050</th>\n",
       "    </tr>\n",
       "  </thead>\n",
       "  <tbody>\n",
       "    <tr>\n",
       "      <th>0</th>\n",
       "      <td>7365</td>\n",
       "      <td>Not Applicable: Standalone Property</td>\n",
       "      <td>1009970029</td>\n",
       "      <td>1022631</td>\n",
       "      <td>-73.982826</td>\n",
       "      <td>40.756631</td>\n",
       "      <td>1155  Avenue  of  the  Americas</td>\n",
       "      <td>Manhattan</td>\n",
       "      <td>MANHATTAN</td>\n",
       "      <td>10036</td>\n",
       "      <td>119.0</td>\n",
       "      <td>CBECS - Office &amp; Bank/Financial</td>\n",
       "      <td>686838.0</td>\n",
       "      <td>6508637.9</td>\n",
       "      <td>0.0</td>\n",
       "      <td>6414034.1</td>\n",
       "      <td>0.0</td>\n",
       "      <td>0.0</td>\n",
       "      <td>0.0</td>\n",
       "      <td>7478830.4</td>\n",
       "      <td>0.0</td>\n",
       "      <td>8826445.8</td>\n",
       "      <td>0.0</td>\n",
       "      <td>0.0</td>\n",
       "      <td>7032631.5</td>\n",
       "      <td>0.0</td>\n",
       "      <td>7360193.3</td>\n",
       "      <td>0.0</td>\n",
       "      <td>0.0</td>\n",
       "      <td>7032631.5</td>\n",
       "      <td>0.0</td>\n",
       "      <td>7360193.3</td>\n",
       "      <td>0.0</td>\n",
       "      <td>0.0</td>\n",
       "      <td>43236898.1</td>\n",
       "      <td>0.0</td>\n",
       "      <td>7884370.6</td>\n",
       "      <td>0.0</td>\n",
       "      <td>0.0</td>\n",
       "      <td>42624239.4</td>\n",
       "      <td>0.0</td>\n",
       "      <td>10448889.5</td>\n",
       "      <td>0.0</td>\n",
       "      <td>0.0</td>\n",
       "      <td>35883696.9</td>\n",
       "      <td>0.0</td>\n",
       "      <td>1178826.5</td>\n",
       "      <td>0.0</td>\n",
       "      <td>0.0</td>\n",
       "      <td>43525075.6</td>\n",
       "      <td>0.0</td>\n",
       "      <td>10833326.3</td>\n",
       "      <td>0.0</td>\n",
       "      <td>0.0</td>\n",
       "      <td>12606133.4</td>\n",
       "      <td>0.00</td>\n",
       "      <td>7742025.14</td>\n",
       "      <td>0.0</td>\n",
       "      <td>0.0</td>\n",
       "      <td>686902.0</td>\n",
       "      <td>13224515.0</td>\n",
       "      <td>0.00</td>\n",
       "      <td>8773580.24</td>\n",
       "      <td>0.0</td>\n",
       "      <td>0.0</td>\n",
       "      <td>0.0</td>\n",
       "      <td>0.0</td>\n",
       "      <td>0.0</td>\n",
       "      <td>0.0</td>\n",
       "      <td>0.0</td>\n",
       "      <td>3.157850</td>\n",
       "      <td>3.723833</td>\n",
       "      <td>3.440195</td>\n",
       "      <td>3.440195</td>\n",
       "      <td>18.706107</td>\n",
       "      <td>18.616113</td>\n",
       "      <td>15.173869</td>\n",
       "      <td>19.020255</td>\n",
       "      <td>5.810020</td>\n",
       "      <td>6.137662</td>\n",
       "      <td>0.0</td>\n",
       "      <td>3.723833</td>\n",
       "      <td>Office (B)</td>\n",
       "      <td>0.00846</td>\n",
       "      <td>0.00453</td>\n",
       "      <td>0.0014</td>\n",
       "      <td>0.000000</td>\n",
       "      <td>0.000000e+00</td>\n",
       "      <td>4.277539e+05</td>\n",
       "    </tr>\n",
       "    <tr>\n",
       "      <th>1</th>\n",
       "      <td>8139</td>\n",
       "      <td>Not Applicable: Standalone Property</td>\n",
       "      <td>1013150001</td>\n",
       "      <td>1037545</td>\n",
       "      <td>-73.974306</td>\n",
       "      <td>40.750698</td>\n",
       "      <td>200  East  42nd  St.</td>\n",
       "      <td>Manhattan</td>\n",
       "      <td>MANHATTAN</td>\n",
       "      <td>10017</td>\n",
       "      <td>88.0</td>\n",
       "      <td>CBECS - Office &amp; Bank/Financial</td>\n",
       "      <td>384432.0</td>\n",
       "      <td>4198817.0</td>\n",
       "      <td>0.0</td>\n",
       "      <td>75992330.6</td>\n",
       "      <td>0.0</td>\n",
       "      <td>0.0</td>\n",
       "      <td>0.0</td>\n",
       "      <td>5145089.8</td>\n",
       "      <td>0.0</td>\n",
       "      <td>19058831.0</td>\n",
       "      <td>0.0</td>\n",
       "      <td>0.0</td>\n",
       "      <td>5072947.2</td>\n",
       "      <td>0.0</td>\n",
       "      <td>21525233.0</td>\n",
       "      <td>0.0</td>\n",
       "      <td>0.0</td>\n",
       "      <td>5072947.2</td>\n",
       "      <td>0.0</td>\n",
       "      <td>21525233.0</td>\n",
       "      <td>0.0</td>\n",
       "      <td>0.0</td>\n",
       "      <td>18834997.5</td>\n",
       "      <td>0.0</td>\n",
       "      <td>18243921.1</td>\n",
       "      <td>0.0</td>\n",
       "      <td>0.0</td>\n",
       "      <td>1792352.6</td>\n",
       "      <td>0.0</td>\n",
       "      <td>19325084.3</td>\n",
       "      <td>0.0</td>\n",
       "      <td>0.0</td>\n",
       "      <td>16720703.9</td>\n",
       "      <td>0.0</td>\n",
       "      <td>16063977.2</td>\n",
       "      <td>0.0</td>\n",
       "      <td>0.0</td>\n",
       "      <td>16502793.1</td>\n",
       "      <td>0.0</td>\n",
       "      <td>18103233.1</td>\n",
       "      <td>0.0</td>\n",
       "      <td>0.0</td>\n",
       "      <td>4761252.5</td>\n",
       "      <td>0.00</td>\n",
       "      <td>15443987.89</td>\n",
       "      <td>0.0</td>\n",
       "      <td>0.0</td>\n",
       "      <td>384432.0</td>\n",
       "      <td>4978751.6</td>\n",
       "      <td>0.00</td>\n",
       "      <td>18580990.45</td>\n",
       "      <td>0.0</td>\n",
       "      <td>0.0</td>\n",
       "      <td>0.0</td>\n",
       "      <td>0.0</td>\n",
       "      <td>0.0</td>\n",
       "      <td>0.0</td>\n",
       "      <td>0.0</td>\n",
       "      <td>12.037588</td>\n",
       "      <td>6.094833</td>\n",
       "      <td>6.328864</td>\n",
       "      <td>6.328864</td>\n",
       "      <td>16.289742</td>\n",
       "      <td>3.605834</td>\n",
       "      <td>14.445734</td>\n",
       "      <td>14.520275</td>\n",
       "      <td>5.383838</td>\n",
       "      <td>5.913956</td>\n",
       "      <td>0.0</td>\n",
       "      <td>12.037588</td>\n",
       "      <td>Office (B)</td>\n",
       "      <td>0.00846</td>\n",
       "      <td>0.00453</td>\n",
       "      <td>0.0014</td>\n",
       "      <td>368590.919486</td>\n",
       "      <td>7.734901e+05</td>\n",
       "      <td>1.095967e+06</td>\n",
       "    </tr>\n",
       "    <tr>\n",
       "      <th>2</th>\n",
       "      <td>8604</td>\n",
       "      <td>Not Applicable: Standalone Property</td>\n",
       "      <td>1009990019</td>\n",
       "      <td>1022667</td>\n",
       "      <td>-73.982504</td>\n",
       "      <td>40.758310</td>\n",
       "      <td>114  West  47th  st</td>\n",
       "      <td>Manhattan</td>\n",
       "      <td>MANHATTAN</td>\n",
       "      <td>10036</td>\n",
       "      <td>125.0</td>\n",
       "      <td>CBECS - Office &amp; Bank/Financial</td>\n",
       "      <td>577534.0</td>\n",
       "      <td>6117997.0</td>\n",
       "      <td>893036.7</td>\n",
       "      <td>10562069.7</td>\n",
       "      <td>0.0</td>\n",
       "      <td>0.0</td>\n",
       "      <td>0.0</td>\n",
       "      <td>7454399.3</td>\n",
       "      <td>950954.5</td>\n",
       "      <td>12554187.8</td>\n",
       "      <td>0.0</td>\n",
       "      <td>0.0</td>\n",
       "      <td>7556580.9</td>\n",
       "      <td>963227.2</td>\n",
       "      <td>13872326.2</td>\n",
       "      <td>0.0</td>\n",
       "      <td>0.0</td>\n",
       "      <td>7556580.9</td>\n",
       "      <td>963227.2</td>\n",
       "      <td>13872326.2</td>\n",
       "      <td>0.0</td>\n",
       "      <td>0.0</td>\n",
       "      <td>23575937.3</td>\n",
       "      <td>374132.2</td>\n",
       "      <td>11999922.1</td>\n",
       "      <td>0.0</td>\n",
       "      <td>0.0</td>\n",
       "      <td>22458268.5</td>\n",
       "      <td>0.0</td>\n",
       "      <td>13630241.8</td>\n",
       "      <td>0.0</td>\n",
       "      <td>0.0</td>\n",
       "      <td>24763842.2</td>\n",
       "      <td>0.0</td>\n",
       "      <td>13666849.5</td>\n",
       "      <td>0.0</td>\n",
       "      <td>0.0</td>\n",
       "      <td>24561684.6</td>\n",
       "      <td>0.0</td>\n",
       "      <td>11027204.8</td>\n",
       "      <td>0.0</td>\n",
       "      <td>0.0</td>\n",
       "      <td>8250752.9</td>\n",
       "      <td>0.00</td>\n",
       "      <td>8128745.79</td>\n",
       "      <td>0.0</td>\n",
       "      <td>0.0</td>\n",
       "      <td>572369.0</td>\n",
       "      <td>8234848.5</td>\n",
       "      <td>0.00</td>\n",
       "      <td>8427500.71</td>\n",
       "      <td>0.0</td>\n",
       "      <td>0.0</td>\n",
       "      <td>0.0</td>\n",
       "      <td>0.0</td>\n",
       "      <td>0.0</td>\n",
       "      <td>0.0</td>\n",
       "      <td>0.0</td>\n",
       "      <td>3.964878</td>\n",
       "      <td>4.793835</td>\n",
       "      <td>4.948636</td>\n",
       "      <td>4.948636</td>\n",
       "      <td>12.763883</td>\n",
       "      <td>12.297099</td>\n",
       "      <td>13.453513</td>\n",
       "      <td>13.147011</td>\n",
       "      <td>4.760548</td>\n",
       "      <td>4.775833</td>\n",
       "      <td>0.0</td>\n",
       "      <td>4.948636</td>\n",
       "      <td>Office (B)</td>\n",
       "      <td>0.00846</td>\n",
       "      <td>0.00453</td>\n",
       "      <td>0.0014</td>\n",
       "      <td>0.000000</td>\n",
       "      <td>6.479605e+04</td>\n",
       "      <td>5.492547e+05</td>\n",
       "    </tr>\n",
       "    <tr>\n",
       "      <th>3</th>\n",
       "      <td>8841</td>\n",
       "      <td>Not Applicable: Standalone Property</td>\n",
       "      <td>1013190047</td>\n",
       "      <td>1037596</td>\n",
       "      <td>-73.972753</td>\n",
       "      <td>40.753074</td>\n",
       "      <td>733  Third  Avenue</td>\n",
       "      <td>Manhattan</td>\n",
       "      <td>MANHATTAN</td>\n",
       "      <td>10017</td>\n",
       "      <td>90.0</td>\n",
       "      <td>CBECS - Office &amp; Bank/Financial</td>\n",
       "      <td>390878.0</td>\n",
       "      <td>4207162.0</td>\n",
       "      <td>804271.7</td>\n",
       "      <td>12357732.6</td>\n",
       "      <td>0.0</td>\n",
       "      <td>0.0</td>\n",
       "      <td>0.0</td>\n",
       "      <td>5421174.0</td>\n",
       "      <td>2142090.3</td>\n",
       "      <td>18573478.8</td>\n",
       "      <td>0.0</td>\n",
       "      <td>0.0</td>\n",
       "      <td>4661846.8</td>\n",
       "      <td>0.0</td>\n",
       "      <td>22276059.2</td>\n",
       "      <td>0.0</td>\n",
       "      <td>0.0</td>\n",
       "      <td>4661846.8</td>\n",
       "      <td>0.0</td>\n",
       "      <td>22276059.2</td>\n",
       "      <td>0.0</td>\n",
       "      <td>0.0</td>\n",
       "      <td>18014414.9</td>\n",
       "      <td>0.0</td>\n",
       "      <td>19681513.4</td>\n",
       "      <td>0.0</td>\n",
       "      <td>0.0</td>\n",
       "      <td>18532127.9</td>\n",
       "      <td>0.0</td>\n",
       "      <td>20378305.2</td>\n",
       "      <td>0.0</td>\n",
       "      <td>0.0</td>\n",
       "      <td>18646515.2</td>\n",
       "      <td>0.0</td>\n",
       "      <td>17846502.3</td>\n",
       "      <td>0.0</td>\n",
       "      <td>0.0</td>\n",
       "      <td>18881260.8</td>\n",
       "      <td>0.0</td>\n",
       "      <td>19383324.9</td>\n",
       "      <td>0.0</td>\n",
       "      <td>0.0</td>\n",
       "      <td>5616847.1</td>\n",
       "      <td>0.00</td>\n",
       "      <td>15923122.79</td>\n",
       "      <td>0.0</td>\n",
       "      <td>0.0</td>\n",
       "      <td>362578.0</td>\n",
       "      <td>5816564.7</td>\n",
       "      <td>0.00</td>\n",
       "      <td>19589843.83</td>\n",
       "      <td>0.0</td>\n",
       "      <td>0.0</td>\n",
       "      <td>0.0</td>\n",
       "      <td>0.0</td>\n",
       "      <td>0.0</td>\n",
       "      <td>0.0</td>\n",
       "      <td>0.0</td>\n",
       "      <td>4.639959</td>\n",
       "      <td>6.433685</td>\n",
       "      <td>6.006887</td>\n",
       "      <td>6.006887</td>\n",
       "      <td>15.579725</td>\n",
       "      <td>16.042545</td>\n",
       "      <td>15.836086</td>\n",
       "      <td>16.186277</td>\n",
       "      <td>5.982637</td>\n",
       "      <td>6.551757</td>\n",
       "      <td>0.0</td>\n",
       "      <td>6.433685</td>\n",
       "      <td>Office (B)</td>\n",
       "      <td>0.00846</td>\n",
       "      <td>0.00453</td>\n",
       "      <td>0.0014</td>\n",
       "      <td>0.000000</td>\n",
       "      <td>1.994211e+05</td>\n",
       "      <td>5.273052e+05</td>\n",
       "    </tr>\n",
       "    <tr>\n",
       "      <th>4</th>\n",
       "      <td>11809</td>\n",
       "      <td>Not Applicable: Standalone Property</td>\n",
       "      <td>1009950005</td>\n",
       "      <td>1085682</td>\n",
       "      <td>-73.986244</td>\n",
       "      <td>40.756181</td>\n",
       "      <td>4 Times Square</td>\n",
       "      <td>Manhattan</td>\n",
       "      <td>MANHATTAN</td>\n",
       "      <td>10036</td>\n",
       "      <td>119.0</td>\n",
       "      <td>CBECS - Office &amp; Bank/Financial</td>\n",
       "      <td>1601977.0</td>\n",
       "      <td>23758868.1</td>\n",
       "      <td>34039087.3</td>\n",
       "      <td>10949895.3</td>\n",
       "      <td>0.0</td>\n",
       "      <td>0.0</td>\n",
       "      <td>0.0</td>\n",
       "      <td>32527065.5</td>\n",
       "      <td>37942740.9</td>\n",
       "      <td>11624187.2</td>\n",
       "      <td>0.0</td>\n",
       "      <td>0.0</td>\n",
       "      <td>32021890.4</td>\n",
       "      <td>37498520.4</td>\n",
       "      <td>14073786.2</td>\n",
       "      <td>0.0</td>\n",
       "      <td>0.0</td>\n",
       "      <td>32021890.4</td>\n",
       "      <td>37498520.4</td>\n",
       "      <td>14073786.2</td>\n",
       "      <td>0.0</td>\n",
       "      <td>0.0</td>\n",
       "      <td>102770873.0</td>\n",
       "      <td>23294956.9</td>\n",
       "      <td>14712271.3</td>\n",
       "      <td>0.0</td>\n",
       "      <td>0.0</td>\n",
       "      <td>109702521.6</td>\n",
       "      <td>37789676.2</td>\n",
       "      <td>15757994.6</td>\n",
       "      <td>0.0</td>\n",
       "      <td>0.0</td>\n",
       "      <td>127046331.8</td>\n",
       "      <td>48148830.4</td>\n",
       "      <td>8553593.9</td>\n",
       "      <td>0.0</td>\n",
       "      <td>0.0</td>\n",
       "      <td>104995940.6</td>\n",
       "      <td>60499692.4</td>\n",
       "      <td>1315992.5</td>\n",
       "      <td>0.0</td>\n",
       "      <td>0.0</td>\n",
       "      <td>31176240.3</td>\n",
       "      <td>69101749.39</td>\n",
       "      <td>19713293.68</td>\n",
       "      <td>0.0</td>\n",
       "      <td>0.0</td>\n",
       "      <td>1601977.0</td>\n",
       "      <td>30350590.8</td>\n",
       "      <td>89536942.19</td>\n",
       "      <td>11587643.94</td>\n",
       "      <td>0.0</td>\n",
       "      <td>0.0</td>\n",
       "      <td>0.0</td>\n",
       "      <td>0.0</td>\n",
       "      <td>0.0</td>\n",
       "      <td>0.0</td>\n",
       "      <td>0.0</td>\n",
       "      <td>5.721184</td>\n",
       "      <td>7.451105</td>\n",
       "      <td>7.413959</td>\n",
       "      <td>7.413959</td>\n",
       "      <td>19.722564</td>\n",
       "      <td>21.482753</td>\n",
       "      <td>24.752577</td>\n",
       "      <td>20.981639</td>\n",
       "      <td>8.467326</td>\n",
       "      <td>8.767983</td>\n",
       "      <td>0.0</td>\n",
       "      <td>7.451105</td>\n",
       "      <td>Office (B)</td>\n",
       "      <td>0.00846</td>\n",
       "      <td>0.00453</td>\n",
       "      <td>0.0014</td>\n",
       "      <td>0.000000</td>\n",
       "      <td>1.254118e+06</td>\n",
       "      <td>2.597920e+06</td>\n",
       "    </tr>\n",
       "  </tbody>\n",
       "</table>\n",
       "</div>"
      ],
      "text/plain": [
       "   property_id                            parent_id         bbl      bin  \\\n",
       "0         7365  Not Applicable: Standalone Property  1009970029  1022631   \n",
       "1         8139  Not Applicable: Standalone Property  1013150001  1037545   \n",
       "2         8604  Not Applicable: Standalone Property  1009990019  1022667   \n",
       "3         8841  Not Applicable: Standalone Property  1013190047  1037596   \n",
       "4        11809  Not Applicable: Standalone Property  1009950005  1085682   \n",
       "\n",
       "   longitude   latitude                          address       city  \\\n",
       "0 -73.982826  40.756631  1155  Avenue  of  the  Americas  Manhattan   \n",
       "1 -73.974306  40.750698             200  East  42nd  St.  Manhattan   \n",
       "2 -73.982504  40.758310              114  West  47th  st  Manhattan   \n",
       "3 -73.972753  40.753074               733  Third  Avenue  Manhattan   \n",
       "4 -73.986244  40.756181                   4 Times Square  Manhattan   \n",
       "\n",
       "     borough postcode  census_tract                    property_type  \\\n",
       "0  MANHATTAN    10036         119.0  CBECS - Office & Bank/Financial   \n",
       "1  MANHATTAN    10017          88.0  CBECS - Office & Bank/Financial   \n",
       "2  MANHATTAN    10036         125.0  CBECS - Office & Bank/Financial   \n",
       "3  MANHATTAN    10017          90.0  CBECS - Office & Bank/Financial   \n",
       "4  MANHATTAN    10036         119.0  CBECS - Office & Bank/Financial   \n",
       "\n",
       "   floor_area_ft  electricity_kwh_2020  natural_gas_kbtu_2020  \\\n",
       "0       686838.0             6508637.9                    0.0   \n",
       "1       384432.0             4198817.0                    0.0   \n",
       "2       577534.0             6117997.0               893036.7   \n",
       "3       390878.0             4207162.0               804271.7   \n",
       "4      1601977.0            23758868.1             34039087.3   \n",
       "\n",
       "   steam_kbtu_2020  fuel_2_kbtu_2020  fuel_4_kbtu_2020  onsite_renewable_kwh  \\\n",
       "0        6414034.1               0.0               0.0                   0.0   \n",
       "1       75992330.6               0.0               0.0                   0.0   \n",
       "2       10562069.7               0.0               0.0                   0.0   \n",
       "3       12357732.6               0.0               0.0                   0.0   \n",
       "4       10949895.3               0.0               0.0                   0.0   \n",
       "\n",
       "   electricity_kwh_2019  natural_gas_kbtu_2019  steam_kbtu_2019  \\\n",
       "0             7478830.4                    0.0        8826445.8   \n",
       "1             5145089.8                    0.0       19058831.0   \n",
       "2             7454399.3               950954.5       12554187.8   \n",
       "3             5421174.0              2142090.3       18573478.8   \n",
       "4            32527065.5             37942740.9       11624187.2   \n",
       "\n",
       "   fuel_2_kbtu_2019  fuel_4_kbtu_2019  electricity_kwh_2018  \\\n",
       "0               0.0               0.0             7032631.5   \n",
       "1               0.0               0.0             5072947.2   \n",
       "2               0.0               0.0             7556580.9   \n",
       "3               0.0               0.0             4661846.8   \n",
       "4               0.0               0.0            32021890.4   \n",
       "\n",
       "   natural_gas_kbtu_2018  steam_kbtu_2018  fuel_2_kbtu_2018  fuel_4_kbtu_2018  \\\n",
       "0                    0.0        7360193.3               0.0               0.0   \n",
       "1                    0.0       21525233.0               0.0               0.0   \n",
       "2               963227.2       13872326.2               0.0               0.0   \n",
       "3                    0.0       22276059.2               0.0               0.0   \n",
       "4             37498520.4       14073786.2               0.0               0.0   \n",
       "\n",
       "   electricity_kwh_2017  natural_gas_kbtu_2017  steam_kbtu_2017  \\\n",
       "0             7032631.5                    0.0        7360193.3   \n",
       "1             5072947.2                    0.0       21525233.0   \n",
       "2             7556580.9               963227.2       13872326.2   \n",
       "3             4661846.8                    0.0       22276059.2   \n",
       "4            32021890.4             37498520.4       14073786.2   \n",
       "\n",
       "   fuel_2_kbtu_2017  fuel_4_kbtu_2017  electricity_kwh_2016  \\\n",
       "0               0.0               0.0            43236898.1   \n",
       "1               0.0               0.0            18834997.5   \n",
       "2               0.0               0.0            23575937.3   \n",
       "3               0.0               0.0            18014414.9   \n",
       "4               0.0               0.0           102770873.0   \n",
       "\n",
       "   natural_gas_kbtu_2016  steam_kbtu_2016  fuel_2_kbtu_2016  fuel_4_kbtu_2016  \\\n",
       "0                    0.0        7884370.6               0.0               0.0   \n",
       "1                    0.0       18243921.1               0.0               0.0   \n",
       "2               374132.2       11999922.1               0.0               0.0   \n",
       "3                    0.0       19681513.4               0.0               0.0   \n",
       "4             23294956.9       14712271.3               0.0               0.0   \n",
       "\n",
       "   electricity_kwh_2015  natural_gas_kbtu_2015  steam_kbtu_2015  \\\n",
       "0            42624239.4                    0.0       10448889.5   \n",
       "1             1792352.6                    0.0       19325084.3   \n",
       "2            22458268.5                    0.0       13630241.8   \n",
       "3            18532127.9                    0.0       20378305.2   \n",
       "4           109702521.6             37789676.2       15757994.6   \n",
       "\n",
       "   fuel_2_kbtu_2015  fuel_4_kbtu_2015  electricity_kwh_2014  \\\n",
       "0               0.0               0.0            35883696.9   \n",
       "1               0.0               0.0            16720703.9   \n",
       "2               0.0               0.0            24763842.2   \n",
       "3               0.0               0.0            18646515.2   \n",
       "4               0.0               0.0           127046331.8   \n",
       "\n",
       "   natural_gas_kbtu_2014  steam_kbtu_2014  fuel_2_kbtu_2014  fuel_4_kbtu_2014  \\\n",
       "0                    0.0        1178826.5               0.0               0.0   \n",
       "1                    0.0       16063977.2               0.0               0.0   \n",
       "2                    0.0       13666849.5               0.0               0.0   \n",
       "3                    0.0       17846502.3               0.0               0.0   \n",
       "4             48148830.4        8553593.9               0.0               0.0   \n",
       "\n",
       "   electricity_kwh_2013  natural_gas_kbtu_2013  steam_kbtu_2013  \\\n",
       "0            43525075.6                    0.0       10833326.3   \n",
       "1            16502793.1                    0.0       18103233.1   \n",
       "2            24561684.6                    0.0       11027204.8   \n",
       "3            18881260.8                    0.0       19383324.9   \n",
       "4           104995940.6             60499692.4        1315992.5   \n",
       "\n",
       "   fuel_2_kbtu_2013  fuel_4_kbtu_2013  electricity_kwh_2012  \\\n",
       "0               0.0               0.0            12606133.4   \n",
       "1               0.0               0.0             4761252.5   \n",
       "2               0.0               0.0             8250752.9   \n",
       "3               0.0               0.0             5616847.1   \n",
       "4               0.0               0.0            31176240.3   \n",
       "\n",
       "   natural_gas_kbtu_2012  steam_kbtu_2012  fuel_2_kbtu_2012  fuel_4_kbtu_2012  \\\n",
       "0                   0.00       7742025.14               0.0               0.0   \n",
       "1                   0.00      15443987.89               0.0               0.0   \n",
       "2                   0.00       8128745.79               0.0               0.0   \n",
       "3                   0.00      15923122.79               0.0               0.0   \n",
       "4            69101749.39      19713293.68               0.0               0.0   \n",
       "\n",
       "   total_floor_space_sq_ft  electricity_kwh_2011  natural_gas_kbtu_2011  \\\n",
       "0                 686902.0            13224515.0                   0.00   \n",
       "1                 384432.0             4978751.6                   0.00   \n",
       "2                 572369.0             8234848.5                   0.00   \n",
       "3                 362578.0             5816564.7                   0.00   \n",
       "4                1601977.0            30350590.8            89536942.19   \n",
       "\n",
       "   steam_kbtu_2011  fuel_2_kbtu_2011  fuel_4_kbtu_2011  electricity_kwh_2010  \\\n",
       "0       8773580.24               0.0               0.0                   0.0   \n",
       "1      18580990.45               0.0               0.0                   0.0   \n",
       "2       8427500.71               0.0               0.0                   0.0   \n",
       "3      19589843.83               0.0               0.0                   0.0   \n",
       "4      11587643.94               0.0               0.0                   0.0   \n",
       "\n",
       "   natural_gas_kbtu_2010  steam_kbtu_2010  fuel_2_kbtu_2010  fuel_4_kbtu_2010  \\\n",
       "0                    0.0              0.0               0.0               0.0   \n",
       "1                    0.0              0.0               0.0               0.0   \n",
       "2                    0.0              0.0               0.0               0.0   \n",
       "3                    0.0              0.0               0.0               0.0   \n",
       "4                    0.0              0.0               0.0               0.0   \n",
       "\n",
       "   emissoins_2020_kgCO2_sf  emissoins_2019_kgCO2_sf  emissoins_2018_kgCO2_sf  \\\n",
       "0                 3.157850                 3.723833                 3.440195   \n",
       "1                12.037588                 6.094833                 6.328864   \n",
       "2                 3.964878                 4.793835                 4.948636   \n",
       "3                 4.639959                 6.433685                 6.006887   \n",
       "4                 5.721184                 7.451105                 7.413959   \n",
       "\n",
       "   emissoins_2017_kgCO2_sf  emissoins_2016_kgCO2_sf  emissoins_2015_kgCO2_sf  \\\n",
       "0                 3.440195                18.706107                18.616113   \n",
       "1                 6.328864                16.289742                 3.605834   \n",
       "2                 4.948636                12.763883                12.297099   \n",
       "3                 6.006887                15.579725                16.042545   \n",
       "4                 7.413959                19.722564                21.482753   \n",
       "\n",
       "   emissoins_2014_kgCO2_sf  emissoins_2013_kgCO2_sf  emissoins_2012_kgCO2_sf  \\\n",
       "0                15.173869                19.020255                 5.810020   \n",
       "1                14.445734                14.520275                 5.383838   \n",
       "2                13.453513                13.147011                 4.760548   \n",
       "3                15.836086                16.186277                 5.982637   \n",
       "4                24.752577                20.981639                 8.467326   \n",
       "\n",
       "   emissoins_2011_kgCO2_sf  emissoins_2010_kgCO2_sf  expected_emissoins  \\\n",
       "0                 6.137662                      0.0            3.723833   \n",
       "1                 5.913956                      0.0           12.037588   \n",
       "2                 4.775833                      0.0            4.948636   \n",
       "3                 6.551757                      0.0            6.433685   \n",
       "4                 8.767983                      0.0            7.451105   \n",
       "\n",
       "  building_class  e_2024_tCO2e_sf  e_2030_tCO2e_sf  e_2050_tCO2e_sf  \\\n",
       "0     Office (B)          0.00846          0.00453           0.0014   \n",
       "1     Office (B)          0.00846          0.00453           0.0014   \n",
       "2     Office (B)          0.00846          0.00453           0.0014   \n",
       "3     Office (B)          0.00846          0.00453           0.0014   \n",
       "4     Office (B)          0.00846          0.00453           0.0014   \n",
       "\n",
       "   estimated_penalty_2024  estimated_penalty_2030  estimated_penalty_2050  \n",
       "0                0.000000            0.000000e+00            4.277539e+05  \n",
       "1           368590.919486            7.734901e+05            1.095967e+06  \n",
       "2                0.000000            6.479605e+04            5.492547e+05  \n",
       "3                0.000000            1.994211e+05            5.273052e+05  \n",
       "4                0.000000            1.254118e+06            2.597920e+06  "
      ]
     },
     "execution_count": 135,
     "metadata": {},
     "output_type": "execute_result"
    }
   ],
   "source": [
    "df_new.head()"
   ]
  },
  {
   "cell_type": "code",
   "execution_count": 136,
   "metadata": {},
   "outputs": [
    {
     "data": {
      "image/png": "[encoded data removed]",
      "text/plain": [
       "<Figure size 432x288 with 1 Axes>"
      ]
     },
     "metadata": {
      "needs_background": "light"
     },
     "output_type": "display_data"
    }
   ],
   "source": [
    "import matplotlib.pyplot as plt\n",
    "plt.hist(df_new.expected_emissoins, bins=50 , range = (0,30), linewidth=2, edgecolor=\"white\",color = '#0000FF')\n",
    "plt.xlabel('Emissions Intensity (kg$CO^{2}$e / $ft^{2}$ / year)')\n",
    "plt.ylabel('Count')\n",
    "plt.savefig('emissions.png', format='png')\n",
    "plt.show()"
   ]
  },
  {
   "cell_type": "code",
   "execution_count": 137,
   "metadata": {},
   "outputs": [
    {
     "data": {
      "image/png": "[encoded data removed]",
      "text/plain": [
       "<Figure size 432x288 with 1 Axes>"
      ]
     },
     "metadata": {
      "needs_background": "light"
     },
     "output_type": "display_data"
    }
   ],
   "source": [
    "import matplotlib.pyplot as plt\n",
    "plt.hist(df_new.estimated_penalty_2024, bins=50 , range = (0,500000), linewidth=2, edgecolor=\"white\",color = '#0000FF')\n",
    "plt.xlabel('Cost ( million $ / year)')\n",
    "plt.ylabel('Count')\n",
    "plt.savefig('penalty_2024.png', format='png')\n",
    "plt.show()"
   ]
  },
  {
   "cell_type": "code",
   "execution_count": 138,
   "metadata": {},
   "outputs": [
    {
     "data": {
      "image/png": "[encoded data removed]",
      "text/plain": [
       "<Figure size 432x288 with 1 Axes>"
      ]
     },
     "metadata": {
      "needs_background": "light"
     },
     "output_type": "display_data"
    }
   ],
   "source": [
    "import matplotlib.pyplot as plt\n",
    "plt.hist(df_new.estimated_penalty_2030, bins=50 , range = (0,500000), linewidth=2, edgecolor=\"white\",color = '#0000FF')\n",
    "plt.xlabel('Cost ( million $ / year)')\n",
    "plt.ylabel('Count')\n",
    "plt.savefig('penalty_2030.png', format='png')\n",
    "plt.show()"
   ]
  },
  {
   "cell_type": "code",
   "execution_count": 139,
   "metadata": {},
   "outputs": [
    {
     "data": {
      "image/png": "[encoded data removed]",
      "text/plain": [
       "<Figure size 432x288 with 1 Axes>"
      ]
     },
     "metadata": {
      "needs_background": "light"
     },
     "output_type": "display_data"
    }
   ],
   "source": [
    "import matplotlib.pyplot as plt\n",
    "plt.hist(df_new.estimated_penalty_2050, bins=50 , range = (0,500000), linewidth=2, edgecolor=\"white\",color = '#0000FF')\n",
    "plt.xlabel('Cost ( million $ / year)')\n",
    "plt.ylabel('Count')\n",
    "plt.savefig('penalty_2050.png', format='png')\n",
    "plt.show()"
   ]
  },
  {
   "cell_type": "code",
   "execution_count": 140,
   "metadata": {},
   "outputs": [
    {
     "data": {
      "image/png": "[encoded data removed]",
      "text/plain": [
       "<Figure size 432x288 with 1 Axes>"
      ]
     },
     "metadata": {
      "needs_background": "light"
     },
     "output_type": "display_data"
    }
   ],
   "source": [
    "import matplotlib.pyplot as plt\n",
    "plt.hist(df_new.estimated_penalty_2050-df_new.estimated_penalty_2024, bins=50 , range = (0,1000000), linewidth=2, edgecolor=\"white\",color = '#0000FF')\n",
    "plt.xlabel('Cost ( million $ / year)')\n",
    "plt.ylabel('Count')\n",
    "plt.savefig('penalty_2050.png', format='png')\n",
    "plt.show()"
   ]
  },
  {
   "cell_type": "code",
   "execution_count": 141,
   "metadata": {
    "scrolled": true
   },
   "outputs": [
    {
     "data": {
      "text/html": [
       "<div>\n",
       "<style scoped>\n",
       "    .dataframe tbody tr th:only-of-type {\n",
       "        vertical-align: middle;\n",
       "    }\n",
       "\n",
       "    .dataframe tbody tr th {\n",
       "        vertical-align: top;\n",
       "    }\n",
       "\n",
       "    .dataframe thead th {\n",
       "        text-align: right;\n",
       "    }\n",
       "</style>\n",
       "<table border=\"1\" class=\"dataframe\">\n",
       "  <thead>\n",
       "    <tr style=\"text-align: right;\">\n",
       "      <th></th>\n",
       "      <th>bbl</th>\n",
       "      <th>bin</th>\n",
       "      <th>longitude</th>\n",
       "      <th>latitude</th>\n",
       "      <th>address</th>\n",
       "      <th>city</th>\n",
       "      <th>borough</th>\n",
       "      <th>postcode</th>\n",
       "      <th>census_tract</th>\n",
       "      <th>building_class</th>\n",
       "      <th>floor_area_ft</th>\n",
       "      <th>emissoins_2020_kgCO2_sf</th>\n",
       "      <th>emissoins_2019_kgCO2_sf</th>\n",
       "      <th>emissoins_2018_kgCO2_sf</th>\n",
       "      <th>emissoins_2017_kgCO2_sf</th>\n",
       "      <th>emissoins_2016_kgCO2_sf</th>\n",
       "      <th>emissoins_2015_kgCO2_sf</th>\n",
       "      <th>emissoins_2014_kgCO2_sf</th>\n",
       "      <th>emissoins_2013_kgCO2_sf</th>\n",
       "      <th>emissoins_2012_kgCO2_sf</th>\n",
       "      <th>emissoins_2011_kgCO2_sf</th>\n",
       "      <th>emissoins_2010_kgCO2_sf</th>\n",
       "      <th>expected_emissoins</th>\n",
       "      <th>estimated_penalty_2024</th>\n",
       "      <th>estimated_penalty_2030</th>\n",
       "      <th>estimated_penalty_2050</th>\n",
       "    </tr>\n",
       "  </thead>\n",
       "  <tbody>\n",
       "    <tr>\n",
       "      <th>0</th>\n",
       "      <td>1009970029</td>\n",
       "      <td>1022631</td>\n",
       "      <td>-73.982826</td>\n",
       "      <td>40.756631</td>\n",
       "      <td>1155  Avenue  of  the  Americas</td>\n",
       "      <td>Manhattan</td>\n",
       "      <td>MANHATTAN</td>\n",
       "      <td>10036</td>\n",
       "      <td>119.0</td>\n",
       "      <td>Office (B)</td>\n",
       "      <td>686838.0</td>\n",
       "      <td>3.157850</td>\n",
       "      <td>3.723833</td>\n",
       "      <td>3.440195</td>\n",
       "      <td>3.440195</td>\n",
       "      <td>18.706107</td>\n",
       "      <td>18.616113</td>\n",
       "      <td>15.173869</td>\n",
       "      <td>19.020255</td>\n",
       "      <td>5.810020</td>\n",
       "      <td>6.137662</td>\n",
       "      <td>0.0</td>\n",
       "      <td>3.723833</td>\n",
       "      <td>0.000000</td>\n",
       "      <td>0.000000e+00</td>\n",
       "      <td>4.277539e+05</td>\n",
       "    </tr>\n",
       "    <tr>\n",
       "      <th>1</th>\n",
       "      <td>1013150001</td>\n",
       "      <td>1037545</td>\n",
       "      <td>-73.974306</td>\n",
       "      <td>40.750698</td>\n",
       "      <td>200  East  42nd  St.</td>\n",
       "      <td>Manhattan</td>\n",
       "      <td>MANHATTAN</td>\n",
       "      <td>10017</td>\n",
       "      <td>88.0</td>\n",
       "      <td>Office (B)</td>\n",
       "      <td>384432.0</td>\n",
       "      <td>12.037588</td>\n",
       "      <td>6.094833</td>\n",
       "      <td>6.328864</td>\n",
       "      <td>6.328864</td>\n",
       "      <td>16.289742</td>\n",
       "      <td>3.605834</td>\n",
       "      <td>14.445734</td>\n",
       "      <td>14.520275</td>\n",
       "      <td>5.383838</td>\n",
       "      <td>5.913956</td>\n",
       "      <td>0.0</td>\n",
       "      <td>12.037588</td>\n",
       "      <td>368590.919486</td>\n",
       "      <td>7.734901e+05</td>\n",
       "      <td>1.095967e+06</td>\n",
       "    </tr>\n",
       "    <tr>\n",
       "      <th>2</th>\n",
       "      <td>1009990019</td>\n",
       "      <td>1022667</td>\n",
       "      <td>-73.982504</td>\n",
       "      <td>40.758310</td>\n",
       "      <td>114  West  47th  st</td>\n",
       "      <td>Manhattan</td>\n",
       "      <td>MANHATTAN</td>\n",
       "      <td>10036</td>\n",
       "      <td>125.0</td>\n",
       "      <td>Office (B)</td>\n",
       "      <td>577534.0</td>\n",
       "      <td>3.964878</td>\n",
       "      <td>4.793835</td>\n",
       "      <td>4.948636</td>\n",
       "      <td>4.948636</td>\n",
       "      <td>12.763883</td>\n",
       "      <td>12.297099</td>\n",
       "      <td>13.453513</td>\n",
       "      <td>13.147011</td>\n",
       "      <td>4.760548</td>\n",
       "      <td>4.775833</td>\n",
       "      <td>0.0</td>\n",
       "      <td>4.948636</td>\n",
       "      <td>0.000000</td>\n",
       "      <td>6.479605e+04</td>\n",
       "      <td>5.492547e+05</td>\n",
       "    </tr>\n",
       "    <tr>\n",
       "      <th>3</th>\n",
       "      <td>1013190047</td>\n",
       "      <td>1037596</td>\n",
       "      <td>-73.972753</td>\n",
       "      <td>40.753074</td>\n",
       "      <td>733  Third  Avenue</td>\n",
       "      <td>Manhattan</td>\n",
       "      <td>MANHATTAN</td>\n",
       "      <td>10017</td>\n",
       "      <td>90.0</td>\n",
       "      <td>Office (B)</td>\n",
       "      <td>390878.0</td>\n",
       "      <td>4.639959</td>\n",
       "      <td>6.433685</td>\n",
       "      <td>6.006887</td>\n",
       "      <td>6.006887</td>\n",
       "      <td>15.579725</td>\n",
       "      <td>16.042545</td>\n",
       "      <td>15.836086</td>\n",
       "      <td>16.186277</td>\n",
       "      <td>5.982637</td>\n",
       "      <td>6.551757</td>\n",
       "      <td>0.0</td>\n",
       "      <td>6.433685</td>\n",
       "      <td>0.000000</td>\n",
       "      <td>1.994211e+05</td>\n",
       "      <td>5.273052e+05</td>\n",
       "    </tr>\n",
       "    <tr>\n",
       "      <th>4</th>\n",
       "      <td>1009950005</td>\n",
       "      <td>1085682</td>\n",
       "      <td>-73.986244</td>\n",
       "      <td>40.756181</td>\n",
       "      <td>4 Times Square</td>\n",
       "      <td>Manhattan</td>\n",
       "      <td>MANHATTAN</td>\n",
       "      <td>10036</td>\n",
       "      <td>119.0</td>\n",
       "      <td>Office (B)</td>\n",
       "      <td>1601977.0</td>\n",
       "      <td>5.721184</td>\n",
       "      <td>7.451105</td>\n",
       "      <td>7.413959</td>\n",
       "      <td>7.413959</td>\n",
       "      <td>19.722564</td>\n",
       "      <td>21.482753</td>\n",
       "      <td>24.752577</td>\n",
       "      <td>20.981639</td>\n",
       "      <td>8.467326</td>\n",
       "      <td>8.767983</td>\n",
       "      <td>0.0</td>\n",
       "      <td>7.451105</td>\n",
       "      <td>0.000000</td>\n",
       "      <td>1.254118e+06</td>\n",
       "      <td>2.597920e+06</td>\n",
       "    </tr>\n",
       "  </tbody>\n",
       "</table>\n",
       "</div>"
      ],
      "text/plain": [
       "          bbl      bin  longitude   latitude                          address  \\\n",
       "0  1009970029  1022631 -73.982826  40.756631  1155  Avenue  of  the  Americas   \n",
       "1  1013150001  1037545 -73.974306  40.750698             200  East  42nd  St.   \n",
       "2  1009990019  1022667 -73.982504  40.758310              114  West  47th  st   \n",
       "3  1013190047  1037596 -73.972753  40.753074               733  Third  Avenue   \n",
       "4  1009950005  1085682 -73.986244  40.756181                   4 Times Square   \n",
       "\n",
       "        city    borough postcode  census_tract building_class  floor_area_ft  \\\n",
       "0  Manhattan  MANHATTAN    10036         119.0     Office (B)       686838.0   \n",
       "1  Manhattan  MANHATTAN    10017          88.0     Office (B)       384432.0   \n",
       "2  Manhattan  MANHATTAN    10036         125.0     Office (B)       577534.0   \n",
       "3  Manhattan  MANHATTAN    10017          90.0     Office (B)       390878.0   \n",
       "4  Manhattan  MANHATTAN    10036         119.0     Office (B)      1601977.0   \n",
       "\n",
       "   emissoins_2020_kgCO2_sf  emissoins_2019_kgCO2_sf  emissoins_2018_kgCO2_sf  \\\n",
       "0                 3.157850                 3.723833                 3.440195   \n",
       "1                12.037588                 6.094833                 6.328864   \n",
       "2                 3.964878                 4.793835                 4.948636   \n",
       "3                 4.639959                 6.433685                 6.006887   \n",
       "4                 5.721184                 7.451105                 7.413959   \n",
       "\n",
       "   emissoins_2017_kgCO2_sf  emissoins_2016_kgCO2_sf  emissoins_2015_kgCO2_sf  \\\n",
       "0                 3.440195                18.706107                18.616113   \n",
       "1                 6.328864                16.289742                 3.605834   \n",
       "2                 4.948636                12.763883                12.297099   \n",
       "3                 6.006887                15.579725                16.042545   \n",
       "4                 7.413959                19.722564                21.482753   \n",
       "\n",
       "   emissoins_2014_kgCO2_sf  emissoins_2013_kgCO2_sf  emissoins_2012_kgCO2_sf  \\\n",
       "0                15.173869                19.020255                 5.810020   \n",
       "1                14.445734                14.520275                 5.383838   \n",
       "2                13.453513                13.147011                 4.760548   \n",
       "3                15.836086                16.186277                 5.982637   \n",
       "4                24.752577                20.981639                 8.467326   \n",
       "\n",
       "   emissoins_2011_kgCO2_sf  emissoins_2010_kgCO2_sf  expected_emissoins  \\\n",
       "0                 6.137662                      0.0            3.723833   \n",
       "1                 5.913956                      0.0           12.037588   \n",
       "2                 4.775833                      0.0            4.948636   \n",
       "3                 6.551757                      0.0            6.433685   \n",
       "4                 8.767983                      0.0            7.451105   \n",
       "\n",
       "   estimated_penalty_2024  estimated_penalty_2030  estimated_penalty_2050  \n",
       "0                0.000000            0.000000e+00            4.277539e+05  \n",
       "1           368590.919486            7.734901e+05            1.095967e+06  \n",
       "2                0.000000            6.479605e+04            5.492547e+05  \n",
       "3                0.000000            1.994211e+05            5.273052e+05  \n",
       "4                0.000000            1.254118e+06            2.597920e+06  "
      ]
     },
     "execution_count": 141,
     "metadata": {},
     "output_type": "execute_result"
    }
   ],
   "source": [
    "df_final = df_new[['bbl', 'bin', 'longitude', 'latitude', 'address', 'city', 'borough', \n",
    "                  'postcode', 'census_tract', 'building_class', 'floor_area_ft', \n",
    "                  'emissoins_2020_kgCO2_sf', 'emissoins_2019_kgCO2_sf', 'emissoins_2018_kgCO2_sf', \n",
    "                  'emissoins_2017_kgCO2_sf', 'emissoins_2016_kgCO2_sf', 'emissoins_2015_kgCO2_sf', \n",
    "                  'emissoins_2014_kgCO2_sf','emissoins_2013_kgCO2_sf', 'emissoins_2012_kgCO2_sf', \n",
    "                  'emissoins_2011_kgCO2_sf', 'emissoins_2010_kgCO2_sf','expected_emissoins', \n",
    "                  'estimated_penalty_2024', 'estimated_penalty_2030', 'estimated_penalty_2050']]\n",
    "\n",
    "df_final.head()"
   ]
  },
  {
   "cell_type": "code",
   "execution_count": 142,
   "metadata": {
    "scrolled": false,
    "slideshow": {
     "slide_type": "slide"
    }
   },
   "outputs": [
    {
     "data": {
      "text/html": [
       "<div>\n",
       "<style scoped>\n",
       "    .dataframe tbody tr th:only-of-type {\n",
       "        vertical-align: middle;\n",
       "    }\n",
       "\n",
       "    .dataframe tbody tr th {\n",
       "        vertical-align: top;\n",
       "    }\n",
       "\n",
       "    .dataframe thead th {\n",
       "        text-align: right;\n",
       "    }\n",
       "</style>\n",
       "<table border=\"1\" class=\"dataframe\">\n",
       "  <thead>\n",
       "    <tr style=\"text-align: right;\">\n",
       "      <th></th>\n",
       "      <th>bin</th>\n",
       "      <th>the_geom</th>\n",
       "      <th>cnstrct_yr</th>\n",
       "    </tr>\n",
       "  </thead>\n",
       "  <tbody>\n",
       "    <tr>\n",
       "      <th>0</th>\n",
       "      <td>3170958</td>\n",
       "      <td>{'type': 'MultiPolygon', 'coordinates': [[[[-7...</td>\n",
       "      <td>1925.0</td>\n",
       "    </tr>\n",
       "    <tr>\n",
       "      <th>1</th>\n",
       "      <td>5028452</td>\n",
       "      <td>{'type': 'MultiPolygon', 'coordinates': [[[[-7...</td>\n",
       "      <td>1965.0</td>\n",
       "    </tr>\n",
       "    <tr>\n",
       "      <th>2</th>\n",
       "      <td>5078368</td>\n",
       "      <td>{'type': 'MultiPolygon', 'coordinates': [[[[-7...</td>\n",
       "      <td>1970.0</td>\n",
       "    </tr>\n",
       "    <tr>\n",
       "      <th>3</th>\n",
       "      <td>3245111</td>\n",
       "      <td>{'type': 'MultiPolygon', 'coordinates': [[[[-7...</td>\n",
       "      <td>1928.0</td>\n",
       "    </tr>\n",
       "    <tr>\n",
       "      <th>4</th>\n",
       "      <td>4161096</td>\n",
       "      <td>{'type': 'MultiPolygon', 'coordinates': [[[[-7...</td>\n",
       "      <td>1950.0</td>\n",
       "    </tr>\n",
       "  </tbody>\n",
       "</table>\n",
       "</div>"
      ],
      "text/plain": [
       "       bin                                           the_geom  cnstrct_yr\n",
       "0  3170958  {'type': 'MultiPolygon', 'coordinates': [[[[-7...      1925.0\n",
       "1  5028452  {'type': 'MultiPolygon', 'coordinates': [[[[-7...      1965.0\n",
       "2  5078368  {'type': 'MultiPolygon', 'coordinates': [[[[-7...      1970.0\n",
       "3  3245111  {'type': 'MultiPolygon', 'coordinates': [[[[-7...      1928.0\n",
       "4  4161096  {'type': 'MultiPolygon', 'coordinates': [[[[-7...      1950.0"
      ]
     },
     "execution_count": 142,
     "metadata": {},
     "output_type": "execute_result"
    }
   ],
   "source": [
    "df_footprint[['bin', 'the_geom', 'cnstrct_yr']].head()"
   ]
  },
  {
   "cell_type": "code",
   "execution_count": 143,
   "metadata": {},
   "outputs": [],
   "source": [
    "df_footprint[\"bin\"] = df_footprint[\"bin\"].astype('str', errors='ignore')\n"
   ]
  },
  {
   "cell_type": "code",
   "execution_count": 144,
   "metadata": {},
   "outputs": [],
   "source": [
    "df_final = df_final.join(df_footprint[['bin', 'the_geom', 'cnstrct_yr']].set_index('bin'), on='bin', how='left')"
   ]
  },
  {
   "cell_type": "code",
   "execution_count": 145,
   "metadata": {},
   "outputs": [
    {
     "data": {
      "text/plain": [
       "38229"
      ]
     },
     "execution_count": 145,
     "metadata": {},
     "output_type": "execute_result"
    }
   ],
   "source": [
    "len(df_final)"
   ]
  },
  {
   "cell_type": "code",
   "execution_count": 146,
   "metadata": {},
   "outputs": [],
   "source": [
    "df_final.to_csv('final_data.csv')"
   ]
  }
 ],
 "metadata": {
  "interpreter": {
   "hash": "1d461b30fc5edc508db32526b337aad33bd293f14f2b02d30461578ede1a81f2"
  },
  "kernelspec": {
   "display_name": "Python 3 (ipykernel)",
   "language": "python",
   "name": "python3"
  },
  "language_info": {
   "codemirror_mode": {
    "name": "ipython",
    "version": 3
   },
   "file_extension": ".py",
   "mimetype": "text/x-python",
   "name": "python",
   "nbconvert_exporter": "python",
   "pygments_lexer": "ipython3",
   "version": "3.9.7"
  }
 },
 "nbformat": 4,
 "nbformat_minor": 2
}
