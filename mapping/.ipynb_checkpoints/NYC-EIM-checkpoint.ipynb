{
 "cells": [
  {
   "cell_type": "markdown",
   "metadata": {
    "slideshow": {
     "slide_type": "slide"
    }
   },
   "source": [
    "## New York City Emissions Intensity Map"
   ]
  },
  {
   "cell_type": "markdown",
   "metadata": {
    "slideshow": {
     "slide_type": "fragment"
    }
   },
   "source": [
    "##### Notebook by [Mohamad Razkenari](https://www.razkenari.com)"
   ]
  },
  {
   "cell_type": "markdown",
   "metadata": {
    "slideshow": {
     "slide_type": "fragment"
    }
   },
   "source": [
    "<img src=\"https://www.urbangreencouncil.org/sites/default/files/landing_page_image.jpg\"/>"
   ]
  },
  {
   "cell_type": "markdown",
   "metadata": {
    "slideshow": {
     "slide_type": "slide"
    }
   },
   "source": [
    "## Introduction"
   ]
  },
  {
   "cell_type": "markdown",
   "metadata": {
    "slideshow": {
     "slide_type": "fragment"
    }
   },
   "source": [
    "\n",
    "To reduce carbon emissions from buildings, the City of New York enacted [Local Law 97 (LL97)](https://www1.nyc.gov/site/sustainablebuildings/ll97/local-law-97.page) in 2019 as a part of the Climate Mobilization Act. This law places carbon caps on most buildings larger than 25,000 square feet—roughly 50,000 residential and commercial properties across NYC. These caps start in 2024 and will become more stringent over time, eventually reducing emissions 80 percent by 2050. This project uses building energy consumption and building characteristics data to calculate the emissions intensity, and compare it with the emissions limit according to building end use classification. Then, maximum penalty for non-compliance is calculated."
   ]
  },
  {
   "cell_type": "markdown",
   "metadata": {
    "slideshow": {
     "slide_type": "subslide"
    }
   },
   "source": [
    ">**Project Objective**: Calculate Emissions Intensity for buildings in New York City, and assess their compliance with Local Law 97.\n",
    "\n",
    "<!-- Here’s what you need to know\n",
    "\n",
    "* Applies to all buildings in NYC greater than 25000 square feet; applicable for approximately 60% residential and 40% commercial buildings\n",
    "* Penalties for non-compliance; maximum penalty is calculated based on the difference between a building’s annual emissions limit and its actual emissions multiplied by 268\n",
    "* A building’s annual emissions limit equals its emissions intensity limit multiplied by its gross floor area\n",
    "* Many buildings are significantly above emissions limits and will require comprehensive retrofits or potentially face millions of dollars in penalties\n",
    "* There are two increasingly stringent phases of limits; first phase takes effect in 2024 and the second occurring in 2030\n",
    "* Emissions intensity limits (metric tons of CO2e per square foot) are set based on 10 building categories defined by Building Code occupancy groups\n",
    "* Renewable energy credits and/or emissions offsets can be used to comply with the caps -->"
   ]
  },
  {
   "cell_type": "markdown",
   "metadata": {
    "slideshow": {
     "slide_type": "skip"
    }
   },
   "source": [
    "## Required libraries\n",
    "This notebook uses several Python packages that come standard with the Anaconda Python distribution. The primary libraries that we'll be using are:\n",
    "\n",
    "* **NumPy**: Provides a fast numerical array structure and helper functions.\n",
    "* **Pandas**: Provides a DataFrame structure to store data in memory and work with it easily and efficiently.\n",
    "* **Scikit-learn**: The essential Machine Learning package in Python.\n",
    "* **Matplotlib**: Basic plotting library in Python; most other Python plotting libraries are built on top of it.\n",
    "* **Seaborn**: Advanced statistical plotting library.\n",
    "* **GeoPandas**: GeoPandas is an open source project to make working with geospatial data in python easier.\n",
    "* **ArcGIS**: Advanced library to convert and manage geographic data, automate spatial workflows, perform advanced spatial analytics.\n",
    "* **Sodapy**: API for getting NYC data.\n",
    "* **folium**: A library to create several types of Leaflet maps"
   ]
  },
  {
   "cell_type": "markdown",
   "metadata": {
    "slideshow": {
     "slide_type": "slide"
    }
   },
   "source": [
    "## Required Datasets"
   ]
  },
  {
   "cell_type": "markdown",
   "metadata": {
    "slideshow": {
     "slide_type": "fragment"
    }
   },
   "source": [
    "**To calculate Emissions Intensity:** Emissions intensity is the total global warming potential per square foot per year, measured in kg CO2e/m2/a\n",
    "* [Energy use benchmarking data](https://data.cityofnewyork.us/Environment/Energy-and-Water-Data-Disclosure-for-Local-Law-84-/usc3-8zwd) (anual energy consumption, including natural gas, electricity, and district steam - NYC Open Data, LL84)    \n",
    "* [Building footprint data](https://data.cityofnewyork.us/Housing-Development/Building-Footprints/nqwf-w8eh) (available in NYC Open Data)\n",
    "* [Building 3D models](https://www1.nyc.gov/site/doitt/initiatives/3d-building.page) (available in NYC Open Data)"
   ]
  },
  {
   "cell_type": "markdown",
   "metadata": {
    "slideshow": {
     "slide_type": "fragment"
    }
   },
   "source": [
    "**To identify Emissions Target:** Emissions limit are specifed in the LL97 based on the building classification for 2024 and 2030. \n",
    "* [Building Use and Characteristics](https://www1.nyc.gov/site/planning/data-maps/open-data/bytes-archive.page?sorts[year]=0) (available in NYC Open Data)"
   ]
  },
  {
   "cell_type": "markdown",
   "metadata": {
    "slideshow": {
     "slide_type": "skip"
    }
   },
   "source": [
    "--\n",
    "<!-- ** Featureset Exploration **\n",
    "\n",
    "* **age**: continuous. \n",
    "* **workclass**: Private, Self-emp-not-inc, Self-emp-inc, Federal-gov, Local-gov, State-gov, Without-pay, Never-worked. \n",
    "* **education**: Bachelors, Some-college, 11th, HS-grad, Prof-school, Assoc-acdm, Assoc-voc, 9th, 7th-8th, 12th, Masters, 1st-4th, 10th, Doctorate, 5th-6th, Preschool. \n",
    "* **education-num**: continuous. \n",
    "* **marital-status**: Married-civ-spouse, Divorced, Never-married, Separated, Widowed, Married-spouse-absent, Married-AF-spouse. \n",
    "* **occupation**: Tech-support, Craft-repair, Other-service, Sales, Exec-managerial, Prof-specialty, Handlers-cleaners, Machine-op-inspct, Adm-clerical, Farming-fishing, Transport-moving, Priv-house-serv, Protective-serv, Armed-Forces. \n",
    "* **relationship**: Wife, Own-child, Husband, Not-in-family, Other-relative, Unmarried. \n",
    "* **race**: Black, White, Asian-Pac-Islander, Amer-Indian-Eskimo, Other. \n",
    "* **sex**: Female, Male. \n",
    "* **capital-gain**: continuous. \n",
    "* **capital-loss**: continuous. \n",
    "* **hours-per-week**: continuous. \n",
    "* **native-country**: United-States, Cambodia, England, Puerto-Rico, Canada, Germany, Outlying-US(Guam-USVI-etc), India, Japan, Greece, South, China, Cuba, Iran, Honduras, Philippines, Italy, Poland, Jamaica, Vietnam, Mexico, Portugal, Ireland, France, Dominican-Republic, Laos, Ecuador, Taiwan, Haiti, Columbia, Hungary, Guatemala, Nicaragua, Scotland, Thailand, Yugoslavia, El-Salvador, Trinadad&Tobago, Peru, Hong, Holand-Netherlands. \n",
    "\n",
    "\n",
    "\n",
    "§ 28-320.3.1 Annual building emissions limits 2024-2029. For calendar years 2024 through\n",
    "2029 the annual building emissions limits for covered buildings shall be calculated pursuant to\n",
    "items 1 through 10 of this section. For the purposes of such calculation the department shall\n",
    "provide a method for converting categories of uses under the United States environmental\n",
    "protection agency Portfolio Manager tool to the equivalent uses and occupancy groups set forth in\n",
    "this section. For a covered building with spaces classified in more than one occupancy group, the\n",
    "annual building emissions limit shall be the sum of the calculated values from items 1 through 10\n",
    "of this paragraph, as applicable for each space.\n",
    "1. For spaces classified as occupancy group A: multiply the building emissions intensity limit\n",
    "of 0.01074 tCO2e/sf by the corresponding gross floor area (sf);\n",
    "2. For spaces classified as occupancy group B other than as described in item 6: multiply the\n",
    "building emissions intensity limit of 0.00846 tCO2e/sf by the corresponding gross floor\n",
    "area (sf);\n",
    "3. For spaces classified as occupancy groups E and I-4: multiply the building emissions\n",
    "intensity limit of 0.00758 tCO2e/sf by the corresponding gross floor area (sf);\n",
    "4. For spaces classified as occupancy group I-1: multiply the building emissions intensity\n",
    "limit of 0.01138 tCO2e/sf by the corresponding gross floor area (sf);\n",
    "10\n",
    "5. For spaces classified as occupancy group F: multiply the building emissions intensity\n",
    "limit of 0.00574 tCO2e/sf by the corresponding gross floor area (sf);\n",
    "6. For spaces classified as occupancy groups B civic administrative facility for emergency\n",
    "response services, B non-production laboratory, Group B ambulatory health care\n",
    "facility, H, I-2 and I-3: multiply the building emissions intensity limit of 0.02381 tCO2e/sf\n",
    "by the corresponding gross floor area (sf);\n",
    "7. For spaces classified as occupancy group M: multiply the building emissions intensity\n",
    "limit of 0.01181 tCO2e/sf by the corresponding gross floor area (sf);\n",
    "8. For spaces classified as occupancy group R-1: multiply the building emissions intensity\n",
    "limit of 0.00987 tCO2e/sf by the corresponding gross floor area (sf);\n",
    "9. For spaces classified as occupancy group R-2: multiply the building emissions intensity\n",
    "limit of 0.00675 tCO2e/sf by the corresponding gross floor area (sf);\n",
    "10. For spaces classified as occupancy groups S and U: multiply the building emissions\n",
    "intensity limit of 0.00426 tCO2e/sf by the corresponding gross floor area (sf).\n",
    "§ 28-320.3.1.1 Greenhouse gas coefficient of energy consumption for calendar years 2024\n",
    "through 2029. The annual building emissions of a covered building in accordance with this\n",
    "section, greenhouse gas emissions shall be calculated as follows for calendar years 2024 through\n",
    "2029:\n",
    "1. Utility electricity consumed on the premises of a covered building that is delivered to the\n",
    "building via the electric grid shall be calculated as generating 0.000288962 tCO2e per\n",
    "kilowatt hour, provided, however, that the department, in consultation with the office of\n",
    "long term planning and sustainability, shall promulgate rules governing the calculation of\n",
    "greenhouse gas emissions for campus-style electric systems that share on-site generation\n",
    "but make use of the utility distribution system and for buildings that are not connected to\n",
    "the utility distribution system.\n",
    "2. Natural gas combusted on the premises of a covered building shall be calculated as\n",
    "generating 0.00005311 tCO2e per kbtu.\n",
    "3. #2 fuel oil combusted on the premises of a covered building shall be calculated as\n",
    "generating 0.00007421 tCO2e per kbtu.\n",
    "4. #4 fuel oil combusted on the premises of a covered building shall be calculated as\n",
    "generating 0.00007529 tCO2e per kbtu.\n",
    "5. District steam consumed on the premises of a covered building shall be calculated as\n",
    "generating 0.00004493tCO2e per kbtu.\n",
    "11\n",
    "6. The amount of greenhouse gas emissions attributable to other energy sources, including\n",
    "but not limited to distributed energy resources, shall be determined by the commissioner\n",
    "and promulgated into rules of the department.\n",
    "§ 28-320.3.2 Building emissions limits for calendar years 2030 through 2034. For calendar\n",
    "years 2030 through 2034 the annual building emissions limits for covered buildings shall be\n",
    "calculated pursuant to items 1 through 10 of this section. For the purposes of such calculation the\n",
    "department shall provide a method for converting categories of uses under the United States\n",
    "environmental protection agency Portfolio Manager tool to the equivalent uses and occupancy\n",
    "groups set forth in this section. For a covered building with spaces classified in more than one\n",
    "occupancy group, the annual building emissions limit shall be the sum of the calculated values\n",
    "from items 1 through 10 of this paragraph, as applicable for each space. The department may\n",
    "establish different limits, set forth in the rules of the department, where the department determines\n",
    "that different limits are feasible and in the public interest. Where such limits are set by rule, the\n",
    "average emission limits for all covered buildings shall not be less restrictive than the average\n",
    "emissions impact of the building emissions limits outlined in items 1 through 10 of this section. The\n",
    "advisory board and the office of long term planning and sustainability shall provide advice and\n",
    "recommendation regarding such limits.\n",
    "1. For spaces classified as occupancy group A: multiply the building emissions intensity limit\n",
    "of 0.00420 tCO2e/sf by the corresponding gross floor area (sf);\n",
    "2. For spaces classified as occupancy group B other than as described in item 6: multiply the\n",
    "building emissions intensity limit of 0.00453 tCO2e/sf by the corresponding gross floor\n",
    "area (sf);\n",
    "3. For spaces classified as occupancy groups E and I-4: multiply the building emissions\n",
    "intensity limit of 0.00344 tCO2e/sf by the corresponding gross floor area (sf);\n",
    "4. For spaces classified as occupancy group I-1: multiply the building emissions intensity\n",
    "limit of 0.00598 tCO2e/sf by the corresponding gross floor area (sf);\n",
    "5. For spaces classified as occupancy group F: multiply the building emissions intensity limit\n",
    "of 0.00167 tCO2e/sf by the corresponding gross floor area (sf);\n",
    "6. For spaces classified as occupancy groups B civic administrative facility for emergency\n",
    "response services, B non-production laboratory, Group B ambulatory health care\n",
    "facility, H, I-2 or I-3: multiply the building emissions intensity limit of 0.01193 tCO2e/sf\n",
    "by the corresponding gross floor area (sf);\n",
    "7. For spaces classified as occupancy group M: multiply the building emissions intensity\n",
    "limit of 0.00403 tCO2e/sf by the corresponding gross floor area (sf);\n",
    "12\n",
    "8. For spaces classified as occupancy group R-1: multiply the building emissions intensity\n",
    "limit of 0.00526 tCO2e/sf by the corresponding gross floor area (sf);\n",
    "9. For spaces classified as occupancy groups R-2: multiply the building emissions intensity\n",
    "limit of 0.00407 tCO2e/sf by the corresponding gross floor area (sf);\n",
    "10. For spaces classified as occupancy groups S and U: multiply the building emissions\n",
    "intensity limit of 0.00110 tCO2e/sf by the corresponding gross floor area (sf).\n",
    "§ 28-320.3.2.1 Greenhouse gas coefficients of energy consumption for calendar years 2030\n",
    "through 2034. For the purposes of calculating the annual building emissions of a covered\n",
    "building in accordance with this section, the amount of greenhouse gas emissions attributed to\n",
    "particular energy sources shall be determined by the commissioner and promulgated into rules of\n",
    "the department by no later than January 1, 2023. The commissioner shall consult with the advisory\n",
    "board required by this article to develop such greenhouse gas coefficients for utility electricity\n",
    "consumption. When developing such coefficient, the commissioner shall consider factors\n",
    "including, but not limited to, the best available New York state energy research and development\n",
    "authority and State Energy Plan forecasts for Zone J for the end of the compliance period and\n",
    "beneficial electrification.\n",
    "§ 28-320.3.4 Building emissions limits for calendar years 2035 through 2050. No later than\n",
    "January 1, 2023, the commissioner shall establish by rule annual building emissions limits and\n",
    "building emissions intensity limits applicable for calendar years 2035 through 2039 and building\n",
    "emissions limits and building emissions intensity limits applicable for calendar years 2040\n",
    "through 2049. Such limits shall be set to achieve an average building emissions intensity for all\n",
    "covered buildings of no more than 0.0014 tCO2e/sf/yr by 2050.\n",
    "\n",
    "-->"
   ]
  },
  {
   "cell_type": "markdown",
   "metadata": {},
   "source": [
    "### Import Packages"
   ]
  },
  {
   "cell_type": "code",
   "execution_count": 1,
   "metadata": {
    "slideshow": {
     "slide_type": "skip"
    }
   },
   "outputs": [],
   "source": [
    "# Install and Import packages in the current Jupyter kernel\n",
    "\n",
    "import sys\n",
    "import os\n",
    "\n",
    "# !{sys.executable} -m pip install numpy pandas scikit-learn matplotlib seaborn arcgis sodapy folium pyspark\n",
    "# !conda install --yes --prefix {sys.prefix} geopandas\n",
    "\n",
    "import pandas as pd\n",
    "import numpy as np\n",
    "from sodapy import Socrata\n",
    "\n",
    "from arcgis import GIS\n",
    "from arcgis.geocoding import geocode\n",
    "from arcgis.geometry import lengths, areas_and_lengths, project\n",
    "from arcgis.geometry import Point, Polyline, Polygon, Geometry\n",
    "import geopandas\n",
    "import folium\n",
    "import pickle"
   ]
  },
  {
   "cell_type": "markdown",
   "metadata": {},
   "source": [
    "### Import and Prepare Data"
   ]
  },
  {
   "cell_type": "code",
   "execution_count": 95,
   "metadata": {
    "slideshow": {
     "slide_type": "skip"
    }
   },
   "outputs": [],
   "source": [
    "# Data ID from NYC OPEN DATA\n",
    "dic_id = {\n",
    "    'consumption_2020' : 'usc3-8zwd' ,  #building consumption 2020\n",
    "    'consumption_2019' : 'wcm8-aq5w' , #building consumption 2019\n",
    "    'consumption_2018' : '4tys-3tzj' , #building consumption 2018\n",
    "    'consumption_2017' : '4tys-3tzj' , #building consumption 2017\n",
    "    'consumption_2016' : 'utpj-74fz' , #building consumption 2016\n",
    "    'consumption_2015' : '77q4-nkfh' , #building consumption 2015\n",
    "    'consumption_2014' : 'nbun-wekj' , #building consumption 2014\n",
    "    'consumption_2013' : 'yr5p-wjer' , #building consumption 2013\n",
    "    'consumption_2012' : 'r6ub-zhff' , #building consumption 2012\n",
    "    'consumption_2011' : 'k7nh-aufb' , #building consumption 2011\n",
    "    'consumption_2010' : 'kswi-37bp' , #building consumption 2010\n",
    "    'footprint' : 'qb5r-6dgf' , #building foorprint coordinates\n",
    "    'points' : '7w4b-tj9d' , #building coordinates\n",
    "    'pluto' : '64uk-42ks' , #Primary Land Use Tax Lot Output\n",
    "    'pluto_change' : 'qt5r-nqxp' , #PLUTO changes\n",
    "    }"
   ]
  },
  {
   "cell_type": "code",
   "execution_count": 96,
   "metadata": {},
   "outputs": [
    {
     "name": "stderr",
     "output_type": "stream",
     "text": [
      "WARNING:root:Requests made without an app_token will be subject to strict throttling limits.\n"
     ]
    }
   ],
   "source": [
    "socrata_domain = 'data.cityofnewyork.us'\n",
    "socrata_token = os.environ.get(\"x52Wi0DHBQrk0WqZu2yTkQsnc\")\n",
    "client = Socrata(socrata_domain, socrata_token)"
   ]
  },
  {
   "cell_type": "code",
   "execution_count": 258,
   "metadata": {},
   "outputs": [],
   "source": [
    "\"\"\"\n",
    "# RUN ONLY ONCE TO STORE THE DATA LOCALLY\n",
    "\n",
    "def store_data(df_name, api_id):\n",
    "    json_data = client.get_all(api_id) # to get all data\n",
    "    df = pd.DataFrame.from_dict(json_data)\n",
    "    df.to_csv(df_name+'.csv')\n",
    "    print(df_name+' was stored.')\n",
    "    return\n",
    "\n",
    "for key, value in dic_id.items():\n",
    "    store_data(key, value)\n",
    "\n",
    "\"\"\""
   ]
  },
  {
   "cell_type": "code",
   "execution_count": 159,
   "metadata": {},
   "outputs": [
    {
     "name": "stdout",
     "output_type": "stream",
     "text": [
      "df_consumption_2020 was loaded.\n",
      "df_consumption_2019 was loaded.\n",
      "df_consumption_2018 was loaded.\n",
      "df_consumption_2017 was loaded.\n",
      "df_consumption_2016 was loaded.\n",
      "df_consumption_2015 was loaded.\n",
      "df_consumption_2014 was loaded.\n",
      "df_consumption_2013 was loaded.\n",
      "df_consumption_2012 was loaded.\n",
      "df_consumption_2011 was loaded.\n"
     ]
    },
    {
     "name": "stderr",
     "output_type": "stream",
     "text": [
      "C:\\Users\\marazken\\Anaconda3\\lib\\site-packages\\numpy\\lib\\arraysetops.py:583: FutureWarning: elementwise comparison failed; returning scalar instead, but in the future will perform elementwise comparison\n",
      "  mask |= (ar1 == a)\n"
     ]
    },
    {
     "name": "stdout",
     "output_type": "stream",
     "text": [
      "df_footprint was loaded.\n",
      "df_points was loaded.\n",
      "df_pluto was loaded.\n",
      "df_pluto_change was loaded.\n"
     ]
    }
   ],
   "source": [
    "# RUN TO LOAD DATA\n",
    "\n",
    "for key, value in dic_id.items():\n",
    "    exec(f\"df_{key}\" + f\" = pd.read_csv('{key}\" + \".csv', index_col=[0], low_memory=False)\")\n",
    "    print('df_'+key+' was loaded.')"
   ]
  },
  {
   "cell_type": "code",
   "execution_count": null,
   "metadata": {},
   "outputs": [],
   "source": [
    "pd.set_option(\"display.max_columns\", None)"
   ]
  },
  {
   "cell_type": "code",
   "execution_count": 162,
   "metadata": {
    "scrolled": true,
    "slideshow": {
     "slide_type": "skip"
    }
   },
   "outputs": [
    {
     "data": {
      "text/html": [
       "<div>\n",
       "<style scoped>\n",
       "    .dataframe tbody tr th:only-of-type {\n",
       "        vertical-align: middle;\n",
       "    }\n",
       "\n",
       "    .dataframe tbody tr th {\n",
       "        vertical-align: top;\n",
       "    }\n",
       "\n",
       "    .dataframe thead th {\n",
       "        text-align: right;\n",
       "    }\n",
       "</style>\n",
       "<table border=\"1\" class=\"dataframe\">\n",
       "  <thead>\n",
       "    <tr style=\"text-align: right;\">\n",
       "      <th></th>\n",
       "      <th>building_id_espm</th>\n",
       "      <th>bbl10</th>\n",
       "      <th>facility_name</th>\n",
       "      <th>rating</th>\n",
       "      <th>address_1</th>\n",
       "      <th>city</th>\n",
       "      <th>postcode</th>\n",
       "      <th>county</th>\n",
       "      <th>total_floor_space_sq_ft</th>\n",
       "      <th>year_built</th>\n",
       "      <th>...</th>\n",
       "      <th>senior_care_facility_workers</th>\n",
       "      <th>hospital_number_of_buildings</th>\n",
       "      <th>current_site_pdu_input_energy</th>\n",
       "      <th>outdoor_water_use_kgal</th>\n",
       "      <th>current_total_on_site</th>\n",
       "      <th>percent_of_electricity_from</th>\n",
       "      <th>temporary_data_flag_1</th>\n",
       "      <th>warehouse_refrigerated_gross</th>\n",
       "      <th>warehouse_refrigerated_weekly</th>\n",
       "      <th>warehouse_refrigerated_workers</th>\n",
       "    </tr>\n",
       "  </thead>\n",
       "  <tbody>\n",
       "    <tr>\n",
       "      <th>0</th>\n",
       "      <td>1261451</td>\n",
       "      <td>1000047501</td>\n",
       "      <td>1 NY Plaza</td>\n",
       "      <td>60.0</td>\n",
       "      <td>One New York Plaza</td>\n",
       "      <td>New York</td>\n",
       "      <td>10004</td>\n",
       "      <td>NEW YORK</td>\n",
       "      <td>2428325.0</td>\n",
       "      <td>1970.0</td>\n",
       "      <td>...</td>\n",
       "      <td>NaN</td>\n",
       "      <td>NaN</td>\n",
       "      <td>NaN</td>\n",
       "      <td>NaN</td>\n",
       "      <td>NaN</td>\n",
       "      <td>NaN</td>\n",
       "      <td>NaN</td>\n",
       "      <td>NaN</td>\n",
       "      <td>NaN</td>\n",
       "      <td>NaN</td>\n",
       "    </tr>\n",
       "    <tr>\n",
       "      <th>1</th>\n",
       "      <td>2712342</td>\n",
       "      <td>1000057501</td>\n",
       "      <td>Cushman &amp;</td>\n",
       "      <td>77.0</td>\n",
       "      <td>125 Broad Street Condo</td>\n",
       "      <td>New York</td>\n",
       "      <td>10004</td>\n",
       "      <td>NEW YORK</td>\n",
       "      <td>1338000.0</td>\n",
       "      <td>1970.0</td>\n",
       "      <td>...</td>\n",
       "      <td>NaN</td>\n",
       "      <td>NaN</td>\n",
       "      <td>NaN</td>\n",
       "      <td>NaN</td>\n",
       "      <td>NaN</td>\n",
       "      <td>NaN</td>\n",
       "      <td>NaN</td>\n",
       "      <td>NaN</td>\n",
       "      <td>NaN</td>\n",
       "      <td>NaN</td>\n",
       "    </tr>\n",
       "    <tr>\n",
       "      <th>2</th>\n",
       "      <td>3116386</td>\n",
       "      <td>1000077501</td>\n",
       "      <td>Kumquat Pr</td>\n",
       "      <td>0.0</td>\n",
       "      <td>66 Pearl Street, NYC 10004</td>\n",
       "      <td>New York</td>\n",
       "      <td>10004</td>\n",
       "      <td>NEW YORK</td>\n",
       "      <td>79282.0</td>\n",
       "      <td>1920.0</td>\n",
       "      <td>...</td>\n",
       "      <td>NaN</td>\n",
       "      <td>NaN</td>\n",
       "      <td>NaN</td>\n",
       "      <td>NaN</td>\n",
       "      <td>NaN</td>\n",
       "      <td>NaN</td>\n",
       "      <td>NaN</td>\n",
       "      <td>NaN</td>\n",
       "      <td>NaN</td>\n",
       "      <td>NaN</td>\n",
       "    </tr>\n",
       "    <tr>\n",
       "      <th>3</th>\n",
       "      <td>2792771</td>\n",
       "      <td>1000087501</td>\n",
       "      <td>Whitehall</td>\n",
       "      <td>0.0</td>\n",
       "      <td>2 Water Street</td>\n",
       "      <td>New York</td>\n",
       "      <td>10004</td>\n",
       "      <td>NEW YORK</td>\n",
       "      <td>169055.0</td>\n",
       "      <td>1985.0</td>\n",
       "      <td>...</td>\n",
       "      <td>NaN</td>\n",
       "      <td>NaN</td>\n",
       "      <td>NaN</td>\n",
       "      <td>NaN</td>\n",
       "      <td>NaN</td>\n",
       "      <td>NaN</td>\n",
       "      <td>NaN</td>\n",
       "      <td>NaN</td>\n",
       "      <td>NaN</td>\n",
       "      <td>NaN</td>\n",
       "    </tr>\n",
       "    <tr>\n",
       "      <th>4</th>\n",
       "      <td>2897761</td>\n",
       "      <td>1000090001</td>\n",
       "      <td>Wolfson Group 1 State Street</td>\n",
       "      <td>23.0</td>\n",
       "      <td>1 State Street</td>\n",
       "      <td>New York</td>\n",
       "      <td>10004</td>\n",
       "      <td>NEW YORK</td>\n",
       "      <td>852840.0</td>\n",
       "      <td>1969.0</td>\n",
       "      <td>...</td>\n",
       "      <td>NaN</td>\n",
       "      <td>NaN</td>\n",
       "      <td>NaN</td>\n",
       "      <td>NaN</td>\n",
       "      <td>NaN</td>\n",
       "      <td>NaN</td>\n",
       "      <td>NaN</td>\n",
       "      <td>NaN</td>\n",
       "      <td>NaN</td>\n",
       "      <td>NaN</td>\n",
       "    </tr>\n",
       "  </tbody>\n",
       "</table>\n",
       "<p>5 rows × 204 columns</p>\n",
       "</div>"
      ],
      "text/plain": [
       "  building_id_espm       bbl10                 facility_name  rating  \\\n",
       "0          1261451  1000047501                    1 NY Plaza    60.0   \n",
       "1          2712342  1000057501                     Cushman &    77.0   \n",
       "2          3116386  1000077501                    Kumquat Pr     0.0   \n",
       "3          2792771  1000087501                     Whitehall     0.0   \n",
       "4          2897761  1000090001  Wolfson Group 1 State Street    23.0   \n",
       "\n",
       "                    address_1      city  postcode    county  \\\n",
       "0          One New York Plaza  New York     10004  NEW YORK   \n",
       "1      125 Broad Street Condo  New York     10004  NEW YORK   \n",
       "2  66 Pearl Street, NYC 10004  New York     10004  NEW YORK   \n",
       "3              2 Water Street  New York     10004  NEW YORK   \n",
       "4              1 State Street  New York     10004  NEW YORK   \n",
       "\n",
       "   total_floor_space_sq_ft  year_built  ... senior_care_facility_workers  \\\n",
       "0                2428325.0      1970.0  ...                          NaN   \n",
       "1                1338000.0      1970.0  ...                          NaN   \n",
       "2                  79282.0      1920.0  ...                          NaN   \n",
       "3                 169055.0      1985.0  ...                          NaN   \n",
       "4                 852840.0      1969.0  ...                          NaN   \n",
       "\n",
       "  hospital_number_of_buildings current_site_pdu_input_energy  \\\n",
       "0                          NaN                           NaN   \n",
       "1                          NaN                           NaN   \n",
       "2                          NaN                           NaN   \n",
       "3                          NaN                           NaN   \n",
       "4                          NaN                           NaN   \n",
       "\n",
       "  outdoor_water_use_kgal current_total_on_site percent_of_electricity_from  \\\n",
       "0                    NaN                   NaN                         NaN   \n",
       "1                    NaN                   NaN                         NaN   \n",
       "2                    NaN                   NaN                         NaN   \n",
       "3                    NaN                   NaN                         NaN   \n",
       "4                    NaN                   NaN                         NaN   \n",
       "\n",
       "   temporary_data_flag_1  warehouse_refrigerated_gross  \\\n",
       "0                    NaN                           NaN   \n",
       "1                    NaN                           NaN   \n",
       "2                    NaN                           NaN   \n",
       "3                    NaN                           NaN   \n",
       "4                    NaN                           NaN   \n",
       "\n",
       "  warehouse_refrigerated_weekly  warehouse_refrigerated_workers  \n",
       "0                           NaN                             NaN  \n",
       "1                           NaN                             NaN  \n",
       "2                           NaN                             NaN  \n",
       "3                           NaN                             NaN  \n",
       "4                           NaN                             NaN  \n",
       "\n",
       "[5 rows x 204 columns]"
      ]
     },
     "execution_count": 162,
     "metadata": {},
     "output_type": "execute_result"
    }
   ],
   "source": [
    "df_consumption_2011.head()"
   ]
  },
  {
   "cell_type": "code",
   "execution_count": 163,
   "metadata": {},
   "outputs": [
    {
     "data": {
      "text/html": [
       "<div>\n",
       "<style scoped>\n",
       "    .dataframe tbody tr th:only-of-type {\n",
       "        vertical-align: middle;\n",
       "    }\n",
       "\n",
       "    .dataframe tbody tr th {\n",
       "        vertical-align: top;\n",
       "    }\n",
       "\n",
       "    .dataframe thead th {\n",
       "        text-align: right;\n",
       "    }\n",
       "</style>\n",
       "<table border=\"1\" class=\"dataframe\">\n",
       "  <thead>\n",
       "    <tr style=\"text-align: right;\">\n",
       "      <th></th>\n",
       "      <th>borough</th>\n",
       "      <th>block</th>\n",
       "      <th>lot</th>\n",
       "      <th>cd</th>\n",
       "      <th>ct2010</th>\n",
       "      <th>cb2010</th>\n",
       "      <th>schooldist</th>\n",
       "      <th>council</th>\n",
       "      <th>zipcode</th>\n",
       "      <th>firecomp</th>\n",
       "      <th>...</th>\n",
       "      <th>zonedist2</th>\n",
       "      <th>zmcode</th>\n",
       "      <th>histdist</th>\n",
       "      <th>dcpedited</th>\n",
       "      <th>ltdheight</th>\n",
       "      <th>landmark</th>\n",
       "      <th>overlay2</th>\n",
       "      <th>spdist2</th>\n",
       "      <th>zonedist3</th>\n",
       "      <th>zonedist4</th>\n",
       "    </tr>\n",
       "  </thead>\n",
       "  <tbody>\n",
       "    <tr>\n",
       "      <th>0</th>\n",
       "      <td>MN</td>\n",
       "      <td>563</td>\n",
       "      <td>7502</td>\n",
       "      <td>102.0</td>\n",
       "      <td>61.0</td>\n",
       "      <td>2000.0</td>\n",
       "      <td>2.0</td>\n",
       "      <td>2.0</td>\n",
       "      <td>10003.0</td>\n",
       "      <td>L003</td>\n",
       "      <td>...</td>\n",
       "      <td>NaN</td>\n",
       "      <td>NaN</td>\n",
       "      <td>NaN</td>\n",
       "      <td>NaN</td>\n",
       "      <td>NaN</td>\n",
       "      <td>NaN</td>\n",
       "      <td>NaN</td>\n",
       "      <td>NaN</td>\n",
       "      <td>NaN</td>\n",
       "      <td>NaN</td>\n",
       "    </tr>\n",
       "    <tr>\n",
       "      <th>1</th>\n",
       "      <td>BK</td>\n",
       "      <td>7133</td>\n",
       "      <td>65</td>\n",
       "      <td>315.0</td>\n",
       "      <td>392.0</td>\n",
       "      <td>1003.0</td>\n",
       "      <td>21.0</td>\n",
       "      <td>47.0</td>\n",
       "      <td>11223.0</td>\n",
       "      <td>E254</td>\n",
       "      <td>...</td>\n",
       "      <td>NaN</td>\n",
       "      <td>NaN</td>\n",
       "      <td>NaN</td>\n",
       "      <td>NaN</td>\n",
       "      <td>NaN</td>\n",
       "      <td>NaN</td>\n",
       "      <td>NaN</td>\n",
       "      <td>NaN</td>\n",
       "      <td>NaN</td>\n",
       "      <td>NaN</td>\n",
       "    </tr>\n",
       "    <tr>\n",
       "      <th>2</th>\n",
       "      <td>BK</td>\n",
       "      <td>7153</td>\n",
       "      <td>53</td>\n",
       "      <td>315.0</td>\n",
       "      <td>388.0</td>\n",
       "      <td>2002.0</td>\n",
       "      <td>21.0</td>\n",
       "      <td>47.0</td>\n",
       "      <td>11223.0</td>\n",
       "      <td>E254</td>\n",
       "      <td>...</td>\n",
       "      <td>NaN</td>\n",
       "      <td>NaN</td>\n",
       "      <td>NaN</td>\n",
       "      <td>NaN</td>\n",
       "      <td>NaN</td>\n",
       "      <td>NaN</td>\n",
       "      <td>NaN</td>\n",
       "      <td>NaN</td>\n",
       "      <td>NaN</td>\n",
       "      <td>NaN</td>\n",
       "    </tr>\n",
       "    <tr>\n",
       "      <th>3</th>\n",
       "      <td>QN</td>\n",
       "      <td>6865</td>\n",
       "      <td>402</td>\n",
       "      <td>408.0</td>\n",
       "      <td>450.0</td>\n",
       "      <td>1002.0</td>\n",
       "      <td>28.0</td>\n",
       "      <td>24.0</td>\n",
       "      <td>11432.0</td>\n",
       "      <td>E315</td>\n",
       "      <td>...</td>\n",
       "      <td>NaN</td>\n",
       "      <td>NaN</td>\n",
       "      <td>NaN</td>\n",
       "      <td>NaN</td>\n",
       "      <td>NaN</td>\n",
       "      <td>NaN</td>\n",
       "      <td>NaN</td>\n",
       "      <td>NaN</td>\n",
       "      <td>NaN</td>\n",
       "      <td>NaN</td>\n",
       "    </tr>\n",
       "    <tr>\n",
       "      <th>4</th>\n",
       "      <td>QN</td>\n",
       "      <td>8658</td>\n",
       "      <td>14</td>\n",
       "      <td>413.0</td>\n",
       "      <td>1617.0</td>\n",
       "      <td>1013.0</td>\n",
       "      <td>26.0</td>\n",
       "      <td>23.0</td>\n",
       "      <td>11426.0</td>\n",
       "      <td>L162</td>\n",
       "      <td>...</td>\n",
       "      <td>NaN</td>\n",
       "      <td>NaN</td>\n",
       "      <td>NaN</td>\n",
       "      <td>NaN</td>\n",
       "      <td>NaN</td>\n",
       "      <td>NaN</td>\n",
       "      <td>NaN</td>\n",
       "      <td>NaN</td>\n",
       "      <td>NaN</td>\n",
       "      <td>NaN</td>\n",
       "    </tr>\n",
       "  </tbody>\n",
       "</table>\n",
       "<p>5 rows × 88 columns</p>\n",
       "</div>"
      ],
      "text/plain": [
       "  borough  block   lot     cd  ct2010  cb2010  schooldist  council  zipcode  \\\n",
       "0      MN    563  7502  102.0    61.0  2000.0         2.0      2.0  10003.0   \n",
       "1      BK   7133    65  315.0   392.0  1003.0        21.0     47.0  11223.0   \n",
       "2      BK   7153    53  315.0   388.0  2002.0        21.0     47.0  11223.0   \n",
       "3      QN   6865   402  408.0   450.0  1002.0        28.0     24.0  11432.0   \n",
       "4      QN   8658    14  413.0  1617.0  1013.0        26.0     23.0  11426.0   \n",
       "\n",
       "  firecomp  ...  zonedist2  zmcode  histdist dcpedited ltdheight landmark  \\\n",
       "0     L003  ...        NaN     NaN       NaN       NaN       NaN      NaN   \n",
       "1     E254  ...        NaN     NaN       NaN       NaN       NaN      NaN   \n",
       "2     E254  ...        NaN     NaN       NaN       NaN       NaN      NaN   \n",
       "3     E315  ...        NaN     NaN       NaN       NaN       NaN      NaN   \n",
       "4     L162  ...        NaN     NaN       NaN       NaN       NaN      NaN   \n",
       "\n",
       "  overlay2 spdist2  zonedist3  zonedist4  \n",
       "0      NaN     NaN        NaN        NaN  \n",
       "1      NaN     NaN        NaN        NaN  \n",
       "2      NaN     NaN        NaN        NaN  \n",
       "3      NaN     NaN        NaN        NaN  \n",
       "4      NaN     NaN        NaN        NaN  \n",
       "\n",
       "[5 rows x 88 columns]"
      ]
     },
     "execution_count": 163,
     "metadata": {},
     "output_type": "execute_result"
    }
   ],
   "source": [
    "df_pluto.head()"
   ]
  },
  {
   "cell_type": "code",
   "execution_count": 165,
   "metadata": {},
   "outputs": [
    {
     "data": {
      "text/html": [
       "<div>\n",
       "<style scoped>\n",
       "    .dataframe tbody tr th:only-of-type {\n",
       "        vertical-align: middle;\n",
       "    }\n",
       "\n",
       "    .dataframe tbody tr th {\n",
       "        vertical-align: top;\n",
       "    }\n",
       "\n",
       "    .dataframe thead th {\n",
       "        text-align: right;\n",
       "    }\n",
       "</style>\n",
       "<table border=\"1\" class=\"dataframe\">\n",
       "  <thead>\n",
       "    <tr style=\"text-align: right;\">\n",
       "      <th></th>\n",
       "      <th>property_id</th>\n",
       "      <th>property_name</th>\n",
       "      <th>parent_property_id</th>\n",
       "      <th>parent_property_name</th>\n",
       "      <th>year_ending</th>\n",
       "      <th>nyc_borough_block_and_lot_bbl</th>\n",
       "      <th>nyc_building_identification_number_bin</th>\n",
       "      <th>address_1</th>\n",
       "      <th>city</th>\n",
       "      <th>postcode</th>\n",
       "      <th>...</th>\n",
       "      <th>number_of_active_it_meters</th>\n",
       "      <th>generation_date</th>\n",
       "      <th>release_date</th>\n",
       "      <th>borough</th>\n",
       "      <th>community_board</th>\n",
       "      <th>council_district</th>\n",
       "      <th>census_tract</th>\n",
       "      <th>nta</th>\n",
       "      <th>longitude</th>\n",
       "      <th>latitude</th>\n",
       "    </tr>\n",
       "  </thead>\n",
       "  <tbody>\n",
       "    <tr>\n",
       "      <th>0</th>\n",
       "      <td>7365</td>\n",
       "      <td>1155</td>\n",
       "      <td>Not Applicable: Standalone Property</td>\n",
       "      <td>Not Applicable: Standalone Property</td>\n",
       "      <td>2020-12-31T00:00:00.000</td>\n",
       "      <td>1009970029</td>\n",
       "      <td>1022631</td>\n",
       "      <td>1155  Avenue  of  the  Americas</td>\n",
       "      <td>Manhattan</td>\n",
       "      <td>10036</td>\n",
       "      <td>...</td>\n",
       "      <td>0</td>\n",
       "      <td>2021-05-20T14:43:12.000</td>\n",
       "      <td>2021-05-20T14:44:16.000</td>\n",
       "      <td>MANHATTAN</td>\n",
       "      <td>105.0</td>\n",
       "      <td>4.0</td>\n",
       "      <td>119.0</td>\n",
       "      <td>Midtown-Midtown South</td>\n",
       "      <td>-73.982826</td>\n",
       "      <td>40.756631</td>\n",
       "    </tr>\n",
       "    <tr>\n",
       "      <th>1</th>\n",
       "      <td>8139</td>\n",
       "      <td>200</td>\n",
       "      <td>Not Applicable: Standalone Property</td>\n",
       "      <td>Not Applicable: Standalone Property</td>\n",
       "      <td>2020-12-31T00:00:00.000</td>\n",
       "      <td>1013150001</td>\n",
       "      <td>1037545</td>\n",
       "      <td>200  East  42nd  St.</td>\n",
       "      <td>Manhattan</td>\n",
       "      <td>10017</td>\n",
       "      <td>...</td>\n",
       "      <td>0</td>\n",
       "      <td>2021-05-20T14:43:12.000</td>\n",
       "      <td>2021-05-20T14:44:16.000</td>\n",
       "      <td>MANHATTAN</td>\n",
       "      <td>106.0</td>\n",
       "      <td>4.0</td>\n",
       "      <td>88.0</td>\n",
       "      <td>Turtle Bay-East Midtown</td>\n",
       "      <td>-73.974306</td>\n",
       "      <td>40.750698</td>\n",
       "    </tr>\n",
       "    <tr>\n",
       "      <th>2</th>\n",
       "      <td>8604</td>\n",
       "      <td>114</td>\n",
       "      <td>Not Applicable: Standalone Property</td>\n",
       "      <td>Not Applicable: Standalone Property</td>\n",
       "      <td>2020-12-31T00:00:00.000</td>\n",
       "      <td>1009990019</td>\n",
       "      <td>1022667</td>\n",
       "      <td>114  West  47th  st</td>\n",
       "      <td>Manhattan</td>\n",
       "      <td>10036</td>\n",
       "      <td>...</td>\n",
       "      <td>0</td>\n",
       "      <td>2021-05-21T16:10:56.000</td>\n",
       "      <td>2021-05-21T16:13:00.000</td>\n",
       "      <td>MANHATTAN</td>\n",
       "      <td>105.0</td>\n",
       "      <td>4.0</td>\n",
       "      <td>125.0</td>\n",
       "      <td>Midtown-Midtown South</td>\n",
       "      <td>-73.982504</td>\n",
       "      <td>40.758310</td>\n",
       "    </tr>\n",
       "    <tr>\n",
       "      <th>3</th>\n",
       "      <td>8841</td>\n",
       "      <td>733</td>\n",
       "      <td>Not Applicable: Standalone Property</td>\n",
       "      <td>Not Applicable: Standalone Property</td>\n",
       "      <td>2020-12-31T00:00:00.000</td>\n",
       "      <td>1013190047</td>\n",
       "      <td>1037596</td>\n",
       "      <td>733  Third  Avenue</td>\n",
       "      <td>Manhattan</td>\n",
       "      <td>10017</td>\n",
       "      <td>...</td>\n",
       "      <td>0</td>\n",
       "      <td>2021-05-20T14:43:13.000</td>\n",
       "      <td>2021-05-20T14:44:16.000</td>\n",
       "      <td>MANHATTAN</td>\n",
       "      <td>106.0</td>\n",
       "      <td>4.0</td>\n",
       "      <td>90.0</td>\n",
       "      <td>Turtle Bay-East Midtown</td>\n",
       "      <td>-73.972753</td>\n",
       "      <td>40.753074</td>\n",
       "    </tr>\n",
       "    <tr>\n",
       "      <th>4</th>\n",
       "      <td>11809</td>\n",
       "      <td>Conde Nast Building</td>\n",
       "      <td>Not Applicable: Standalone Property</td>\n",
       "      <td>Not Applicable: Standalone Property</td>\n",
       "      <td>2020-12-31T00:00:00.000</td>\n",
       "      <td>1009950005</td>\n",
       "      <td>1085682</td>\n",
       "      <td>4 Times Square</td>\n",
       "      <td>Manhattan</td>\n",
       "      <td>10036</td>\n",
       "      <td>...</td>\n",
       "      <td>0</td>\n",
       "      <td>2021-05-10T18:30:37.000</td>\n",
       "      <td>2021-05-10T18:34:54.000</td>\n",
       "      <td>MANHATTAN</td>\n",
       "      <td>105.0</td>\n",
       "      <td>4.0</td>\n",
       "      <td>119.0</td>\n",
       "      <td>Midtown-Midtown South</td>\n",
       "      <td>-73.986244</td>\n",
       "      <td>40.756181</td>\n",
       "    </tr>\n",
       "  </tbody>\n",
       "</table>\n",
       "<p>5 rows × 250 columns</p>\n",
       "</div>"
      ],
      "text/plain": [
       "   property_id        property_name                   parent_property_id  \\\n",
       "0         7365                 1155  Not Applicable: Standalone Property   \n",
       "1         8139                  200  Not Applicable: Standalone Property   \n",
       "2         8604                  114  Not Applicable: Standalone Property   \n",
       "3         8841                  733  Not Applicable: Standalone Property   \n",
       "4        11809  Conde Nast Building  Not Applicable: Standalone Property   \n",
       "\n",
       "                  parent_property_name              year_ending  \\\n",
       "0  Not Applicable: Standalone Property  2020-12-31T00:00:00.000   \n",
       "1  Not Applicable: Standalone Property  2020-12-31T00:00:00.000   \n",
       "2  Not Applicable: Standalone Property  2020-12-31T00:00:00.000   \n",
       "3  Not Applicable: Standalone Property  2020-12-31T00:00:00.000   \n",
       "4  Not Applicable: Standalone Property  2020-12-31T00:00:00.000   \n",
       "\n",
       "  nyc_borough_block_and_lot_bbl nyc_building_identification_number_bin  \\\n",
       "0                    1009970029                                1022631   \n",
       "1                    1013150001                                1037545   \n",
       "2                    1009990019                                1022667   \n",
       "3                    1013190047                                1037596   \n",
       "4                    1009950005                                1085682   \n",
       "\n",
       "                         address_1       city postcode  ...  \\\n",
       "0  1155  Avenue  of  the  Americas  Manhattan    10036  ...   \n",
       "1             200  East  42nd  St.  Manhattan    10017  ...   \n",
       "2              114  West  47th  st  Manhattan    10036  ...   \n",
       "3               733  Third  Avenue  Manhattan    10017  ...   \n",
       "4                   4 Times Square  Manhattan    10036  ...   \n",
       "\n",
       "  number_of_active_it_meters          generation_date  \\\n",
       "0                          0  2021-05-20T14:43:12.000   \n",
       "1                          0  2021-05-20T14:43:12.000   \n",
       "2                          0  2021-05-21T16:10:56.000   \n",
       "3                          0  2021-05-20T14:43:13.000   \n",
       "4                          0  2021-05-10T18:30:37.000   \n",
       "\n",
       "              release_date    borough community_board council_district  \\\n",
       "0  2021-05-20T14:44:16.000  MANHATTAN           105.0              4.0   \n",
       "1  2021-05-20T14:44:16.000  MANHATTAN           106.0              4.0   \n",
       "2  2021-05-21T16:13:00.000  MANHATTAN           105.0              4.0   \n",
       "3  2021-05-20T14:44:16.000  MANHATTAN           106.0              4.0   \n",
       "4  2021-05-10T18:34:54.000  MANHATTAN           105.0              4.0   \n",
       "\n",
       "  census_tract                      nta  longitude   latitude  \n",
       "0        119.0    Midtown-Midtown South -73.982826  40.756631  \n",
       "1         88.0  Turtle Bay-East Midtown -73.974306  40.750698  \n",
       "2        125.0    Midtown-Midtown South -73.982504  40.758310  \n",
       "3         90.0  Turtle Bay-East Midtown -73.972753  40.753074  \n",
       "4        119.0    Midtown-Midtown South -73.986244  40.756181  \n",
       "\n",
       "[5 rows x 250 columns]"
      ]
     },
     "execution_count": 165,
     "metadata": {},
     "output_type": "execute_result"
    }
   ],
   "source": [
    "df_consumption_2020.head()"
   ]
  },
  {
   "cell_type": "markdown",
   "metadata": {},
   "source": [
    "bbl\tbin\taddress\tzipcode\tbldgtype\tess\tyear\tgfa\tnumbldgs\tnumfloors\teui\tenergy\twui\tghg\tprimary_type\tother_types_dict\thas_datacenter\telectricity\tbedrooms\tnatural_gas\tsteam\tworker_dens\tres_units\tdiesel\tfuel_4\tfuel_2\tfuel_5_6\n"
   ]
  },
  {
   "cell_type": "code",
   "execution_count": null,
   "metadata": {},
   "outputs": [],
   "source": [
    "# df['race_label'] = df.apply (lambda row: label_race(row), axis=1)\n"
   ]
  },
  {
   "cell_type": "code",
   "execution_count": 166,
   "metadata": {},
   "outputs": [],
   "source": [
    "df = df_consumption.list_of_all_property_use_types_at_property"
   ]
  },
  {
   "cell_type": "code",
   "execution_count": 178,
   "metadata": {},
   "outputs": [
    {
     "data": {
      "text/plain": [
       "{' Bank Branch',\n",
       " ' Bar/Nightclub',\n",
       " ' College/University',\n",
       " ' Convenience Store without Gas Station',\n",
       " ' Data Center',\n",
       " ' Distribution Center',\n",
       " ' Dry Cleaning',\n",
       " ' Enclosed Mall',\n",
       " ' Energy/Power Station',\n",
       " ' Fast Food Restaurant',\n",
       " ' Financial Office',\n",
       " ' Fitness Center/Health Club/Gym',\n",
       " ' Food Sales',\n",
       " ' Food Service',\n",
       " ' Heated Swimming Pool',\n",
       " ' Hospital (General Medical & Surgical)',\n",
       " ' Hotel',\n",
       " ' K-12 School',\n",
       " ' Laboratory',\n",
       " ' Library',\n",
       " ' Lifestyle Center',\n",
       " ' Locksmith',\n",
       " ' Mailing Center/Post Office',\n",
       " ' Manufacturing/Industrial Plant',\n",
       " ' Medical Office',\n",
       " ' Movie Theater',\n",
       " ' Multifamily Housing',\n",
       " ' Museum',\n",
       " ' Non-Refrigerated Warehouse',\n",
       " ' Office',\n",
       " ' Other',\n",
       " ' Other - Education',\n",
       " ' Other - Entertainment/Public Assembly',\n",
       " ' Other - Lodging/Residential',\n",
       " ' Other - Mall',\n",
       " ' Other - Public Services',\n",
       " ' Other - Recreation',\n",
       " ' Other - Restaurant/Bar',\n",
       " ' Other - Services',\n",
       " ' Other - Specialty Hospital',\n",
       " ' Other - Technology/Science',\n",
       " ' Other - Utility',\n",
       " ' Outpatient Rehabilitation/Physical Therapy',\n",
       " ' Parking',\n",
       " ' Performing Arts',\n",
       " ' Personal Services (Health/Beauty',\n",
       " ' Police Station',\n",
       " ' Pre-school/Daycare',\n",
       " ' Refrigerated Warehouse',\n",
       " ' Repair Services (Vehicle',\n",
       " ' Residence Hall/Dormitory',\n",
       " ' Residential Care Facility',\n",
       " ' Restaurant',\n",
       " ' Retail Store',\n",
       " ' Roller Rink',\n",
       " ' Self-Storage Facility',\n",
       " ' Senior Care Community',\n",
       " ' Senior Living Community',\n",
       " ' Shoe',\n",
       " ' Single Family Home',\n",
       " ' Social/Meeting Hall',\n",
       " ' Stadium (Open)',\n",
       " ' Strip Mall',\n",
       " ' Supermarket/Grocery Store',\n",
       " ' Transportation Terminal/Station',\n",
       " ' Urgent Care/Clinic/Other Outpatient',\n",
       " ' Veterinary Office',\n",
       " ' Vocational School',\n",
       " ' Wholesale Club/Supercenter',\n",
       " ' Worship Facility',\n",
       " ' etc.)',\n",
       " 'Adult Education',\n",
       " 'Ambulatory Surgical Center',\n",
       " 'Automobile Dealership',\n",
       " 'Bank Branch',\n",
       " 'Bar/Nightclub',\n",
       " 'Bowling Alley',\n",
       " 'College/University',\n",
       " 'Convenience Store with Gas Station',\n",
       " 'Convenience Store without Gas Station',\n",
       " 'Convention Center',\n",
       " 'Courthouse',\n",
       " 'Data Center',\n",
       " 'Distribution Center',\n",
       " 'Enclosed Mall',\n",
       " 'Energy/Power Station',\n",
       " 'Fast Food Restaurant',\n",
       " 'Financial Office',\n",
       " 'Fire Station',\n",
       " 'Fitness Center/Health Club/Gym',\n",
       " 'Food Sales',\n",
       " 'Food Service',\n",
       " 'Heated Swimming Pool',\n",
       " 'Hospital (General Medical & Surgical)',\n",
       " 'Hotel',\n",
       " 'Ice/Curling Rink',\n",
       " 'Indoor Arena',\n",
       " 'K-12 School',\n",
       " 'Laboratory',\n",
       " 'Library',\n",
       " 'Lifestyle Center',\n",
       " 'Mailing Center/Post Office',\n",
       " 'Manufacturing/Industrial Plant',\n",
       " 'Medical Office',\n",
       " 'Movie Theater',\n",
       " 'Multifamily Housing',\n",
       " 'Museum',\n",
       " 'Non-Refrigerated Warehouse',\n",
       " 'Not Available',\n",
       " 'Office',\n",
       " 'Other',\n",
       " 'Other - Education',\n",
       " 'Other - Entertainment/Public Assembly',\n",
       " 'Other - Lodging/Residential',\n",
       " 'Other - Mall',\n",
       " 'Other - Public Services',\n",
       " 'Other - Recreation',\n",
       " 'Other - Restaurant/Bar',\n",
       " 'Other - Services',\n",
       " 'Other - Specialty Hospital',\n",
       " 'Other - Technology/Science',\n",
       " 'Outpatient Rehabilitation/Physical Therapy',\n",
       " 'Parking',\n",
       " 'Performing Arts',\n",
       " 'Personal Services (Health/Beauty',\n",
       " 'Police Station',\n",
       " 'Pre-school/Daycare',\n",
       " 'Prison/Incarceration',\n",
       " 'Refrigerated Warehouse',\n",
       " 'Repair Services (Vehicle',\n",
       " 'Residence Hall/Dormitory',\n",
       " 'Residential Care Facility',\n",
       " 'Restaurant',\n",
       " 'Retail Store',\n",
       " 'Self-Storage Facility',\n",
       " 'Senior Care Community',\n",
       " 'Senior Living Community',\n",
       " 'Single Family Home',\n",
       " 'Social/Meeting Hall',\n",
       " 'Stadium (Open)',\n",
       " 'Strip Mall',\n",
       " 'Supermarket/Grocery Store',\n",
       " 'Transportation Terminal/Station',\n",
       " 'Urgent Care/Clinic/Other Outpatient',\n",
       " 'Veterinary Office',\n",
       " 'Vocational School',\n",
       " 'Wastewater Treatment Plant',\n",
       " 'Wholesale Club/Supercenter',\n",
       " 'Worship Facility',\n",
       " 'Zoo'}"
      ]
     },
     "execution_count": 178,
     "metadata": {},
     "output_type": "execute_result"
    }
   ],
   "source": [
    "set([c for  i in df.explode('list_of_all_property_use_types_at_property') for c in i.split(',')])"
   ]
  },
  {
   "cell_type": "code",
   "execution_count": null,
   "metadata": {},
   "outputs": [],
   "source": [
    "df_pluto.head()"
   ]
  },
  {
   "cell_type": "code",
   "execution_count": null,
   "metadata": {},
   "outputs": [],
   "source": [
    "df_pluto.bldgclass.unique()"
   ]
  },
  {
   "cell_type": "code",
   "execution_count": null,
   "metadata": {},
   "outputs": [],
   "source": [
    "df_penalties\n"
   ]
  },
  {
   "cell_type": "code",
   "execution_count": null,
   "metadata": {},
   "outputs": [],
   "source": [
    "df_penalties= pd.DataFrame({'class': df_pluto.bldgclass.unique()}).sort_values(by=['class'])"
   ]
  },
  {
   "cell_type": "code",
   "execution_count": null,
   "metadata": {},
   "outputs": [],
   "source": [
    "df_penalties"
   ]
  },
  {
   "cell_type": "code",
   "execution_count": null,
   "metadata": {},
   "outputs": [],
   "source": [
    "Assembly (A)\tA-1, A-2, A-3, A-4, A-5\n",
    "Business (B)\tB\n",
    "Educational (E)\tE\n",
    "Factory and Industrial (F)\tF-1, F-2\n",
    "High Hazard (H)\tH-1, H-2, H-3, H-4, H-5\n",
    "Institutional (I)\tI-1, I-2, I-3, I-4\n",
    "Mercantile (M)\tM\n",
    "Residential (R)\tR-1, R-2, R-3, R-3.1, R-4\n",
    "Storage (S)\tS-1, S-2\n",
    "Utility and Miscellaneous (U)\tU\n",
    "\n",
    "#2024 tCO2e/sf\n",
    "A 0.01074 \n",
    "B other 0.00846\n",
    "E 0.00758 \n",
    "I-4 0.00758 \n",
    "I-1 0.01138 \n",
    "F 0.00574 \n",
    "B civic 0.02381\n",
    "B lab 0.02381\n",
    "B health care 0.02381\n",
    "H 0.02381\n",
    "I-2 0.02381\n",
    "I-3 0.02381 \n",
    "M 0.01181 \n",
    "R-1 0.00987 \n",
    "R-2 0.00675\n",
    "S 0.00426\n",
    "U 0.00426\n",
    "\n",
    "electricity 0.000288962 tCO2e per kilowatt hour\n",
    "Natural gas  0.00005311 tCO2e per kbtu.\n",
    "#2 fuel oil 0.00007421 tCO2e per kbtu.\n",
    "#4 fuel oil 0.00007529 tCO2e per kbtu.\n",
    "District steam  0.00004493tCO2e per kbtu.\n",
    "\n",
    "#2030 tCO2e/sf\n",
    "A 0.00420 \n",
    "B other 0.00453\n",
    "E 0.00344 \n",
    "I-4 0.00344 \n",
    "I-1 0.00598 \n",
    "F 0.00167\n",
    "B civic 0.01193\n",
    "B lab 0.01193\n",
    "B health care 0.01193\n",
    "H 0.01193\n",
    "I-2  0.01193\n",
    "I-3  0.01193\n",
    "M  0.00403\n",
    "R-1  0.00526\n",
    "R-2 0.00407\n",
    "S 0.00110\n",
    "U 0.00110\n",
    "\n",
    "\n",
    "#2050 tCO2e/sf\n",
    "all 0.0014"
   ]
  },
  {
   "cell_type": "code",
   "execution_count": null,
   "metadata": {},
   "outputs": [],
   "source": []
  },
  {
   "cell_type": "code",
   "execution_count": null,
   "metadata": {
    "slideshow": {
     "slide_type": "slide"
    }
   },
   "outputs": [],
   "source": [
    "df_temp = df_consumption[['nyc_borough_block_and_lot_bbl',\n",
    "                          'nyc_building_identification_number_bin',\n",
    "                          'property_id', \n",
    "                          'parent_property_id',\n",
    "                          'year_ending',\n",
    "                          'list_of_all_property_use_types_at_property', \n",
    "                           \n",
    "                          'year_built', \n",
    "                          , 'electricity_use_grid_purchase_kwh', \\\n",
    "                'natural_gas_use_kbtu', 'district_steam_use_kbtu', 'fuel_oil_2_use_kbtu', 'fuel_oil_4_use_kbtu',]]\n",
    "df_temp.head()"
   ]
  },
  {
   "cell_type": "code",
   "execution_count": null,
   "metadata": {
    "slideshow": {
     "slide_type": "subslide"
    }
   },
   "outputs": [],
   "source": [
    "emissions_intensity_2024 = df_consumption.total_ghg_emissions_intensity_kgco2e_ft \\\n",
    "    .replace(r'Not Available', np.nan, regex=True).astype(float)"
   ]
  },
  {
   "cell_type": "code",
   "execution_count": null,
   "metadata": {},
   "outputs": [],
   "source": [
    "import matplotlib.pyplot as plt\n",
    "plt.hist(emissions_intensity_2024, bins=30 , range = (0,30), linewidth=2, edgecolor=\"white\",color = '#0000FF')\n",
    "# plt.axhline(4.53, color='r') # horizontal\n",
    "plt.xlabel('Emissions Intensity (kg$CO^{2}$e / $ft^{2}$ / year)')\n",
    "plt.ylabel('Count')\n",
    "plt.show()"
   ]
  },
  {
   "cell_type": "code",
   "execution_count": null,
   "metadata": {
    "scrolled": false,
    "slideshow": {
     "slide_type": "slide"
    }
   },
   "outputs": [],
   "source": [
    "df_footprint[['bin', 'the_geom']].head()"
   ]
  },
  {
   "cell_type": "code",
   "execution_count": 180,
   "metadata": {},
   "outputs": [
    {
     "data": {
      "text/html": [
       "<div>\n",
       "<style scoped>\n",
       "    .dataframe tbody tr th:only-of-type {\n",
       "        vertical-align: middle;\n",
       "    }\n",
       "\n",
       "    .dataframe tbody tr th {\n",
       "        vertical-align: top;\n",
       "    }\n",
       "\n",
       "    .dataframe thead th {\n",
       "        text-align: right;\n",
       "    }\n",
       "</style>\n",
       "<table border=\"1\" class=\"dataframe\">\n",
       "  <thead>\n",
       "    <tr style=\"text-align: right;\">\n",
       "      <th></th>\n",
       "      <th>the_geom</th>\n",
       "      <th>bin</th>\n",
       "      <th>cnstrct_yr</th>\n",
       "      <th>lstmoddate</th>\n",
       "      <th>lststatype</th>\n",
       "      <th>doitt_id</th>\n",
       "      <th>heightroof</th>\n",
       "      <th>feat_code</th>\n",
       "      <th>groundelev</th>\n",
       "      <th>shape_area</th>\n",
       "      <th>shape_len</th>\n",
       "      <th>base_bbl</th>\n",
       "      <th>mpluto_bbl</th>\n",
       "      <th>geomsource</th>\n",
       "      <th>name</th>\n",
       "    </tr>\n",
       "  </thead>\n",
       "  <tbody>\n",
       "    <tr>\n",
       "      <th>0</th>\n",
       "      <td>{'type': 'MultiPolygon', 'coordinates': [[[[-7...</td>\n",
       "      <td>3170958</td>\n",
       "      <td>1925.0</td>\n",
       "      <td>2017-08-22T00:00:00.000</td>\n",
       "      <td>Constructed</td>\n",
       "      <td>96807</td>\n",
       "      <td>29.749853</td>\n",
       "      <td>2100.0</td>\n",
       "      <td>40.0</td>\n",
       "      <td>0.0</td>\n",
       "      <td>0.0</td>\n",
       "      <td>3.065220e+09</td>\n",
       "      <td>3.065220e+09</td>\n",
       "      <td>Photogramm</td>\n",
       "      <td>NaN</td>\n",
       "    </tr>\n",
       "    <tr>\n",
       "      <th>1</th>\n",
       "      <td>{'type': 'MultiPolygon', 'coordinates': [[[[-7...</td>\n",
       "      <td>5028452</td>\n",
       "      <td>1965.0</td>\n",
       "      <td>2017-08-22T00:00:00.000</td>\n",
       "      <td>Constructed</td>\n",
       "      <td>326368</td>\n",
       "      <td>22.630000</td>\n",
       "      <td>2100.0</td>\n",
       "      <td>39.0</td>\n",
       "      <td>0.0</td>\n",
       "      <td>0.0</td>\n",
       "      <td>5.012640e+09</td>\n",
       "      <td>5.012640e+09</td>\n",
       "      <td>Photogramm</td>\n",
       "      <td>NaN</td>\n",
       "    </tr>\n",
       "    <tr>\n",
       "      <th>2</th>\n",
       "      <td>{'type': 'MultiPolygon', 'coordinates': [[[[-7...</td>\n",
       "      <td>5078368</td>\n",
       "      <td>1970.0</td>\n",
       "      <td>2017-08-22T00:00:00.000</td>\n",
       "      <td>Constructed</td>\n",
       "      <td>746627</td>\n",
       "      <td>35.760000</td>\n",
       "      <td>2100.0</td>\n",
       "      <td>51.0</td>\n",
       "      <td>0.0</td>\n",
       "      <td>0.0</td>\n",
       "      <td>5.060190e+09</td>\n",
       "      <td>5.060190e+09</td>\n",
       "      <td>Photogramm</td>\n",
       "      <td>NaN</td>\n",
       "    </tr>\n",
       "    <tr>\n",
       "      <th>3</th>\n",
       "      <td>{'type': 'MultiPolygon', 'coordinates': [[[[-7...</td>\n",
       "      <td>3245111</td>\n",
       "      <td>1928.0</td>\n",
       "      <td>2017-08-22T00:00:00.000</td>\n",
       "      <td>Constructed</td>\n",
       "      <td>786626</td>\n",
       "      <td>37.500000</td>\n",
       "      <td>2100.0</td>\n",
       "      <td>6.0</td>\n",
       "      <td>0.0</td>\n",
       "      <td>0.0</td>\n",
       "      <td>3.086910e+09</td>\n",
       "      <td>3.086910e+09</td>\n",
       "      <td>Photogramm</td>\n",
       "      <td>NaN</td>\n",
       "    </tr>\n",
       "    <tr>\n",
       "      <th>4</th>\n",
       "      <td>{'type': 'MultiPolygon', 'coordinates': [[[[-7...</td>\n",
       "      <td>4161096</td>\n",
       "      <td>1950.0</td>\n",
       "      <td>2017-08-22T00:00:00.000</td>\n",
       "      <td>Constructed</td>\n",
       "      <td>746409</td>\n",
       "      <td>18.015113</td>\n",
       "      <td>2100.0</td>\n",
       "      <td>93.0</td>\n",
       "      <td>0.0</td>\n",
       "      <td>0.0</td>\n",
       "      <td>4.075020e+09</td>\n",
       "      <td>4.075020e+09</td>\n",
       "      <td>Photogramm</td>\n",
       "      <td>NaN</td>\n",
       "    </tr>\n",
       "  </tbody>\n",
       "</table>\n",
       "</div>"
      ],
      "text/plain": [
       "                                            the_geom      bin  cnstrct_yr  \\\n",
       "0  {'type': 'MultiPolygon', 'coordinates': [[[[-7...  3170958      1925.0   \n",
       "1  {'type': 'MultiPolygon', 'coordinates': [[[[-7...  5028452      1965.0   \n",
       "2  {'type': 'MultiPolygon', 'coordinates': [[[[-7...  5078368      1970.0   \n",
       "3  {'type': 'MultiPolygon', 'coordinates': [[[[-7...  3245111      1928.0   \n",
       "4  {'type': 'MultiPolygon', 'coordinates': [[[[-7...  4161096      1950.0   \n",
       "\n",
       "                lstmoddate   lststatype  doitt_id  heightroof  feat_code  \\\n",
       "0  2017-08-22T00:00:00.000  Constructed     96807   29.749853     2100.0   \n",
       "1  2017-08-22T00:00:00.000  Constructed    326368   22.630000     2100.0   \n",
       "2  2017-08-22T00:00:00.000  Constructed    746627   35.760000     2100.0   \n",
       "3  2017-08-22T00:00:00.000  Constructed    786626   37.500000     2100.0   \n",
       "4  2017-08-22T00:00:00.000  Constructed    746409   18.015113     2100.0   \n",
       "\n",
       "   groundelev  shape_area  shape_len      base_bbl    mpluto_bbl  geomsource  \\\n",
       "0        40.0         0.0        0.0  3.065220e+09  3.065220e+09  Photogramm   \n",
       "1        39.0         0.0        0.0  5.012640e+09  5.012640e+09  Photogramm   \n",
       "2        51.0         0.0        0.0  5.060190e+09  5.060190e+09  Photogramm   \n",
       "3         6.0         0.0        0.0  3.086910e+09  3.086910e+09  Photogramm   \n",
       "4        93.0         0.0        0.0  4.075020e+09  4.075020e+09  Photogramm   \n",
       "\n",
       "  name  \n",
       "0  NaN  \n",
       "1  NaN  \n",
       "2  NaN  \n",
       "3  NaN  \n",
       "4  NaN  "
      ]
     },
     "execution_count": 180,
     "metadata": {},
     "output_type": "execute_result"
    }
   ],
   "source": [
    "df_footprint.head()"
   ]
  },
  {
   "cell_type": "code",
   "execution_count": 201,
   "metadata": {
    "slideshow": {
     "slide_type": "skip"
    }
   },
   "outputs": [
    {
     "data": {
      "text/plain": [
       "[[[-73.96664570466969, 40.62599676998366],\n",
       "  [-73.96684846176461, 40.625977490862574],\n",
       "  [-73.96685938726297, 40.62604419372411],\n",
       "  [-73.96661621040211, 40.62606731716107],\n",
       "  [-73.96660638332114, 40.626007324369795],\n",
       "  [-73.96664680403327, 40.626003480977275],\n",
       "  [-73.96664570466969, 40.62599676998366]]]"
      ]
     },
     "execution_count": 201,
     "metadata": {},
     "output_type": "execute_result"
    }
   ],
   "source": [
    "import ast\n",
    "l= ast.literal_eval(df_footprint['the_geom'][0])['coordinates'][0]\n",
    "l"
   ]
  },
  {
   "cell_type": "code",
   "execution_count": 202,
   "metadata": {
    "slideshow": {
     "slide_type": "skip"
    }
   },
   "outputs": [
    {
     "name": "stdout",
     "output_type": "stream",
     "text": [
      "True\n"
     ]
    }
   ],
   "source": [
    "line1 = {\n",
    "  \"paths\" : l,\n",
    "  \"spatialReference\" : {\"wkid\" : 4326}\n",
    "}\n",
    "\n",
    "polyline1 = Polyline(line1)\n",
    "print(polyline1.is_valid())"
   ]
  },
  {
   "cell_type": "code",
   "execution_count": 253,
   "metadata": {
    "slideshow": {
     "slide_type": "skip"
    }
   },
   "outputs": [],
   "source": [
    "gis = GIS()\n",
    "m=gis.map('New York, NY')"
   ]
  },
  {
   "cell_type": "code",
   "execution_count": 254,
   "metadata": {
    "slideshow": {
     "slide_type": "skip"
    }
   },
   "outputs": [],
   "source": [
    "m.zoom = 12\n",
    "m.draw(polyline1)\n"
   ]
  },
  {
   "cell_type": "code",
   "execution_count": 255,
   "metadata": {
    "scrolled": true,
    "slideshow": {
     "slide_type": "subslide"
    }
   },
   "outputs": [
    {
     "data": {
      "application/vnd.jupyter.widget-view+json": {
       "model_id": "d1a1e8f505204b1997e7346eb47f2289",
       "version_major": 2,
       "version_minor": 0
      },
      "text/plain": [
       "MapView(layout=Layout(height='400px', width='100%'))"
      ]
     },
     "metadata": {},
     "output_type": "display_data"
    },
    {
     "data": {
      "text/html": [
       "<div class=\"map-static-img-preview-d53469cc-3d2a-4037-9492-c00620278323\"><img src=\"\"></img></div>"
      ],
      "text/plain": [
       "<IPython.core.display.HTML object>"
      ]
     },
     "metadata": {},
     "output_type": "display_data"
    },
    {
     "data": {
      "text/html": [
       "<div class=\"map-html-embed-preview-d53469cc-3d2a-4037-9492-c00620278323\"></div>"
      ],
      "text/plain": [
       "<IPython.core.display.HTML object>"
      ]
     },
     "metadata": {},
     "output_type": "display_data"
    }
   ],
   "source": [
    "m"
   ]
  },
  {
   "cell_type": "markdown",
   "metadata": {
    "slideshow": {
     "slide_type": "skip"
    }
   },
   "source": [
    "--\n",
    "<!--\n",
    "# https://geopandas.org/en/stable/gallery/choro_legends.html\n",
    "# https://geopandas.org/en/stable/getting_started/introduction.html\n",
    "\n",
    "# import httplib, urllib, base64\n",
    "\n",
    "# headers = {\n",
    "#     # Request headers\n",
    "#     'Ocp-Apim-Subscription-Key': '{subscription key}',\n",
    "# }\n",
    "\n",
    "# params = urllib.urlencode({\n",
    "# })\n",
    "\n",
    "\n",
    "# import geopandas as gpd\n",
    "# import matplotlib.pyplot as plt \n",
    "# from mpl_toolkits.axes_grid1 import make_axes_locatable \n",
    "\n",
    "# # Reading the world shapefile \n",
    "# world_data = gpd.read_file(r'D:\\GeoDelta\\Introduction to Geopandas_Basics\\Visualizing Geographical Data\\world.shp')\n",
    "# world_data = world_data[['NAME', 'geometry']]\n",
    "\n",
    "# # Calculating the area of each country \n",
    "# world_data['area'] = world_data.area\n",
    "\n",
    "# # Removing Antarctica from GeoPandas GeoDataframe\n",
    "# world_data = world_data[world_data['NAME'] != 'Antarctica']\n",
    "# world_data.plot()\n",
    "\n",
    "# # Changing the projection\n",
    "# current_crs = world_data.crs   \n",
    "# world_data.to_crs(epsg = 3857, inplace = True)\n",
    "# world_data.plot(column = 'NAME', cmap = 'hsv')\n",
    "\n",
    "# # Re-calculate the areas in Sq. Km.\n",
    "# world_data['area'] = world_data.area/1000000\n",
    "\n",
    "# # Adding a legend \n",
    "# world_data.plot(column = 'area' , cmap = 'hsv' , legend = True, \n",
    "#                 legend_kwds = {'label': \"Area of the country (Sq. Km.)\"}, figsize = (7,7))\n",
    "\n",
    "# # Resizing the legend \n",
    "# fig, ax = plt.subplots(figsize = (10,10))\n",
    "# divider = make_axes_locatable(ax)\n",
    "# cax = divider.append_axes(\"right\", size = \"7%\", pad = 0.1)\n",
    "# world_data.plot(column = 'NAME' , cmap = 'hsv' , legend = None, \n",
    "#                 legend_kwds = {'label': \"Area of the country (Sq. Km.)\"},\n",
    "#                 ax = ax, cax = cax)\n",
    "\n",
    "# https://data.cityofnewyork.us/resource/7w4b-tj9d.json\n",
    "\n",
    "# https://www1.nyc.gov/site/planning/data-maps/open-data/bytes-archive.page?sorts[year]=0\n",
    "# https://www1.nyc.gov/site/doitt/initiatives/3d-building.page\n",
    "# https://www1.nyc.gov/html/gbee/html/plan/ll84_scores.shtml\n",
    "\n",
    "# https://benchmarking.cityofnewyork.us/#/\n",
    "\n",
    "# https://uil.carto.com/api/v2/sql?format=csv&filename=filtered_evt&q=SELECT%20bbl,%20bin,%20address,%20zipcode,%20bldgtype,%20ess,%20year,%20gfa,%20numbldgs,%20numfloors,%20eui,%20energy,%20wui,%20ghg,%20primary_type,%20other_types_dict,%20has_datacenter,%20electricity,%20bedrooms,%20natural_gas,%20steam,%20worker_dens,%20res_units,%20diesel,%20fuel_4,%20fuel_2,%20fuel_5_6%20FROM%20table_2017_disclosure_ll84_viz_01_2019%20WHERE%20(year%20%3E=%201900%20AND%20year%20%3C=%202017)%20AND%20(gfa%20%3E=%2010000%20AND%20gfa%20%3C=%20500035)%20%20AND%20(eui%20%3E=%2050%20AND%20eui%20%3C=%20350)\n",
    "\n",
    "!-->"
   ]
  },
  {
   "cell_type": "code",
   "execution_count": null,
   "metadata": {},
   "outputs": [],
   "source": [
    "SF_COORDINATES = (40.62599676998366, -73.96664570466969,)\n",
    "# crimedata = pd.read_csv(\"SFPD_Incidents_2015.csv\")\n",
    "\n",
    "# for speed purposes\n",
    "MAX_RECORDS = 1000\n",
    "\n",
    "# create empty map zoomed in on San Francisco\n",
    "_map = folium.Map(location=SF_COORDINATES, zoom_start=20)\n",
    "\n",
    "# # add a marker for every record in the filtered data, use a clustered view\n",
    "# for each in crimedata[0:MAX_RECORDS].iterrows():\n",
    "#     _map.simple_marker(\n",
    "#         location = [each[1][\"Y\"],each[1][\"X\"]],\n",
    "#         clustered_marker = True)\n",
    "\n",
    "display(_map)"
   ]
  },
  {
   "cell_type": "code",
   "execution_count": null,
   "metadata": {},
   "outputs": [],
   "source": []
  },
  {
   "cell_type": "code",
   "execution_count": null,
   "metadata": {},
   "outputs": [],
   "source": []
  }
 ],
 "metadata": {
  "interpreter": {
   "hash": "1d461b30fc5edc508db32526b337aad33bd293f14f2b02d30461578ede1a81f2"
  },
  "kernelspec": {
   "display_name": "Python 3 (ipykernel)",
   "language": "python",
   "name": "python3"
  },
  "language_info": {
   "codemirror_mode": {
    "name": "ipython",
    "version": 3
   },
   "file_extension": ".py",
   "mimetype": "text/x-python",
   "name": "python",
   "nbconvert_exporter": "python",
   "pygments_lexer": "ipython3",
   "version": "3.9.7"
  }
 },
 "nbformat": 4,
 "nbformat_minor": 2
}
