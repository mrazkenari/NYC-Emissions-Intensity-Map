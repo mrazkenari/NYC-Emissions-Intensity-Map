{
 "cells": [
  {
   "cell_type": "markdown",
   "metadata": {
    "slideshow": {
     "slide_type": "slide"
    }
   },
   "source": [
    "## New York City Emissions Intensity Map"
   ]
  },
  {
   "cell_type": "markdown",
   "metadata": {
    "slideshow": {
     "slide_type": "fragment"
    }
   },
   "source": [
    "##### Notebook by [Mohamad Razkenari](https://www.razkenari.com)"
   ]
  },
  {
   "cell_type": "markdown",
   "metadata": {
    "slideshow": {
     "slide_type": "fragment"
    }
   },
   "source": [
    "<img src=\"https://www.urbangreencouncil.org/sites/default/files/landing_page_image.jpg\"/>"
   ]
  },
  {
   "cell_type": "markdown",
   "metadata": {
    "slideshow": {
     "slide_type": "slide"
    }
   },
   "source": [
    "## Introduction"
   ]
  },
  {
   "cell_type": "markdown",
   "metadata": {
    "slideshow": {
     "slide_type": "fragment"
    }
   },
   "source": [
    "\n",
    "To reduce carbon emissions from buildings, the City of New York enacted [Local Law 97 (LL97)](https://www1.nyc.gov/site/sustainablebuildings/ll97/local-law-97.page) in 2019 as a part of the Climate Mobilization Act. This law places carbon caps on most buildings larger than 25,000 square feet—roughly 50,000 residential and commercial properties across NYC. These caps start in 2024 and will become more stringent over time, eventually reducing emissions 80 percent by 2050. This project uses building energy consumption and building characteristics data to calculate the emissions intensity, and compare it with the emissions limit according to building end use classification. Then, maximum penalty for non-compliance is calculated."
   ]
  },
  {
   "cell_type": "markdown",
   "metadata": {
    "slideshow": {
     "slide_type": "subslide"
    }
   },
   "source": [
    ">**Project Objective**: Calculate Emissions Intensity for buildings in New York City, and assess their compliance with Local Law 97.\n",
    "\n",
    "<!-- Here’s what you need to know\n",
    "\n",
    "* Applies to all buildings in NYC greater than 25000 square feet; applicable for approximately 60% residential and 40% commercial buildings\n",
    "* Penalties for non-compliance; maximum penalty is calculated based on the difference between a building’s annual emissions limit and its actual emissions multiplied by 268\n",
    "* A building’s annual emissions limit equals its emissions intensity limit multiplied by its gross floor area\n",
    "* Many buildings are significantly above emissions limits and will require comprehensive retrofits or potentially face millions of dollars in penalties\n",
    "* There are two increasingly stringent phases of limits; first phase takes effect in 2024 and the second occurring in 2030\n",
    "* Emissions intensity limits (metric tons of CO2e per square foot) are set based on 10 building categories defined by Building Code occupancy groups\n",
    "* Renewable energy credits and/or emissions offsets can be used to comply with the caps -->"
   ]
  },
  {
   "cell_type": "markdown",
   "metadata": {
    "slideshow": {
     "slide_type": "skip"
    }
   },
   "source": [
    "## Required libraries\n",
    "This notebook uses several Python packages that come standard with the Anaconda Python distribution. The primary libraries that we'll be using are:\n",
    "\n",
    "* **NumPy**: Provides a fast numerical array structure and helper functions.\n",
    "* **Pandas**: Provides a DataFrame structure to store data in memory and work with it easily and efficiently.\n",
    "* **Scikit-learn**: The essential Machine Learning package in Python.\n",
    "* **Matplotlib**: Basic plotting library in Python; most other Python plotting libraries are built on top of it.\n",
    "* **Seaborn**: Advanced statistical plotting library.\n",
    "* **GeoPandas**: GeoPandas is an open source project to make working with geospatial data in python easier.\n",
    "* **ArcGIS**: Advanced library to convert and manage geographic data, automate spatial workflows, perform advanced spatial analytics.\n",
    "* **Sodapy**: API for getting NYC data.\n",
    "* **folium**: A library to create several types of Leaflet maps"
   ]
  },
  {
   "cell_type": "markdown",
   "metadata": {
    "slideshow": {
     "slide_type": "slide"
    }
   },
   "source": [
    "## Required Datasets"
   ]
  },
  {
   "cell_type": "markdown",
   "metadata": {
    "slideshow": {
     "slide_type": "fragment"
    }
   },
   "source": [
    "**To calculate Emissions Intensity:** Emissions intensity is the total global warming potential per square foot per year, measured in kg CO2e/m2/a\n",
    "* [Energy use benchmarking data](https://data.cityofnewyork.us/Environment/Energy-and-Water-Data-Disclosure-for-Local-Law-84-/usc3-8zwd) (anual energy consumption, including natural gas, electricity, and district steam - NYC Open Data, LL84)    \n",
    "* [Building footprint data](https://data.cityofnewyork.us/Housing-Development/Building-Footprints/nqwf-w8eh) (available in NYC Open Data)\n",
    "* [Building 3D models](https://www1.nyc.gov/site/doitt/initiatives/3d-building.page) (available in NYC Open Data)"
   ]
  },
  {
   "cell_type": "markdown",
   "metadata": {
    "slideshow": {
     "slide_type": "fragment"
    }
   },
   "source": [
    "**To identify Emissions Target:** Emissions limit are specifed in the LL97 based on the building classification for 2024 and 2030. \n",
    "* [Building Use and Characteristics](https://www1.nyc.gov/site/planning/data-maps/open-data/bytes-archive.page?sorts[year]=0) (available in NYC Open Data)"
   ]
  },
  {
   "cell_type": "markdown",
   "metadata": {
    "slideshow": {
     "slide_type": "skip"
    }
   },
   "source": [
    "--\n",
    "<!-- ** Featureset Exploration **\n",
    "\n",
    "* **age**: continuous. \n",
    "* **workclass**: Private, Self-emp-not-inc, Self-emp-inc, Federal-gov, Local-gov, State-gov, Without-pay, Never-worked. \n",
    "* **education**: Bachelors, Some-college, 11th, HS-grad, Prof-school, Assoc-acdm, Assoc-voc, 9th, 7th-8th, 12th, Masters, 1st-4th, 10th, Doctorate, 5th-6th, Preschool. \n",
    "* **education-num**: continuous. \n",
    "* **marital-status**: Married-civ-spouse, Divorced, Never-married, Separated, Widowed, Married-spouse-absent, Married-AF-spouse. \n",
    "* **occupation**: Tech-support, Craft-repair, Other-service, Sales, Exec-managerial, Prof-specialty, Handlers-cleaners, Machine-op-inspct, Adm-clerical, Farming-fishing, Transport-moving, Priv-house-serv, Protective-serv, Armed-Forces. \n",
    "* **relationship**: Wife, Own-child, Husband, Not-in-family, Other-relative, Unmarried. \n",
    "* **race**: Black, White, Asian-Pac-Islander, Amer-Indian-Eskimo, Other. \n",
    "* **sex**: Female, Male. \n",
    "* **capital-gain**: continuous. \n",
    "* **capital-loss**: continuous. \n",
    "* **hours-per-week**: continuous. \n",
    "* **native-country**: United-States, Cambodia, England, Puerto-Rico, Canada, Germany, Outlying-US(Guam-USVI-etc), India, Japan, Greece, South, China, Cuba, Iran, Honduras, Philippines, Italy, Poland, Jamaica, Vietnam, Mexico, Portugal, Ireland, France, Dominican-Republic, Laos, Ecuador, Taiwan, Haiti, Columbia, Hungary, Guatemala, Nicaragua, Scotland, Thailand, Yugoslavia, El-Salvador, Trinadad&Tobago, Peru, Hong, Holand-Netherlands. \n",
    "\n",
    "\n",
    "\n",
    "§ 28-320.3.1 Annual building emissions limits 2024-2029. For calendar years 2024 through\n",
    "2029 the annual building emissions limits for covered buildings shall be calculated pursuant to\n",
    "items 1 through 10 of this section. For the purposes of such calculation the department shall\n",
    "provide a method for converting categories of uses under the United States environmental\n",
    "protection agency Portfolio Manager tool to the equivalent uses and occupancy groups set forth in\n",
    "this section. For a covered building with spaces classified in more than one occupancy group, the\n",
    "annual building emissions limit shall be the sum of the calculated values from items 1 through 10\n",
    "of this paragraph, as applicable for each space.\n",
    "1. For spaces classified as occupancy group A: multiply the building emissions intensity limit\n",
    "of 0.01074 tCO2e/sf by the corresponding gross floor area (sf);\n",
    "2. For spaces classified as occupancy group B other than as described in item 6: multiply the\n",
    "building emissions intensity limit of 0.00846 tCO2e/sf by the corresponding gross floor\n",
    "area (sf);\n",
    "3. For spaces classified as occupancy groups E and I-4: multiply the building emissions\n",
    "intensity limit of 0.00758 tCO2e/sf by the corresponding gross floor area (sf);\n",
    "4. For spaces classified as occupancy group I-1: multiply the building emissions intensity\n",
    "limit of 0.01138 tCO2e/sf by the corresponding gross floor area (sf);\n",
    "10\n",
    "5. For spaces classified as occupancy group F: multiply the building emissions intensity\n",
    "limit of 0.00574 tCO2e/sf by the corresponding gross floor area (sf);\n",
    "6. For spaces classified as occupancy groups B civic administrative facility for emergency\n",
    "response services, B non-production laboratory, Group B ambulatory health care\n",
    "facility, H, I-2 and I-3: multiply the building emissions intensity limit of 0.02381 tCO2e/sf\n",
    "by the corresponding gross floor area (sf);\n",
    "7. For spaces classified as occupancy group M: multiply the building emissions intensity\n",
    "limit of 0.01181 tCO2e/sf by the corresponding gross floor area (sf);\n",
    "8. For spaces classified as occupancy group R-1: multiply the building emissions intensity\n",
    "limit of 0.00987 tCO2e/sf by the corresponding gross floor area (sf);\n",
    "9. For spaces classified as occupancy group R-2: multiply the building emissions intensity\n",
    "limit of 0.00675 tCO2e/sf by the corresponding gross floor area (sf);\n",
    "10. For spaces classified as occupancy groups S and U: multiply the building emissions\n",
    "intensity limit of 0.00426 tCO2e/sf by the corresponding gross floor area (sf).\n",
    "§ 28-320.3.1.1 Greenhouse gas coefficient of energy consumption for calendar years 2024\n",
    "through 2029. The annual building emissions of a covered building in accordance with this\n",
    "section, greenhouse gas emissions shall be calculated as follows for calendar years 2024 through\n",
    "2029:\n",
    "1. Utility electricity consumed on the premises of a covered building that is delivered to the\n",
    "building via the electric grid shall be calculated as generating 0.000288962 tCO2e per\n",
    "kilowatt hour, provided, however, that the department, in consultation with the office of\n",
    "long term planning and sustainability, shall promulgate rules governing the calculation of\n",
    "greenhouse gas emissions for campus-style electric systems that share on-site generation\n",
    "but make use of the utility distribution system and for buildings that are not connected to\n",
    "the utility distribution system.\n",
    "2. Natural gas combusted on the premises of a covered building shall be calculated as\n",
    "generating 0.00005311 tCO2e per kbtu.\n",
    "3. #2 fuel oil combusted on the premises of a covered building shall be calculated as\n",
    "generating 0.00007421 tCO2e per kbtu.\n",
    "4. #4 fuel oil combusted on the premises of a covered building shall be calculated as\n",
    "generating 0.00007529 tCO2e per kbtu.\n",
    "5. District steam consumed on the premises of a covered building shall be calculated as\n",
    "generating 0.00004493tCO2e per kbtu.\n",
    "11\n",
    "6. The amount of greenhouse gas emissions attributable to other energy sources, including\n",
    "but not limited to distributed energy resources, shall be determined by the commissioner\n",
    "and promulgated into rules of the department.\n",
    "§ 28-320.3.2 Building emissions limits for calendar years 2030 through 2034. For calendar\n",
    "years 2030 through 2034 the annual building emissions limits for covered buildings shall be\n",
    "calculated pursuant to items 1 through 10 of this section. For the purposes of such calculation the\n",
    "department shall provide a method for converting categories of uses under the United States\n",
    "environmental protection agency Portfolio Manager tool to the equivalent uses and occupancy\n",
    "groups set forth in this section. For a covered building with spaces classified in more than one\n",
    "occupancy group, the annual building emissions limit shall be the sum of the calculated values\n",
    "from items 1 through 10 of this paragraph, as applicable for each space. The department may\n",
    "establish different limits, set forth in the rules of the department, where the department determines\n",
    "that different limits are feasible and in the public interest. Where such limits are set by rule, the\n",
    "average emission limits for all covered buildings shall not be less restrictive than the average\n",
    "emissions impact of the building emissions limits outlined in items 1 through 10 of this section. The\n",
    "advisory board and the office of long term planning and sustainability shall provide advice and\n",
    "recommendation regarding such limits.\n",
    "1. For spaces classified as occupancy group A: multiply the building emissions intensity limit\n",
    "of 0.00420 tCO2e/sf by the corresponding gross floor area (sf);\n",
    "2. For spaces classified as occupancy group B other than as described in item 6: multiply the\n",
    "building emissions intensity limit of 0.00453 tCO2e/sf by the corresponding gross floor\n",
    "area (sf);\n",
    "3. For spaces classified as occupancy groups E and I-4: multiply the building emissions\n",
    "intensity limit of 0.00344 tCO2e/sf by the corresponding gross floor area (sf);\n",
    "4. For spaces classified as occupancy group I-1: multiply the building emissions intensity\n",
    "limit of 0.00598 tCO2e/sf by the corresponding gross floor area (sf);\n",
    "5. For spaces classified as occupancy group F: multiply the building emissions intensity limit\n",
    "of 0.00167 tCO2e/sf by the corresponding gross floor area (sf);\n",
    "6. For spaces classified as occupancy groups B civic administrative facility for emergency\n",
    "response services, B non-production laboratory, Group B ambulatory health care\n",
    "facility, H, I-2 or I-3: multiply the building emissions intensity limit of 0.01193 tCO2e/sf\n",
    "by the corresponding gross floor area (sf);\n",
    "7. For spaces classified as occupancy group M: multiply the building emissions intensity\n",
    "limit of 0.00403 tCO2e/sf by the corresponding gross floor area (sf);\n",
    "12\n",
    "8. For spaces classified as occupancy group R-1: multiply the building emissions intensity\n",
    "limit of 0.00526 tCO2e/sf by the corresponding gross floor area (sf);\n",
    "9. For spaces classified as occupancy groups R-2: multiply the building emissions intensity\n",
    "limit of 0.00407 tCO2e/sf by the corresponding gross floor area (sf);\n",
    "10. For spaces classified as occupancy groups S and U: multiply the building emissions\n",
    "intensity limit of 0.00110 tCO2e/sf by the corresponding gross floor area (sf).\n",
    "§ 28-320.3.2.1 Greenhouse gas coefficients of energy consumption for calendar years 2030\n",
    "through 2034. For the purposes of calculating the annual building emissions of a covered\n",
    "building in accordance with this section, the amount of greenhouse gas emissions attributed to\n",
    "particular energy sources shall be determined by the commissioner and promulgated into rules of\n",
    "the department by no later than January 1, 2023. The commissioner shall consult with the advisory\n",
    "board required by this article to develop such greenhouse gas coefficients for utility electricity\n",
    "consumption. When developing such coefficient, the commissioner shall consider factors\n",
    "including, but not limited to, the best available New York state energy research and development\n",
    "authority and State Energy Plan forecasts for Zone J for the end of the compliance period and\n",
    "beneficial electrification.\n",
    "§ 28-320.3.4 Building emissions limits for calendar years 2035 through 2050. No later than\n",
    "January 1, 2023, the commissioner shall establish by rule annual building emissions limits and\n",
    "building emissions intensity limits applicable for calendar years 2035 through 2039 and building\n",
    "emissions limits and building emissions intensity limits applicable for calendar years 2040\n",
    "through 2049. Such limits shall be set to achieve an average building emissions intensity for all\n",
    "covered buildings of no more than 0.0014 tCO2e/sf/yr by 2050.\n",
    "\n",
    "-->"
   ]
  },
  {
   "cell_type": "markdown",
   "metadata": {},
   "source": [
    "### Import Packages"
   ]
  },
  {
   "cell_type": "code",
   "execution_count": 10,
   "metadata": {
    "slideshow": {
     "slide_type": "skip"
    }
   },
   "outputs": [],
   "source": [
    "# Install and Import packages in the current Jupyter kernel\n",
    "\n",
    "import sys\n",
    "import os\n",
    "\n",
    "# !{sys.executable} -m pip install numpy pandas scikit-learn matplotlib seaborn arcgis sodapy folium pyspark\n",
    "# !conda install --yes --prefix {sys.prefix} geopandas\n",
    "\n",
    "import pandas as pd\n",
    "import numpy as np\n",
    "from sodapy import Socrata\n",
    "\n",
    "from arcgis import GIS\n",
    "from arcgis.geocoding import geocode\n",
    "from arcgis.geometry import lengths, areas_and_lengths, project\n",
    "from arcgis.geometry import Point, Polyline, Polygon, Geometry\n",
    "import geopandas\n",
    "import folium"
   ]
  },
  {
   "cell_type": "markdown",
   "metadata": {},
   "source": [
    "### Import and Prepare Data"
   ]
  },
  {
   "cell_type": "code",
   "execution_count": 145,
   "metadata": {
    "slideshow": {
     "slide_type": "skip"
    }
   },
   "outputs": [
    {
     "name": "stderr",
     "output_type": "stream",
     "text": [
      "WARNING:root:Requests made without an app_token will be subject to strict throttling limits.\n"
     ]
    }
   ],
   "source": [
    "# Enter the information from those sections here\n",
    "consumption_id_2020 = 'usc3-8zwd' #building consumption 2020\n",
    "consumption_id_2019 = 'evu4-6zyr' #building consumption 2019\n",
    "consumption_id_2018 = 'njuk-taxk' #building consumption 2018\n",
    "consumption_id_2017 = '4tys-3tzj' #building consumption 2017\n",
    "consumption_id_2016 = 'utpj-74fz' #building consumption 2016\n",
    "consumption_id_2015 = '77q4-nkfh' #building consumption 2015\n",
    "consumption_id_2014 = 'nbun-wekj' #building consumption 2014\n",
    "consumption_id_2013 = 'yr5p-wjer' #building consumption 2013\n",
    "consumption_id_2012 = 'r6ub-zhff' #building consumption 2012\n",
    "consumption_id_2011 = 'k7nh-aufb' #building consumption 2011\n",
    "\n",
    "footprint_id = 'qb5r-6dgf' #building foorprint coordinates\n",
    "points_id = '7w4b-tj9d' #building coordinates\n",
    "\n",
    "pluto_id = '64uk-42ks' #Primary Land Use Tax Lot Output\n",
    "pluto_change_id = 'qt5r-nqxp' #PLUTO changes\n",
    "\n",
    "socrata_domain = 'data.cityofnewyork.us'\n",
    "socrata_token = os.environ.get(\"x52Wi0DHBQrk0WqZu2yTkQsnc\")\n",
    "client = Socrata(socrata_domain, socrata_token)"
   ]
  },
  {
   "cell_type": "code",
   "execution_count": 65,
   "metadata": {
    "slideshow": {
     "slide_type": "skip"
    }
   },
   "outputs": [],
   "source": [
    "# Building consumption 2020\n",
    "consumption = client.get_all(consumption_id_2020) # to get all data\n",
    "df_consumption = pd.DataFrame.from_dict(consumption)\n",
    "\n",
    "# Building coordinates\n",
    "# points = client.get(points_id)\n",
    "# df_points = pd.DataFrame.from_dict(points)\n",
    "# points = client.get_all(points_id) # to get all data\n",
    "# df_points = pd.DataFrame.from_dict(points)\n",
    "\n",
    "# Building footprint coordinates\n",
    "footprint = client.get(footprint_id)\n",
    "df_footprint = pd.DataFrame.from_dict(footprint)\n",
    "# footprint = client.get_all(footprint_id) # to get all data\n",
    "# df_footprint = pd.DataFrame.from_dict(footprint) # Too large for pd?"
   ]
  },
  {
   "cell_type": "code",
   "execution_count": 115,
   "metadata": {
    "scrolled": true,
    "slideshow": {
     "slide_type": "skip"
    }
   },
   "outputs": [
    {
     "data": {
      "text/plain": [
       "Index(['property_id', 'property_name', 'parent_property_id',\n",
       "       'parent_property_name', 'year_ending', 'nyc_borough_block_and_lot_bbl',\n",
       "       'nyc_building_identification_number_bin', 'address_1', 'city',\n",
       "       'postcode',\n",
       "       ...\n",
       "       'number_of_active_it_meters', 'generation_date', 'release_date',\n",
       "       'borough', 'community_board', 'council_district', 'census_tract', 'nta',\n",
       "       'longitude', 'latitude'],\n",
       "      dtype='object', length=250)"
      ]
     },
     "execution_count": 115,
     "metadata": {},
     "output_type": "execute_result"
    }
   ],
   "source": [
    "df_consumption.columns"
   ]
  },
  {
   "cell_type": "markdown",
   "metadata": {},
   "source": [
    "bbl\tbin\taddress\tzipcode\tbldgtype\tess\tyear\tgfa\tnumbldgs\tnumfloors\teui\tenergy\twui\tghg\tprimary_type\tother_types_dict\thas_datacenter\telectricity\tbedrooms\tnatural_gas\tsteam\tworker_dens\tres_units\tdiesel\tfuel_4\tfuel_2\tfuel_5_6\n"
   ]
  },
  {
   "cell_type": "code",
   "execution_count": 142,
   "metadata": {},
   "outputs": [
    {
     "data": {
      "text/plain": [
       "Index(['property_id', 'property_name', 'parent_property_id',\n",
       "       'parent_property_name', 'year_ending', 'nyc_borough_block_and_lot_bbl',\n",
       "       'nyc_building_identification_number_bin', 'address_1', 'city',\n",
       "       'postcode', 'primary_property_type_self_selected',\n",
       "       'primary_property_type_portfolio_manager_calculated',\n",
       "       'national_median_reference_property_type',\n",
       "       'list_of_all_property_use_types_at_property',\n",
       "       'largest_property_use_type',\n",
       "       'largest_property_use_type_gross_floor_area_ft',\n",
       "       '_2nd_largest_property_use_type',\n",
       "       '_2nd_largest_property_use_gross_floor_area_ft',\n",
       "       '_3rd_largest_property_use_type',\n",
       "       '_3rd_largest_property_use_type_gross_floor_area_ft', 'year_built',\n",
       "       'construction_status', 'number_of_buildings', 'occupancy',\n",
       "       'metered_areas_energy', 'metered_areas_water', 'energy_star_score',\n",
       "       'national_median_energy_star_score', 'target_energy_star_score',\n",
       "       'reason_s_for_no_score',\n",
       "       'energy_star_certification_year_s_certified_score',\n",
       "       'energy_star_certification_eligibility',\n",
       "       'energy_star_certification_last_approval_date', 'site_eui_kbtu_ft',\n",
       "       'weather_normalized_site_eui_kbtu_ft',\n",
       "       'national_median_site_eui_kbtu_ft', 'site_energy_use_kbtu',\n",
       "       'weather_normalized_site_energy_use_kbtu',\n",
       "       'weather_normalized_site_electricity_intensity_kwh_ft',\n",
       "       'weather_normalized_site_natural_gas_intensity_therms_ft',\n",
       "       'source_eui_kbtu_ft', 'weather_normalized_source_eui_kbtu_ft',\n",
       "       'national_median_source_eui_kbtu_ft', 'source_energy_use_kbtu',\n",
       "       'weather_normalized_source_energy_use_kbtu', 'fuel_oil_1_use_kbtu',\n",
       "       'fuel_oil_2_use_kbtu', 'fuel_oil_4_use_kbtu', 'fuel_oil_5_6_use_kbtu',\n",
       "       'diesel_2_use_kbtu', 'propane_use_kbtu', 'district_steam_use_kbtu',\n",
       "       'district_hot_water_use_kbtu', 'district_chilled_water_use_kbtu',\n",
       "       'natural_gas_use_kbtu', 'natural_gas_use_therms',\n",
       "       'weather_normalized_site_natural_gas_use_therms',\n",
       "       'electricity_use_grid_purchase_kbtu',\n",
       "       'electricity_use_grid_purchase_kwh',\n",
       "       'weather_normalized_site_electricity_kwh',\n",
       "       'electricity_use_grid_purchase_and_generated_from_onsite_renewable_systems_kwh',\n",
       "       'electricity_use_grid_purchase_and_generated_from_onsite_renewable_systems_kbtu',\n",
       "       'electricity_use_generated_from_onsite_renewable_systems_and_used_onsite_kwh',\n",
       "       'electricity_use_generated_from_onsite_renewable_systems_and_used_onsite_kbtu',\n",
       "       'electricity_use_generated_from_onsite_renewable_systems_kwh',\n",
       "       'electricity_use_generated_from_onsite_renewable_systems_and_exported_kwh',\n",
       "       'annual_maximum_demand_kw', 'annual_maximum_demand_mm_yyyy',\n",
       "       'annual_maximum_demand_meter_name_meter_id', 'green_power_onsite_kwh',\n",
       "       'green_power_offsite_kwh', 'green_power_onsite_and_offsite_kwh',\n",
       "       'total_ghg_emissions_metric_tons_co2e',\n",
       "       'direct_ghg_emissions_metric_tons_co2e',\n",
       "       'total_ghg_emissions_intensity_kgco2e_ft',\n",
       "       'direct_ghg_emissions_intensity_kgco2e_ft',\n",
       "       'indirect_ghg_emissions_metric_tons_co2e',\n",
       "       'net_emissions_metric_tons_co2e',\n",
       "       'indirect_ghg_emissions_intensity_kgco2e_ft',\n",
       "       'national_median_total_ghg_emissions_metric_tons_co2e',\n",
       "       'egrid_output_emissions_rate_kgco2e_mbtu',\n",
       "       'avoided_emissions_onsite_green_power_metric_tons_co2e',\n",
       "       'avoided_emissions_offsite_green_power_metric_tons_co2e',\n",
       "       'avoided_emissions_onsite_and_offsite_green_power_metric_tons_co2e',\n",
       "       'percent_of_electricity_that_is_green_power',\n",
       "       'percent_of_recs_retained',\n",
       "       'percent_of_total_electricity_generated_from_onsite_renewable_systems',\n",
       "       'leed_us_project_id', 'adult_education_gross_floor_area_ft',\n",
       "       'ambulatory_surgical_center_gross_floor_area_ft',\n",
       "       'automobile_dealership_gross_floor_area_ft',\n",
       "       'bank_branch_gross_floor_area_ft', 'barracks_gross_floor_area_ft',\n",
       "       'college_university_gross_floor_area_ft',\n",
       "       'convention_center_gross_floor_area_ft',\n",
       "       'courthouse_gross_floor_area_ft', 'data_center_gross_floor_area_ft',\n",
       "       'data_center_ups_system_redundancy',\n",
       "       'data_center_cooling_equipment_redundancy',\n",
       "       'data_center_it_energy_configuration'],\n",
       "      dtype='object')"
      ]
     },
     "execution_count": 142,
     "metadata": {},
     "output_type": "execute_result"
    }
   ],
   "source": [
    "df_consumption.columns[:100]\n"
   ]
  },
  {
   "cell_type": "code",
   "execution_count": 143,
   "metadata": {
    "slideshow": {
     "slide_type": "slide"
    }
   },
   "outputs": [
    {
     "data": {
      "text/html": [
       "<div>\n",
       "<style scoped>\n",
       "    .dataframe tbody tr th:only-of-type {\n",
       "        vertical-align: middle;\n",
       "    }\n",
       "\n",
       "    .dataframe tbody tr th {\n",
       "        vertical-align: top;\n",
       "    }\n",
       "\n",
       "    .dataframe thead th {\n",
       "        text-align: right;\n",
       "    }\n",
       "</style>\n",
       "<table border=\"1\" class=\"dataframe\">\n",
       "  <thead>\n",
       "    <tr style=\"text-align: right;\">\n",
       "      <th></th>\n",
       "      <th>list_of_all_property_use_types_at_property</th>\n",
       "      <th>nyc_building_identification_number_bin</th>\n",
       "      <th>year_built</th>\n",
       "      <th>nyc_borough_block_and_lot_bbl</th>\n",
       "      <th>electricity_use_grid_purchase_kwh</th>\n",
       "      <th>natural_gas_use_kbtu</th>\n",
       "      <th>district_steam_use_kbtu</th>\n",
       "      <th>fuel_oil_2_use_kbtu</th>\n",
       "      <th>fuel_oil_4_use_kbtu</th>\n",
       "    </tr>\n",
       "  </thead>\n",
       "  <tbody>\n",
       "    <tr>\n",
       "      <th>0</th>\n",
       "      <td>Bank Branch, Office</td>\n",
       "      <td>1022631</td>\n",
       "      <td>1982</td>\n",
       "      <td>1009970029</td>\n",
       "      <td>6508637.9</td>\n",
       "      <td>Not Available</td>\n",
       "      <td>6414034.1</td>\n",
       "      <td>Not Available</td>\n",
       "      <td>Not Available</td>\n",
       "    </tr>\n",
       "    <tr>\n",
       "      <th>1</th>\n",
       "      <td>Bank Branch, Office, Retail Store</td>\n",
       "      <td>1037545</td>\n",
       "      <td>1956</td>\n",
       "      <td>1013150001</td>\n",
       "      <td>4198817</td>\n",
       "      <td>Not Available</td>\n",
       "      <td>75992330.6</td>\n",
       "      <td>Not Available</td>\n",
       "      <td>Not Available</td>\n",
       "    </tr>\n",
       "    <tr>\n",
       "      <th>2</th>\n",
       "      <td>Financial Office</td>\n",
       "      <td>1022667</td>\n",
       "      <td>1989</td>\n",
       "      <td>1009990019</td>\n",
       "      <td>6117997</td>\n",
       "      <td>893036.7</td>\n",
       "      <td>10562069.7</td>\n",
       "      <td>Not Available</td>\n",
       "      <td>Not Available</td>\n",
       "    </tr>\n",
       "    <tr>\n",
       "      <th>3</th>\n",
       "      <td>Office</td>\n",
       "      <td>1037596</td>\n",
       "      <td>1961</td>\n",
       "      <td>1013190047</td>\n",
       "      <td>4207162</td>\n",
       "      <td>804271.7</td>\n",
       "      <td>12357732.6</td>\n",
       "      <td>Not Available</td>\n",
       "      <td>Not Available</td>\n",
       "    </tr>\n",
       "    <tr>\n",
       "      <th>4</th>\n",
       "      <td>Office, Retail Store</td>\n",
       "      <td>1085682</td>\n",
       "      <td>1999</td>\n",
       "      <td>1009950005</td>\n",
       "      <td>23758868.1</td>\n",
       "      <td>34039087.3</td>\n",
       "      <td>10949895.3</td>\n",
       "      <td>Not Available</td>\n",
       "      <td>Not Available</td>\n",
       "    </tr>\n",
       "  </tbody>\n",
       "</table>\n",
       "</div>"
      ],
      "text/plain": [
       "  list_of_all_property_use_types_at_property  \\\n",
       "0                        Bank Branch, Office   \n",
       "1          Bank Branch, Office, Retail Store   \n",
       "2                           Financial Office   \n",
       "3                                     Office   \n",
       "4                       Office, Retail Store   \n",
       "\n",
       "  nyc_building_identification_number_bin year_built  \\\n",
       "0                                1022631       1982   \n",
       "1                                1037545       1956   \n",
       "2                                1022667       1989   \n",
       "3                                1037596       1961   \n",
       "4                                1085682       1999   \n",
       "\n",
       "  nyc_borough_block_and_lot_bbl electricity_use_grid_purchase_kwh  \\\n",
       "0                    1009970029                         6508637.9   \n",
       "1                    1013150001                           4198817   \n",
       "2                    1009990019                           6117997   \n",
       "3                    1013190047                           4207162   \n",
       "4                    1009950005                        23758868.1   \n",
       "\n",
       "  natural_gas_use_kbtu district_steam_use_kbtu fuel_oil_2_use_kbtu  \\\n",
       "0        Not Available               6414034.1       Not Available   \n",
       "1        Not Available              75992330.6       Not Available   \n",
       "2             893036.7              10562069.7       Not Available   \n",
       "3             804271.7              12357732.6       Not Available   \n",
       "4           34039087.3              10949895.3       Not Available   \n",
       "\n",
       "  fuel_oil_4_use_kbtu  \n",
       "0       Not Available  \n",
       "1       Not Available  \n",
       "2       Not Available  \n",
       "3       Not Available  \n",
       "4       Not Available  "
      ]
     },
     "execution_count": 143,
     "metadata": {},
     "output_type": "execute_result"
    }
   ],
   "source": [
    "df_temp = df_consumption[['nyc_borough_block_and_lot_bbl',\n",
    "                          'nyc_building_identification_number_bin',\n",
    "                          'property_id', \n",
    "                          'parent_property_id',\n",
    "                          'year_ending',\n",
    "                          'list_of_all_property_use_types_at_property', \n",
    "                           \n",
    "                          'year_built', \n",
    "                          , 'electricity_use_grid_purchase_kwh', \\\n",
    "                'natural_gas_use_kbtu', 'district_steam_use_kbtu', 'fuel_oil_2_use_kbtu', 'fuel_oil_4_use_kbtu',]]\n",
    "df_temp.head()"
   ]
  },
  {
   "cell_type": "code",
   "execution_count": 34,
   "metadata": {
    "slideshow": {
     "slide_type": "subslide"
    }
   },
   "outputs": [],
   "source": [
    "emissions_intensity_2024 = df_consumption.total_ghg_emissions_intensity_kgco2e_ft \\\n",
    "    .replace(r'Not Available', np.nan, regex=True).astype(float)"
   ]
  },
  {
   "cell_type": "code",
   "execution_count": 110,
   "metadata": {},
   "outputs": [
    {
     "data": {
      "image/png": "[encoded data removed]",
      "text/plain": [
       "<Figure size 432x288 with 1 Axes>"
      ]
     },
     "metadata": {
      "needs_background": "light"
     },
     "output_type": "display_data"
    }
   ],
   "source": [
    "import matplotlib.pyplot as plt\n",
    "plt.hist(emissions_intensity_2024, bins=30 , range = (0,30), linewidth=2, edgecolor=\"white\",color = '#0000FF')\n",
    "# plt.axhline(4.53, color='r') # horizontal\n",
    "plt.xlabel('Emissions Intensity (kg$CO^{2}$e / $ft^{2}$ / year)')\n",
    "plt.ylabel('Count')\n",
    "plt.show()"
   ]
  },
  {
   "cell_type": "code",
   "execution_count": null,
   "metadata": {
    "slideshow": {
     "slide_type": "skip"
    }
   },
   "outputs": [],
   "source": [
    "# property_id\n",
    "# property_name\n",
    "# year_ending\n",
    "# nyc_borough_block_and_lot_bbl\n",
    "# nyc_building_identification_number_bin\n",
    "# address_1\n",
    "# largest_property_use_type\n",
    "# largest_property_use_type_gross_floor_area_ft\n",
    "# _2nd_largest_property_use_type\n",
    "# _2nd_largest_property_use_gross_floor_area_ft\n",
    "# _3nd_largest_property_use_type\n",
    "# _3nd_largest_property_use_gross_floor_area_ft\n",
    "# site_energy_use_kbtu\n",
    "# occupancy\n",
    "# percent_of_total_electricity_generated_from_onsite_renewable_systems\n",
    "# natural_gas_use_kbtu\n",
    "# electricity_use_grid_purchase_kwh\n",
    "# district_steam_use_kbtu\n",
    "# year_built"
   ]
  },
  {
   "cell_type": "code",
   "execution_count": 59,
   "metadata": {
    "slideshow": {
     "slide_type": "skip"
    }
   },
   "outputs": [
    {
     "ename": "NameError",
     "evalue": "name 'df' is not defined",
     "output_type": "error",
     "traceback": [
      "\u001b[1;31m---------------------------------------------------------------------------\u001b[0m",
      "\u001b[1;31mNameError\u001b[0m                                 Traceback (most recent call last)",
      "\u001b[1;32m~\\AppData\\Local\\Temp/ipykernel_7148/2514627326.py\u001b[0m in \u001b[0;36m<module>\u001b[1;34m\u001b[0m\n\u001b[1;32m----> 1\u001b[1;33m \u001b[0mdf\u001b[0m\u001b[1;33m[\u001b[0m\u001b[0mdf\u001b[0m\u001b[1;33m.\u001b[0m\u001b[0mbin\u001b[0m\u001b[1;33m==\u001b[0m\u001b[1;34m'1022631'\u001b[0m\u001b[1;33m]\u001b[0m\u001b[1;33m\u001b[0m\u001b[1;33m\u001b[0m\u001b[0m\n\u001b[0m",
      "\u001b[1;31mNameError\u001b[0m: name 'df' is not defined"
     ]
    }
   ],
   "source": [
    "df[df.bin=='1022631']"
   ]
  },
  {
   "cell_type": "code",
   "execution_count": 66,
   "metadata": {
    "scrolled": false,
    "slideshow": {
     "slide_type": "slide"
    }
   },
   "outputs": [
    {
     "data": {
      "text/html": [
       "<div>\n",
       "<style scoped>\n",
       "    .dataframe tbody tr th:only-of-type {\n",
       "        vertical-align: middle;\n",
       "    }\n",
       "\n",
       "    .dataframe tbody tr th {\n",
       "        vertical-align: top;\n",
       "    }\n",
       "\n",
       "    .dataframe thead th {\n",
       "        text-align: right;\n",
       "    }\n",
       "</style>\n",
       "<table border=\"1\" class=\"dataframe\">\n",
       "  <thead>\n",
       "    <tr style=\"text-align: right;\">\n",
       "      <th></th>\n",
       "      <th>bin</th>\n",
       "      <th>the_geom</th>\n",
       "    </tr>\n",
       "  </thead>\n",
       "  <tbody>\n",
       "    <tr>\n",
       "      <th>0</th>\n",
       "      <td>3170958</td>\n",
       "      <td>{'type': 'MultiPolygon', 'coordinates': [[[[-7...</td>\n",
       "    </tr>\n",
       "    <tr>\n",
       "      <th>1</th>\n",
       "      <td>5028452</td>\n",
       "      <td>{'type': 'MultiPolygon', 'coordinates': [[[[-7...</td>\n",
       "    </tr>\n",
       "    <tr>\n",
       "      <th>2</th>\n",
       "      <td>5078368</td>\n",
       "      <td>{'type': 'MultiPolygon', 'coordinates': [[[[-7...</td>\n",
       "    </tr>\n",
       "    <tr>\n",
       "      <th>3</th>\n",
       "      <td>3245111</td>\n",
       "      <td>{'type': 'MultiPolygon', 'coordinates': [[[[-7...</td>\n",
       "    </tr>\n",
       "    <tr>\n",
       "      <th>4</th>\n",
       "      <td>4161096</td>\n",
       "      <td>{'type': 'MultiPolygon', 'coordinates': [[[[-7...</td>\n",
       "    </tr>\n",
       "  </tbody>\n",
       "</table>\n",
       "</div>"
      ],
      "text/plain": [
       "       bin                                           the_geom\n",
       "0  3170958  {'type': 'MultiPolygon', 'coordinates': [[[[-7...\n",
       "1  5028452  {'type': 'MultiPolygon', 'coordinates': [[[[-7...\n",
       "2  5078368  {'type': 'MultiPolygon', 'coordinates': [[[[-7...\n",
       "3  3245111  {'type': 'MultiPolygon', 'coordinates': [[[[-7...\n",
       "4  4161096  {'type': 'MultiPolygon', 'coordinates': [[[[-7..."
      ]
     },
     "execution_count": 66,
     "metadata": {},
     "output_type": "execute_result"
    }
   ],
   "source": [
    "df_footprint[['bin', 'the_geom']].head()"
   ]
  },
  {
   "cell_type": "code",
   "execution_count": 74,
   "metadata": {
    "slideshow": {
     "slide_type": "skip"
    }
   },
   "outputs": [],
   "source": [
    "gis = GIS()\n",
    "m=gis.map('New York, NY')"
   ]
  },
  {
   "cell_type": "code",
   "execution_count": 75,
   "metadata": {
    "slideshow": {
     "slide_type": "skip"
    }
   },
   "outputs": [
    {
     "data": {
      "text/plain": [
       "[[[-73.96664570466969, 40.62599676998366],\n",
       "  [-73.96684846176461, 40.625977490862574],\n",
       "  [-73.96685938726297, 40.62604419372411],\n",
       "  [-73.96661621040211, 40.62606731716107],\n",
       "  [-73.96660638332114, 40.626007324369795],\n",
       "  [-73.96664680403327, 40.626003480977275],\n",
       "  [-73.96664570466969, 40.62599676998366]]]"
      ]
     },
     "execution_count": 75,
     "metadata": {},
     "output_type": "execute_result"
    }
   ],
   "source": [
    "l = df_footprint['the_geom'][0]['coordinates'][0]\n",
    "l"
   ]
  },
  {
   "cell_type": "code",
   "execution_count": 76,
   "metadata": {
    "slideshow": {
     "slide_type": "skip"
    }
   },
   "outputs": [
    {
     "name": "stdout",
     "output_type": "stream",
     "text": [
      "True\n"
     ]
    }
   ],
   "source": [
    "line1 = {\n",
    "  \"paths\" : l,\n",
    "  \"spatialReference\" : {\"wkid\" : 4326}\n",
    "}\n",
    "\n",
    "polyline1 = Polyline(line1)\n",
    "print(polyline1.is_valid())"
   ]
  },
  {
   "cell_type": "code",
   "execution_count": 79,
   "metadata": {
    "slideshow": {
     "slide_type": "skip"
    }
   },
   "outputs": [],
   "source": [
    "sym_poly_aoi = {\n",
    "  \"type\": \"esriSFS\",\n",
    "  \"style\": \"esriSFSSolid\",\n",
    "  \"color\": [100,50,50,150],\n",
    "    \"outline\": {\n",
    "     \"type\": \"esriSLS\",\n",
    "     \"style\": \"esriSLSSolid\",\n",
    "     \"color\": [100,50,50,150],\n",
    "     \"width\": 3}\n",
    "}\n",
    "\n",
    "m.draw(polyline1, symbol = sym_poly_aoi)"
   ]
  },
  {
   "cell_type": "code",
   "execution_count": 91,
   "metadata": {
    "scrolled": true,
    "slideshow": {
     "slide_type": "subslide"
    }
   },
   "outputs": [
    {
     "data": {
      "application/vnd.jupyter.widget-view+json": {
       "model_id": "f7c25b8a9f8a4c72be8b602e528089fb",
       "version_major": 2,
       "version_minor": 0
      },
      "text/plain": [
       "MapView(jupyter_target='notebook', layout=Layout(height='400px', width='100%'), ready=True)"
      ]
     },
     "metadata": {},
     "output_type": "display_data"
    },
    {
     "data": {
      "text/html": [
       "<div class=\"map-static-img-preview-9ea3489c-7234-42b7-a57d-f9f9fc589a13\"><img src=\"\"></img></div>"
      ],
      "text/plain": [
       "<IPython.core.display.HTML object>"
      ]
     },
     "metadata": {},
     "output_type": "display_data"
    },
    {
     "data": {
      "text/html": [
       "<div class=\"map-html-embed-preview-9ea3489c-7234-42b7-a57d-f9f9fc589a13\"></div>"
      ],
      "text/plain": [
       "<IPython.core.display.HTML object>"
      ]
     },
     "metadata": {},
     "output_type": "display_data"
    }
   ],
   "source": [
    "m"
   ]
  },
  {
   "cell_type": "markdown",
   "metadata": {
    "slideshow": {
     "slide_type": "skip"
    }
   },
   "source": [
    "--\n",
    "<!--\n",
    "# https://geopandas.org/en/stable/gallery/choro_legends.html\n",
    "# https://geopandas.org/en/stable/getting_started/introduction.html\n",
    "\n",
    "# import httplib, urllib, base64\n",
    "\n",
    "# headers = {\n",
    "#     # Request headers\n",
    "#     'Ocp-Apim-Subscription-Key': '{subscription key}',\n",
    "# }\n",
    "\n",
    "# params = urllib.urlencode({\n",
    "# })\n",
    "\n",
    "\n",
    "# import geopandas as gpd\n",
    "# import matplotlib.pyplot as plt \n",
    "# from mpl_toolkits.axes_grid1 import make_axes_locatable \n",
    "\n",
    "# # Reading the world shapefile \n",
    "# world_data = gpd.read_file(r'D:\\GeoDelta\\Introduction to Geopandas_Basics\\Visualizing Geographical Data\\world.shp')\n",
    "# world_data = world_data[['NAME', 'geometry']]\n",
    "\n",
    "# # Calculating the area of each country \n",
    "# world_data['area'] = world_data.area\n",
    "\n",
    "# # Removing Antarctica from GeoPandas GeoDataframe\n",
    "# world_data = world_data[world_data['NAME'] != 'Antarctica']\n",
    "# world_data.plot()\n",
    "\n",
    "# # Changing the projection\n",
    "# current_crs = world_data.crs   \n",
    "# world_data.to_crs(epsg = 3857, inplace = True)\n",
    "# world_data.plot(column = 'NAME', cmap = 'hsv')\n",
    "\n",
    "# # Re-calculate the areas in Sq. Km.\n",
    "# world_data['area'] = world_data.area/1000000\n",
    "\n",
    "# # Adding a legend \n",
    "# world_data.plot(column = 'area' , cmap = 'hsv' , legend = True, \n",
    "#                 legend_kwds = {'label': \"Area of the country (Sq. Km.)\"}, figsize = (7,7))\n",
    "\n",
    "# # Resizing the legend \n",
    "# fig, ax = plt.subplots(figsize = (10,10))\n",
    "# divider = make_axes_locatable(ax)\n",
    "# cax = divider.append_axes(\"right\", size = \"7%\", pad = 0.1)\n",
    "# world_data.plot(column = 'NAME' , cmap = 'hsv' , legend = None, \n",
    "#                 legend_kwds = {'label': \"Area of the country (Sq. Km.)\"},\n",
    "#                 ax = ax, cax = cax)\n",
    "\n",
    "# https://data.cityofnewyork.us/resource/7w4b-tj9d.json\n",
    "\n",
    "# https://www1.nyc.gov/site/planning/data-maps/open-data/bytes-archive.page?sorts[year]=0\n",
    "# https://www1.nyc.gov/site/doitt/initiatives/3d-building.page\n",
    "# https://www1.nyc.gov/html/gbee/html/plan/ll84_scores.shtml\n",
    "\n",
    "# https://benchmarking.cityofnewyork.us/#/\n",
    "\n",
    "# https://uil.carto.com/api/v2/sql?format=csv&filename=filtered_evt&q=SELECT%20bbl,%20bin,%20address,%20zipcode,%20bldgtype,%20ess,%20year,%20gfa,%20numbldgs,%20numfloors,%20eui,%20energy,%20wui,%20ghg,%20primary_type,%20other_types_dict,%20has_datacenter,%20electricity,%20bedrooms,%20natural_gas,%20steam,%20worker_dens,%20res_units,%20diesel,%20fuel_4,%20fuel_2,%20fuel_5_6%20FROM%20table_2017_disclosure_ll84_viz_01_2019%20WHERE%20(year%20%3E=%201900%20AND%20year%20%3C=%202017)%20AND%20(gfa%20%3E=%2010000%20AND%20gfa%20%3C=%20500035)%20%20AND%20(eui%20%3E=%2050%20AND%20eui%20%3C=%20350)\n",
    "\n",
    "!-->"
   ]
  },
  {
   "cell_type": "code",
   "execution_count": 88,
   "metadata": {},
   "outputs": [
    {
     "data": {
      "text/html": [
       "<div style=\"width:100%;\"><div style=\"position:relative;width:100%;height:0;padding-bottom:60%;\"><span style=\"color:#565656\">Make this Notebook Trusted to load map: File -> Trust Notebook</span><iframe srcdoc=\"&lt;!DOCTYPE html&gt;\n",
       "&lt;head&gt;    \n",
       "    &lt;meta http-equiv=&quot;content-type&quot; content=&quot;text/html; charset=UTF-8&quot; /&gt;\n",
       "    \n",
       "        &lt;script&gt;\n",
       "            L_NO_TOUCH = false;\n",
       "            L_DISABLE_3D = false;\n",
       "        &lt;/script&gt;\n",
       "    \n",
       "    &lt;style&gt;html, body {width: 100%;height: 100%;margin: 0;padding: 0;}&lt;/style&gt;\n",
       "    &lt;style&gt;#map {position:absolute;top:0;bottom:0;right:0;left:0;}&lt;/style&gt;\n",
       "    &lt;script src=&quot;https://cdn.jsdelivr.net/npm/leaflet@1.6.0/dist/leaflet.js&quot;&gt;&lt;/script&gt;\n",
       "    &lt;script src=&quot;https://code.jquery.com/jquery-1.12.4.min.js&quot;&gt;&lt;/script&gt;\n",
       "    &lt;script src=&quot;https://maxcdn.bootstrapcdn.com/bootstrap/3.2.0/js/bootstrap.min.js&quot;&gt;&lt;/script&gt;\n",
       "    &lt;script src=&quot;https://cdnjs.cloudflare.com/ajax/libs/Leaflet.awesome-markers/2.0.2/leaflet.awesome-markers.js&quot;&gt;&lt;/script&gt;\n",
       "    &lt;link rel=&quot;stylesheet&quot; href=&quot;https://cdn.jsdelivr.net/npm/leaflet@1.6.0/dist/leaflet.css&quot;/&gt;\n",
       "    &lt;link rel=&quot;stylesheet&quot; href=&quot;https://maxcdn.bootstrapcdn.com/bootstrap/3.2.0/css/bootstrap.min.css&quot;/&gt;\n",
       "    &lt;link rel=&quot;stylesheet&quot; href=&quot;https://maxcdn.bootstrapcdn.com/bootstrap/3.2.0/css/bootstrap-theme.min.css&quot;/&gt;\n",
       "    &lt;link rel=&quot;stylesheet&quot; href=&quot;https://maxcdn.bootstrapcdn.com/font-awesome/4.6.3/css/font-awesome.min.css&quot;/&gt;\n",
       "    &lt;link rel=&quot;stylesheet&quot; href=&quot;https://cdnjs.cloudflare.com/ajax/libs/Leaflet.awesome-markers/2.0.2/leaflet.awesome-markers.css&quot;/&gt;\n",
       "    &lt;link rel=&quot;stylesheet&quot; href=&quot;https://cdn.jsdelivr.net/gh/python-visualization/folium/folium/templates/leaflet.awesome.rotate.min.css&quot;/&gt;\n",
       "    \n",
       "            &lt;meta name=&quot;viewport&quot; content=&quot;width=device-width,\n",
       "                initial-scale=1.0, maximum-scale=1.0, user-scalable=no&quot; /&gt;\n",
       "            &lt;style&gt;\n",
       "                #map_8129ee7f86640be3bc8a5a253ed7dace {\n",
       "                    position: relative;\n",
       "                    width: 100.0%;\n",
       "                    height: 100.0%;\n",
       "                    left: 0.0%;\n",
       "                    top: 0.0%;\n",
       "                }\n",
       "            &lt;/style&gt;\n",
       "        \n",
       "&lt;/head&gt;\n",
       "&lt;body&gt;    \n",
       "    \n",
       "            &lt;div class=&quot;folium-map&quot; id=&quot;map_8129ee7f86640be3bc8a5a253ed7dace&quot; &gt;&lt;/div&gt;\n",
       "        \n",
       "&lt;/body&gt;\n",
       "&lt;script&gt;    \n",
       "    \n",
       "            var map_8129ee7f86640be3bc8a5a253ed7dace = L.map(\n",
       "                &quot;map_8129ee7f86640be3bc8a5a253ed7dace&quot;,\n",
       "                {\n",
       "                    center: [40.62599676998366, -73.96664570466969],\n",
       "                    crs: L.CRS.EPSG3857,\n",
       "                    zoom: 20,\n",
       "                    zoomControl: true,\n",
       "                    preferCanvas: false,\n",
       "                }\n",
       "            );\n",
       "\n",
       "            \n",
       "\n",
       "        \n",
       "    \n",
       "            var tile_layer_57f380c56716cba29f3463b2bcbb8221 = L.tileLayer(\n",
       "                &quot;https://{s}.tile.openstreetmap.org/{z}/{x}/{y}.png&quot;,\n",
       "                {&quot;attribution&quot;: &quot;Data by \\u0026copy; \\u003ca href=\\&quot;http://openstreetmap.org\\&quot;\\u003eOpenStreetMap\\u003c/a\\u003e, under \\u003ca href=\\&quot;http://www.openstreetmap.org/copyright\\&quot;\\u003eODbL\\u003c/a\\u003e.&quot;, &quot;detectRetina&quot;: false, &quot;maxNativeZoom&quot;: 18, &quot;maxZoom&quot;: 18, &quot;minZoom&quot;: 0, &quot;noWrap&quot;: false, &quot;opacity&quot;: 1, &quot;subdomains&quot;: &quot;abc&quot;, &quot;tms&quot;: false}\n",
       "            ).addTo(map_8129ee7f86640be3bc8a5a253ed7dace);\n",
       "        \n",
       "&lt;/script&gt;\" style=\"position:absolute;width:100%;height:100%;left:0;top:0;border:none !important;\" allowfullscreen webkitallowfullscreen mozallowfullscreen></iframe></div></div>"
      ],
      "text/plain": [
       "<folium.folium.Map at 0x29cb5160640>"
      ]
     },
     "metadata": {},
     "output_type": "display_data"
    }
   ],
   "source": [
    "SF_COORDINATES = (40.62599676998366, -73.96664570466969,)\n",
    "# crimedata = pd.read_csv(\"SFPD_Incidents_2015.csv\")\n",
    "\n",
    "# for speed purposes\n",
    "MAX_RECORDS = 1000\n",
    "\n",
    "# create empty map zoomed in on San Francisco\n",
    "_map = folium.Map(location=SF_COORDINATES, zoom_start=20)\n",
    "\n",
    "# # add a marker for every record in the filtered data, use a clustered view\n",
    "# for each in crimedata[0:MAX_RECORDS].iterrows():\n",
    "#     _map.simple_marker(\n",
    "#         location = [each[1][\"Y\"],each[1][\"X\"]],\n",
    "#         clustered_marker = True)\n",
    "\n",
    "display(_map)"
   ]
  }
 ],
 "metadata": {
  "interpreter": {
   "hash": "1d461b30fc5edc508db32526b337aad33bd293f14f2b02d30461578ede1a81f2"
  },
  "kernelspec": {
   "display_name": "Python 3 (ipykernel)",
   "language": "python",
   "name": "python3"
  },
  "language_info": {
   "codemirror_mode": {
    "name": "ipython",
    "version": 3
   },
   "file_extension": ".py",
   "mimetype": "text/x-python",
   "name": "python",
   "nbconvert_exporter": "python",
   "pygments_lexer": "ipython3",
   "version": "3.9.7"
  }
 },
 "nbformat": 4,
 "nbformat_minor": 2
}
