{
 "cells": [
  {
   "cell_type": "markdown",
   "metadata": {
    "slideshow": {
     "slide_type": "fragment"
    }
   },
   "source": [
    "**To calculate Emissions Intensity:** Emissions intensity is the total global warming potential per square foot per year, measured in kg CO2e/m2/a\n",
    "* [Energy use benchmarking data](https://data.cityofnewyork.us/Environment/Energy-and-Water-Data-Disclosure-for-Local-Law-84-/usc3-8zwd) (anual energy consumption, including natural gas, electricity, and district steam - NYC Open Data, LL84)    \n",
    "* [Building footprint data](https://data.cityofnewyork.us/Housing-Development/Building-Footprints/nqwf-w8eh) (available in NYC Open Data)\n",
    "* [Building 3D models](https://www1.nyc.gov/site/doitt/initiatives/3d-building.page) (available in NYC Open Data)"
   ]
  },
  {
   "cell_type": "markdown",
   "metadata": {
    "slideshow": {
     "slide_type": "fragment"
    }
   },
   "source": [
    "**To identify Emissions Target:** Emissions limit are specifed in the LL97 based on the building classification for 2024 and 2030. \n",
    "* [Building Use and Characteristics](https://www1.nyc.gov/site/planning/data-maps/open-data/bytes-archive.page?sorts[year]=0) (available in NYC Open Data)"
   ]
  },
  {
   "cell_type": "markdown",
   "metadata": {
    "slideshow": {
     "slide_type": "skip"
    }
   },
   "source": [
    "--\n",
    "<!-- ** Featureset Exploration **\n",
    "\n",
    "* **age**: continuous. \n",
    "* **workclass**: Private, Self-emp-not-inc, Self-emp-inc, Federal-gov, Local-gov, State-gov, Without-pay, Never-worked. \n",
    "* **education**: Bachelors, Some-college, 11th, HS-grad, Prof-school, Assoc-acdm, Assoc-voc, 9th, 7th-8th, 12th, Masters, 1st-4th, 10th, Doctorate, 5th-6th, Preschool. \n",
    "* **education-num**: continuous. \n",
    "* **marital-status**: Married-civ-spouse, Divorced, Never-married, Separated, Widowed, Married-spouse-absent, Married-AF-spouse. \n",
    "* **occupation**: Tech-support, Craft-repair, Other-service, Sales, Exec-managerial, Prof-specialty, Handlers-cleaners, Machine-op-inspct, Adm-clerical, Farming-fishing, Transport-moving, Priv-house-serv, Protective-serv, Armed-Forces. \n",
    "* **relationship**: Wife, Own-child, Husband, Not-in-family, Other-relative, Unmarried. \n",
    "* **race**: Black, White, Asian-Pac-Islander, Amer-Indian-Eskimo, Other. \n",
    "* **sex**: Female, Male. \n",
    "* **capital-gain**: continuous. \n",
    "* **capital-loss**: continuous. \n",
    "* **hours-per-week**: continuous. \n",
    "* **native-country**: United-States, Cambodia, England, Puerto-Rico, Canada, Germany, Outlying-US(Guam-USVI-etc), India, Japan, Greece, South, China, Cuba, Iran, Honduras, Philippines, Italy, Poland, Jamaica, Vietnam, Mexico, Portugal, Ireland, France, Dominican-Republic, Laos, Ecuador, Taiwan, Haiti, Columbia, Hungary, Guatemala, Nicaragua, Scotland, Thailand, Yugoslavia, El-Salvador, Trinadad&Tobago, Peru, Hong, Holand-Netherlands. \n",
    "\n",
    "\n",
    "\n",
    "§ 28-320.3.1 Annual building emissions limits 2024-2029. For calendar years 2024 through\n",
    "2029 the annual building emissions limits for covered buildings shall be calculated pursuant to\n",
    "items 1 through 10 of this section. For the purposes of such calculation the department shall\n",
    "provide a method for converting categories of uses under the United States environmental\n",
    "protection agency Portfolio Manager tool to the equivalent uses and occupancy groups set forth in\n",
    "this section. For a covered building with spaces classified in more than one occupancy group, the\n",
    "annual building emissions limit shall be the sum of the calculated values from items 1 through 10\n",
    "of this paragraph, as applicable for each space.\n",
    "1. For spaces classified as occupancy group A: multiply the building emissions intensity limit\n",
    "of 0.01074 tCO2e/sf by the corresponding gross floor area (sf);\n",
    "2. For spaces classified as occupancy group B other than as described in item 6: multiply the\n",
    "building emissions intensity limit of 0.00846 tCO2e/sf by the corresponding gross floor\n",
    "area (sf);\n",
    "3. For spaces classified as occupancy groups E and I-4: multiply the building emissions\n",
    "intensity limit of 0.00758 tCO2e/sf by the corresponding gross floor area (sf);\n",
    "4. For spaces classified as occupancy group I-1: multiply the building emissions intensity\n",
    "limit of 0.01138 tCO2e/sf by the corresponding gross floor area (sf);\n",
    "10\n",
    "5. For spaces classified as occupancy group F: multiply the building emissions intensity\n",
    "limit of 0.00574 tCO2e/sf by the corresponding gross floor area (sf);\n",
    "6. For spaces classified as occupancy groups B civic administrative facility for emergency\n",
    "response services, B non-production laboratory, Group B ambulatory health care\n",
    "facility, H, I-2 and I-3: multiply the building emissions intensity limit of 0.02381 tCO2e/sf\n",
    "by the corresponding gross floor area (sf);\n",
    "7. For spaces classified as occupancy group M: multiply the building emissions intensity\n",
    "limit of 0.01181 tCO2e/sf by the corresponding gross floor area (sf);\n",
    "8. For spaces classified as occupancy group R-1: multiply the building emissions intensity\n",
    "limit of 0.00987 tCO2e/sf by the corresponding gross floor area (sf);\n",
    "9. For spaces classified as occupancy group R-2: multiply the building emissions intensity\n",
    "limit of 0.00675 tCO2e/sf by the corresponding gross floor area (sf);\n",
    "10. For spaces classified as occupancy groups S and U: multiply the building emissions\n",
    "intensity limit of 0.00426 tCO2e/sf by the corresponding gross floor area (sf).\n",
    "§ 28-320.3.1.1 Greenhouse gas coefficient of energy consumption for calendar years 2024\n",
    "through 2029. The annual building emissions of a covered building in accordance with this\n",
    "section, greenhouse gas emissions shall be calculated as follows for calendar years 2024 through\n",
    "2029:\n",
    "1. Utility electricity consumed on the premises of a covered building that is delivered to the\n",
    "building via the electric grid shall be calculated as generating 0.000288962 tCO2e per\n",
    "kilowatt hour, provided, however, that the department, in consultation with the office of\n",
    "long term planning and sustainability, shall promulgate rules governing the calculation of\n",
    "greenhouse gas emissions for campus-style electric systems that share on-site generation\n",
    "but make use of the utility distribution system and for buildings that are not connected to\n",
    "the utility distribution system.\n",
    "2. Natural gas combusted on the premises of a covered building shall be calculated as\n",
    "generating 0.00005311 tCO2e per kbtu.\n",
    "3. #2 fuel oil combusted on the premises of a covered building shall be calculated as\n",
    "generating 0.00007421 tCO2e per kbtu.\n",
    "4. #4 fuel oil combusted on the premises of a covered building shall be calculated as\n",
    "generating 0.00007529 tCO2e per kbtu.\n",
    "5. District steam consumed on the premises of a covered building shall be calculated as\n",
    "generating 0.00004493tCO2e per kbtu.\n",
    "11\n",
    "6. The amount of greenhouse gas emissions attributable to other energy sources, including\n",
    "but not limited to distributed energy resources, shall be determined by the commissioner\n",
    "and promulgated into rules of the department.\n",
    "§ 28-320.3.2 Building emissions limits for calendar years 2030 through 2034. For calendar\n",
    "years 2030 through 2034 the annual building emissions limits for covered buildings shall be\n",
    "calculated pursuant to items 1 through 10 of this section. For the purposes of such calculation the\n",
    "department shall provide a method for converting categories of uses under the United States\n",
    "environmental protection agency Portfolio Manager tool to the equivalent uses and occupancy\n",
    "groups set forth in this section. For a covered building with spaces classified in more than one\n",
    "occupancy group, the annual building emissions limit shall be the sum of the calculated values\n",
    "from items 1 through 10 of this paragraph, as applicable for each space. The department may\n",
    "establish different limits, set forth in the rules of the department, where the department determines\n",
    "that different limits are feasible and in the public interest. Where such limits are set by rule, the\n",
    "average emission limits for all covered buildings shall not be less restrictive than the average\n",
    "emissions impact of the building emissions limits outlined in items 1 through 10 of this section. The\n",
    "advisory board and the office of long term planning and sustainability shall provide advice and\n",
    "recommendation regarding such limits.\n",
    "1. For spaces classified as occupancy group A: multiply the building emissions intensity limit\n",
    "of 0.00420 tCO2e/sf by the corresponding gross floor area (sf);\n",
    "2. For spaces classified as occupancy group B other than as described in item 6: multiply the\n",
    "building emissions intensity limit of 0.00453 tCO2e/sf by the corresponding gross floor\n",
    "area (sf);\n",
    "3. For spaces classified as occupancy groups E and I-4: multiply the building emissions\n",
    "intensity limit of 0.00344 tCO2e/sf by the corresponding gross floor area (sf);\n",
    "4. For spaces classified as occupancy group I-1: multiply the building emissions intensity\n",
    "limit of 0.00598 tCO2e/sf by the corresponding gross floor area (sf);\n",
    "5. For spaces classified as occupancy group F: multiply the building emissions intensity limit\n",
    "of 0.00167 tCO2e/sf by the corresponding gross floor area (sf);\n",
    "6. For spaces classified as occupancy groups B civic administrative facility for emergency\n",
    "response services, B non-production laboratory, Group B ambulatory health care\n",
    "facility, H, I-2 or I-3: multiply the building emissions intensity limit of 0.01193 tCO2e/sf\n",
    "by the corresponding gross floor area (sf);\n",
    "7. For spaces classified as occupancy group M: multiply the building emissions intensity\n",
    "limit of 0.00403 tCO2e/sf by the corresponding gross floor area (sf);\n",
    "12\n",
    "8. For spaces classified as occupancy group R-1: multiply the building emissions intensity\n",
    "limit of 0.00526 tCO2e/sf by the corresponding gross floor area (sf);\n",
    "9. For spaces classified as occupancy groups R-2: multiply the building emissions intensity\n",
    "limit of 0.00407 tCO2e/sf by the corresponding gross floor area (sf);\n",
    "10. For spaces classified as occupancy groups S and U: multiply the building emissions\n",
    "intensity limit of 0.00110 tCO2e/sf by the corresponding gross floor area (sf).\n",
    "§ 28-320.3.2.1 Greenhouse gas coefficients of energy consumption for calendar years 2030\n",
    "through 2034. For the purposes of calculating the annual building emissions of a covered\n",
    "building in accordance with this section, the amount of greenhouse gas emissions attributed to\n",
    "particular energy sources shall be determined by the commissioner and promulgated into rules of\n",
    "the department by no later than January 1, 2023. The commissioner shall consult with the advisory\n",
    "board required by this article to develop such greenhouse gas coefficients for utility electricity\n",
    "consumption. When developing such coefficient, the commissioner shall consider factors\n",
    "including, but not limited to, the best available New York state energy research and development\n",
    "authority and State Energy Plan forecasts for Zone J for the end of the compliance period and\n",
    "beneficial electrification.\n",
    "§ 28-320.3.4 Building emissions limits for calendar years 2035 through 2050. No later than\n",
    "January 1, 2023, the commissioner shall establish by rule annual building emissions limits and\n",
    "building emissions intensity limits applicable for calendar years 2035 through 2039 and building\n",
    "emissions limits and building emissions intensity limits applicable for calendar years 2040\n",
    "through 2049. Such limits shall be set to achieve an average building emissions intensity for all\n",
    "covered buildings of no more than 0.0014 tCO2e/sf/yr by 2050.\n",
    "\n",
    "-->"
   ]
  },
  {
   "cell_type": "code",
   "execution_count": 478,
   "metadata": {
    "slideshow": {
     "slide_type": "skip"
    }
   },
   "outputs": [],
   "source": [
    "# Install and Import packages in the current Jupyter kernel\n",
    "\n",
    "import sys\n",
    "import os\n",
    "\n",
    "# !{sys.executable} -m pip install numpy pandas scikit-learn matplotlib seaborn arcgis sodapy folium pyspark\n",
    "# !conda install --yes --prefix {sys.prefix} geopandas\n",
    "\n",
    "import pandas as pd\n",
    "import numpy as np\n",
    "from sodapy import Socrata\n",
    "\n",
    "from arcgis import GIS\n",
    "from arcgis.geocoding import geocode\n",
    "from arcgis.geometry import lengths, areas_and_lengths, project\n",
    "from arcgis.geometry import Point, Polyline, Polygon, Geometry\n",
    "import geopandas\n",
    "import folium\n",
    "import pickle"
   ]
  },
  {
   "cell_type": "code",
   "execution_count": 479,
   "metadata": {
    "slideshow": {
     "slide_type": "skip"
    }
   },
   "outputs": [],
   "source": [
    "# Data ID from NYC OPEN DATA\n",
    "dic_id = {\n",
    "    'consumption_2020' : 'usc3-8zwd' ,  #building consumption 2020\n",
    "    'consumption_2019' : 'wcm8-aq5w' , #building consumption 2019\n",
    "    'consumption_2018' : '4tys-3tzj' , #building consumption 2018\n",
    "    'consumption_2017' : '4tys-3tzj' , #building consumption 2017\n",
    "    'consumption_2016' : 'utpj-74fz' , #building consumption 2016\n",
    "    'consumption_2015' : '77q4-nkfh' , #building consumption 2015\n",
    "    'consumption_2014' : 'nbun-wekj' , #building consumption 2014\n",
    "    'consumption_2013' : 'yr5p-wjer' , #building consumption 2013\n",
    "    'consumption_2012' : 'r6ub-zhff' , #building consumption 2012\n",
    "    'consumption_2011' : 'k7nh-aufb' , #building consumption 2011\n",
    "    'consumption_2010' : 'kswi-37bp' , #building consumption 2010\n",
    "    'footprint' : 'qb5r-6dgf' , #building foorprint coordinates\n",
    "    'points' : '7w4b-tj9d' , #building coordinates\n",
    "    'pluto' : '64uk-42ks' , #Primary Land Use Tax Lot Output\n",
    "    'pluto_change' : 'qt5r-nqxp' , #PLUTO changes\n",
    "    }"
   ]
  },
  {
   "cell_type": "code",
   "execution_count": 480,
   "metadata": {},
   "outputs": [
    {
     "name": "stderr",
     "output_type": "stream",
     "text": [
      "WARNING:root:Requests made without an app_token will be subject to strict throttling limits.\n"
     ]
    }
   ],
   "source": [
    "socrata_domain = 'data.cityofnewyork.us'\n",
    "socrata_token = os.environ.get(\"x52Wi0DHBQrk0WqZu2yTkQsnc\")\n",
    "client = Socrata(socrata_domain, socrata_token)"
   ]
  },
  {
   "cell_type": "code",
   "execution_count": 481,
   "metadata": {},
   "outputs": [
    {
     "data": {
      "text/plain": [
       "\"\\n# RUN ONLY ONCE TO STORE THE DATA LOCALLY\\n\\ndef store_data(df_name, api_id):\\n    json_data = client.get_all(api_id) # to get all data\\n    df = pd.DataFrame.from_dict(json_data)\\n    df.to_csv(df_name+'.csv')\\n    print(df_name+' was stored.')\\n    return\\n\\nfor key, value in dic_id.items():\\n    store_data(key, value)\\n\\n\""
      ]
     },
     "execution_count": 481,
     "metadata": {},
     "output_type": "execute_result"
    }
   ],
   "source": [
    "\"\"\"\n",
    "# RUN ONLY ONCE TO STORE THE DATA LOCALLY\n",
    "\n",
    "def store_data(df_name, api_id):\n",
    "    json_data = client.get_all(api_id) # to get all data\n",
    "    df = pd.DataFrame.from_dict(json_data)\n",
    "    df.to_csv(df_name+'.csv')\n",
    "    print(df_name+' was stored.')\n",
    "    return\n",
    "\n",
    "for key, value in dic_id.items():\n",
    "    store_data(key, value)\n",
    "\n",
    "\"\"\""
   ]
  },
  {
   "cell_type": "code",
   "execution_count": 482,
   "metadata": {
    "scrolled": true
   },
   "outputs": [
    {
     "name": "stdout",
     "output_type": "stream",
     "text": [
      "df_consumption_2020 was loaded.\n",
      "df_consumption_2019 was loaded.\n",
      "df_consumption_2018 was loaded.\n",
      "df_consumption_2017 was loaded.\n",
      "df_consumption_2016 was loaded.\n",
      "df_consumption_2015 was loaded.\n",
      "df_consumption_2014 was loaded.\n",
      "df_consumption_2013 was loaded.\n",
      "df_consumption_2012 was loaded.\n",
      "df_consumption_2011 was loaded.\n",
      "df_consumption_2010 was loaded.\n"
     ]
    },
    {
     "name": "stderr",
     "output_type": "stream",
     "text": [
      "C:\\Users\\marazken\\Anaconda3\\lib\\site-packages\\numpy\\lib\\arraysetops.py:583: FutureWarning: elementwise comparison failed; returning scalar instead, but in the future will perform elementwise comparison\n",
      "  mask |= (ar1 == a)\n"
     ]
    },
    {
     "name": "stdout",
     "output_type": "stream",
     "text": [
      "df_footprint was loaded.\n",
      "df_points was loaded.\n",
      "df_pluto was loaded.\n",
      "df_pluto_change was loaded.\n"
     ]
    }
   ],
   "source": [
    "# RUN TO LOAD DATA\n",
    "\n",
    "for key, value in dic_id.items():\n",
    "    exec(f\"df_{key}\" + f\" = pd.read_csv('{key}\" + \".csv', index_col=[0], low_memory=False)\")\n",
    "    print('df_'+key+' was loaded.')"
   ]
  },
  {
   "cell_type": "code",
   "execution_count": 483,
   "metadata": {},
   "outputs": [],
   "source": [
    "pd.set_option(\"display.max_columns\", None)"
   ]
  },
  {
   "cell_type": "code",
   "execution_count": 484,
   "metadata": {},
   "outputs": [
    {
     "data": {
      "text/plain": [
       "28067"
      ]
     },
     "execution_count": 484,
     "metadata": {},
     "output_type": "execute_result"
    }
   ],
   "source": [
    "len(df_2020)"
   ]
  },
  {
   "cell_type": "code",
   "execution_count": 485,
   "metadata": {},
   "outputs": [
    {
     "data": {
      "text/plain": [
       "26557"
      ]
     },
     "execution_count": 485,
     "metadata": {},
     "output_type": "execute_result"
    }
   ],
   "source": [
    "len(df_consumption_2020.nyc_borough_block_and_lot_bbl.unique())"
   ]
  },
  {
   "cell_type": "code",
   "execution_count": 486,
   "metadata": {},
   "outputs": [
    {
     "data": {
      "text/plain": [
       "26723"
      ]
     },
     "execution_count": 486,
     "metadata": {},
     "output_type": "execute_result"
    }
   ],
   "source": [
    "len(df_consumption_2020.nyc_building_identification_number_bin.unique())"
   ]
  },
  {
   "cell_type": "code",
   "execution_count": 723,
   "metadata": {
    "scrolled": true
   },
   "outputs": [],
   "source": [
    "#clean consumption data\n",
    "\n",
    "df_2020 = df_consumption_2020[['property_id', \n",
    "                               'parent_property_id', \n",
    "                               'nyc_borough_block_and_lot_bbl',\n",
    "                               'nyc_building_identification_number_bin', \n",
    "                               'longitude', \n",
    "                               'latitude',\n",
    "                               'address_1',\n",
    "                               'city', \n",
    "                               'borough', \n",
    "                               'postcode', \n",
    "                               'census_tract', \n",
    "                               'national_median_reference_property_type',\n",
    "                               'property_gfa_calculated_buildings_ft',\n",
    "                               'electricity_use_grid_purchase_kwh', \n",
    "                               'natural_gas_use_kbtu', \n",
    "                               'district_steam_use_kbtu', \n",
    "                               'fuel_oil_2_use_kbtu', \n",
    "                               'fuel_oil_4_use_kbtu', \n",
    "                               'electricity_use_generated_from_onsite_renewable_systems_kwh']].rename(columns={'parent_property_id':'parent_id', \n",
    "                                                                                   'nyc_borough_block_and_lot_bbl' : 'bbl',\n",
    "                                                                                   'nyc_building_identification_number_bin' : 'bin', \n",
    "                                                                                   'address_1': 'address',\n",
    "                                                                                   'national_median_reference_property_type': 'property_type',\n",
    "                                                                                   'electricity_use_grid_purchase_kwh': 'electricity_kwh', \n",
    "                                                                                   'natural_gas_use_kbtu': 'natural_gas_kbtu', \n",
    "                                                                                   'fuel_oil_2_use_kbtu': 'fuel_2_kbtu', \n",
    "                                                                                   'fuel_oil_4_use_kbtu': 'fuel_4_kbtu', \n",
    "                                                                                   'district_steam_use_kbtu' : 'steam_kbtu' , \n",
    "                                                                                   'electricity_use_generated_from_onsite_renewable_systems_kwh' : 'onsite_renewable_kwh', \n",
    "                                                                                   'property_gfa_calculated_buildings_ft': 'floor_area_ft'})\n",
    "\n",
    "df_2019 = df_consumption_2019[['property_id',\n",
    "                               'electricity_use_grid_purchase_1',\n",
    "                               'natural_gas_use_kbtu',\n",
    "                               'district_steam_use_kbtu',\n",
    "                               'fuel_oil_2_use_kbtu', \n",
    "                               'fuel_oil_4_use_kbtu']].rename(columns={'electricity_use_grid_purchase_1': 'electricity_kwh', \n",
    "                                                                       'natural_gas_use_kbtu': 'natural_gas_kbtu', \n",
    "                                                                       'fuel_oil_2_use_kbtu': 'fuel_2_kbtu', \n",
    "                                                                       'fuel_oil_4_use_kbtu': 'fuel_4_kbtu', \n",
    "                                                                       'district_steam_use_kbtu' : 'steam_kbtu'})\n",
    "\n",
    "df_new = df_2020.join(df_2019.set_index('property_id'), rsuffix='_2019', on='property_id', how='left')"
   ]
  },
  {
   "cell_type": "code",
   "execution_count": 724,
   "metadata": {},
   "outputs": [
    {
     "data": {
      "text/plain": [
       "29189"
      ]
     },
     "execution_count": 724,
     "metadata": {},
     "output_type": "execute_result"
    }
   ],
   "source": [
    "len(df_new)"
   ]
  },
  {
   "cell_type": "code",
   "execution_count": 725,
   "metadata": {
    "scrolled": true
   },
   "outputs": [],
   "source": [
    "df_2018 = df_consumption_2018[['property_id',\n",
    "                               'electricity_use_grid_purchase_1',\n",
    "                               'natural_gas_use_kbtu',\n",
    "                               'district_steam_use_kbtu',\n",
    "                               'fuel_oil_2_use_kbtu', \n",
    "                               'fuel_oil_4_use_kbtu']].rename(columns={'electricity_use_grid_purchase_1': 'electricity_kwh', \n",
    "                                                                       'natural_gas_use_kbtu': 'natural_gas_kbtu', \n",
    "                                                                       'fuel_oil_2_use_kbtu': 'fuel_2_kbtu', \n",
    "                                                                       'fuel_oil_4_use_kbtu': 'fuel_4_kbtu', \n",
    "                                                                       'district_steam_use_kbtu' : 'steam_kbtu'})\n",
    "\n",
    "df_new = df_new.join(df_2018.set_index('property_id'), rsuffix='_2018', on='property_id', how='left')"
   ]
  },
  {
   "cell_type": "code",
   "execution_count": 726,
   "metadata": {},
   "outputs": [
    {
     "data": {
      "text/plain": [
       "29909"
      ]
     },
     "execution_count": 726,
     "metadata": {},
     "output_type": "execute_result"
    }
   ],
   "source": [
    "len(df_new)"
   ]
  },
  {
   "cell_type": "code",
   "execution_count": 727,
   "metadata": {},
   "outputs": [],
   "source": [
    "\n",
    "df_2017 = df_consumption_2017[['property_id',\n",
    "                               'electricity_use_grid_purchase_1',\n",
    "                               'natural_gas_use_kbtu',\n",
    "                               'district_steam_use_kbtu',\n",
    "                               'fuel_oil_2_use_kbtu', \n",
    "                               'fuel_oil_4_use_kbtu']].rename(columns={'electricity_use_grid_purchase_1': 'electricity_kwh', \n",
    "                                                                       'natural_gas_use_kbtu': 'natural_gas_kbtu', \n",
    "                                                                       'fuel_oil_2_use_kbtu': 'fuel_2_kbtu', \n",
    "                                                                       'fuel_oil_4_use_kbtu': 'fuel_4_kbtu', \n",
    "                                                                       'district_steam_use_kbtu' : 'steam_kbtu'})\n",
    "\n",
    "df_new = df_new.join(df_2017.set_index('property_id'), rsuffix='_2017', on='property_id', how='left')"
   ]
  },
  {
   "cell_type": "code",
   "execution_count": 728,
   "metadata": {},
   "outputs": [
    {
     "data": {
      "text/plain": [
       "31357"
      ]
     },
     "execution_count": 728,
     "metadata": {},
     "output_type": "execute_result"
    }
   ],
   "source": [
    "len(df_new)"
   ]
  },
  {
   "cell_type": "code",
   "execution_count": 729,
   "metadata": {},
   "outputs": [],
   "source": [
    "df_2016 = df_consumption_2016[['property_id',\n",
    "                               'electricity_use_grid_purchase_1',\n",
    "                               'natural_gas_use_kbtu',\n",
    "                               'district_steam_use_kbtu',\n",
    "                               'fuel_oil_2_use_kbtu', \n",
    "                               'fuel_oil_4_use_kbtu']].rename(columns={'electricity_use_grid_purchase_1': 'electricity_kwh', \n",
    "                                                                       'natural_gas_use_kbtu': 'natural_gas_kbtu', \n",
    "                                                                       'fuel_oil_2_use_kbtu': 'fuel_2_kbtu', \n",
    "                                                                       'fuel_oil_4_use_kbtu': 'fuel_4_kbtu', \n",
    "                                                                       'district_steam_use_kbtu' : 'steam_kbtu'})\n",
    "\n",
    "df_new = df_new.join(df_2016.set_index('property_id'), rsuffix='_2016', on='property_id', how='left')"
   ]
  },
  {
   "cell_type": "code",
   "execution_count": 730,
   "metadata": {},
   "outputs": [
    {
     "data": {
      "text/plain": [
       "31388"
      ]
     },
     "execution_count": 730,
     "metadata": {},
     "output_type": "execute_result"
    }
   ],
   "source": [
    "len(df_new)"
   ]
  },
  {
   "cell_type": "code",
   "execution_count": 731,
   "metadata": {},
   "outputs": [],
   "source": [
    "df_2015 = df_consumption_2015[['property_id',\n",
    "                               'electricity_use_grid_purchase_1',\n",
    "                               'natural_gas_use_kbtu',\n",
    "                               'district_steam_use_kbtu',\n",
    "                               'fuel_oil_2_use_kbtu', \n",
    "                               'fuel_oil_4_use_kbtu']].rename(columns={'electricity_use_grid_purchase_1': 'electricity_kwh', \n",
    "                                                                       'natural_gas_use_kbtu': 'natural_gas_kbtu', \n",
    "                                                                       'fuel_oil_2_use_kbtu': 'fuel_2_kbtu', \n",
    "                                                                       'fuel_oil_4_use_kbtu': 'fuel_4_kbtu', \n",
    "                                                                       'district_steam_use_kbtu' : 'steam_kbtu'})\n",
    "\n",
    "df_new = df_new.join(df_2015.set_index('property_id'), rsuffix='_2015', on='property_id', how='left')"
   ]
  },
  {
   "cell_type": "code",
   "execution_count": 732,
   "metadata": {},
   "outputs": [
    {
     "data": {
      "text/plain": [
       "31595"
      ]
     },
     "execution_count": 732,
     "metadata": {},
     "output_type": "execute_result"
    }
   ],
   "source": [
    "len(df_new)"
   ]
  },
  {
   "cell_type": "code",
   "execution_count": 733,
   "metadata": {},
   "outputs": [],
   "source": [
    "df_2014 = df_consumption_2014[['property_id',\n",
    "                               'electricity_use_grid_purchase_1',\n",
    "                               'natural_gas_use_kbtu',\n",
    "                               'district_steam_use_kbtu',\n",
    "                               'fuel_oil_2_use_kbtu', \n",
    "                               'fuel_oil_4_use_kbtu']].rename(columns={'electricity_use_grid_purchase_1': 'electricity_kwh', \n",
    "                                                                       'natural_gas_use_kbtu': 'natural_gas_kbtu', \n",
    "                                                                       'fuel_oil_2_use_kbtu': 'fuel_2_kbtu', \n",
    "                                                                       'fuel_oil_4_use_kbtu': 'fuel_4_kbtu', \n",
    "                                                                       'district_steam_use_kbtu' : 'steam_kbtu'})\n",
    "\n",
    "df_new = df_new.join(df_2014.set_index('property_id'), rsuffix='_2014', on='property_id', how='left')"
   ]
  },
  {
   "cell_type": "code",
   "execution_count": 734,
   "metadata": {},
   "outputs": [
    {
     "data": {
      "text/plain": [
       "31632"
      ]
     },
     "execution_count": 734,
     "metadata": {},
     "output_type": "execute_result"
    }
   ],
   "source": [
    "len(df_new)"
   ]
  },
  {
   "cell_type": "code",
   "execution_count": 735,
   "metadata": {},
   "outputs": [],
   "source": [
    "df_2013 = df_consumption_2013[['property_id',\n",
    "                               'electricity_use_grid_purchase_1',\n",
    "                               'natural_gas_use_kbtu',\n",
    "                               'district_steam_use_kbtu',\n",
    "                               'fuel_oil_2_use_kbtu', \n",
    "                               'fuel_oil_4_use_kbtu']].rename(columns={'electricity_use_grid_purchase_1': 'electricity_kwh', \n",
    "                                                                       'natural_gas_use_kbtu': 'natural_gas_kbtu', \n",
    "                                                                       'fuel_oil_2_use_kbtu': 'fuel_2_kbtu', \n",
    "                                                                       'fuel_oil_4_use_kbtu': 'fuel_4_kbtu', \n",
    "                                                                       'district_steam_use_kbtu' : 'steam_kbtu'})\n",
    "\n",
    "df_new = df_new.join(df_2013.set_index('property_id'), rsuffix='_2013', on='property_id', how='left')"
   ]
  },
  {
   "cell_type": "code",
   "execution_count": 736,
   "metadata": {},
   "outputs": [
    {
     "data": {
      "text/plain": [
       "31753"
      ]
     },
     "execution_count": 736,
     "metadata": {},
     "output_type": "execute_result"
    }
   ],
   "source": [
    "len(df_new)"
   ]
  },
  {
   "cell_type": "code",
   "execution_count": 737,
   "metadata": {},
   "outputs": [],
   "source": [
    "df_2012 = df_consumption_2012[['property_id',\n",
    "                               'electricity_use_grid_purchase_1',\n",
    "                               'natural_gas_use_kbtu',\n",
    "                               'district_steam_use_kbtu',\n",
    "                               'fuel_oil_2_use_kbtu', \n",
    "                               'fuel_oil_4_use_kbtu']].rename(columns={'electricity_use_grid_purchase_1': 'electricity_kwh', \n",
    "                                                                       'natural_gas_use_kbtu': 'natural_gas_kbtu', \n",
    "                                                                       'fuel_oil_2_use_kbtu': 'fuel_2_kbtu', \n",
    "                                                                       'fuel_oil_4_use_kbtu': 'fuel_4_kbtu', \n",
    "                                                                       'district_steam_use_kbtu' : 'steam_kbtu'})\n",
    "\n",
    "df_new = df_new.join(df_2012.set_index('property_id'), rsuffix='_2012', on='property_id', how='left')"
   ]
  },
  {
   "cell_type": "code",
   "execution_count": 738,
   "metadata": {},
   "outputs": [
    {
     "data": {
      "text/plain": [
       "31872"
      ]
     },
     "execution_count": 738,
     "metadata": {},
     "output_type": "execute_result"
    }
   ],
   "source": [
    "len(df_new)"
   ]
  },
  {
   "cell_type": "code",
   "execution_count": 739,
   "metadata": {},
   "outputs": [],
   "source": [
    "df_2011 = df_consumption_2011[['bin_unique_building_identifier',\n",
    "                               'total_floor_space_sq_ft', \n",
    "                               'electricity_use_kwh',\n",
    "                               'natural_gas_use_kbtu',\n",
    "                               'district_steam_use_kbtu',\n",
    "                               'fuel_oil_2_use_kbtu', \n",
    "                               'fuel_oil_4_use_kbtu']].rename(columns={'bin_unique_building_identifier': 'bin', \n",
    "                                                                       'electricity_use_kwh': 'electricity_kwh', \n",
    "                                                                       'natural_gas_use_kbtu': 'natural_gas_kbtu', \n",
    "                                                                       'fuel_oil_2_use_kbtu': 'fuel_2_kbtu', \n",
    "                                                                       'fuel_oil_4_use_kbtu': 'fuel_4_kbtu', \n",
    "                                                                       'district_steam_use_kbtu' : 'steam_kbtu'})\n",
    "\n",
    "df_2011[\"bin\"] = df_2011[\"bin\"].astype('str', errors='ignore')\n",
    "\n",
    "df_new = df_new.join(df_2011.set_index('bin'), rsuffix='_2011', on='bin', how='left')"
   ]
  },
  {
   "cell_type": "code",
   "execution_count": 740,
   "metadata": {},
   "outputs": [
    {
     "data": {
      "text/plain": [
       "32167"
      ]
     },
     "execution_count": 740,
     "metadata": {},
     "output_type": "execute_result"
    }
   ],
   "source": [
    "len(df_new)"
   ]
  },
  {
   "cell_type": "code",
   "execution_count": 741,
   "metadata": {},
   "outputs": [],
   "source": [
    "df_2010 = df_consumption_2010[['bin',\n",
    "                               'electricity_use_kwh',\n",
    "                               'natural_gas_use_kbtu',\n",
    "                               'district_steam_use_kbtu',\n",
    "                               'fuel_oil_2_use_kbtu', \n",
    "                               'fuel_oil_4_use_kbtu']].rename(columns={'electricity_use_kwh': 'electricity_kwh', \n",
    "                                                                       'natural_gas_use_kbtu': 'natural_gas_kbtu', \n",
    "                                                                       'fuel_oil_2_use_kbtu': 'fuel_2_kbtu', \n",
    "                                                                       'fuel_oil_4_use_kbtu': 'fuel_4_kbtu', \n",
    "                                                                       'district_steam_use_kbtu' : 'steam_kbtu'})\n",
    "\n",
    "df_2010[\"bin\"] = df_2010[\"bin\"].astype('str', errors='ignore')\n",
    "\n",
    "df_new = df_new.join(df_2010.set_index('bin'), lsuffix='_2020', rsuffix='_2010', on='bin', how='left')"
   ]
  },
  {
   "cell_type": "code",
   "execution_count": 742,
   "metadata": {},
   "outputs": [
    {
     "data": {
      "text/plain": [
       "32167"
      ]
     },
     "execution_count": 742,
     "metadata": {},
     "output_type": "execute_result"
    }
   ],
   "source": [
    "len(df_new)"
   ]
  },
  {
   "cell_type": "code",
   "execution_count": 743,
   "metadata": {},
   "outputs": [],
   "source": [
    "df_new = df_new.replace(r'Not Available', np.nan, regex=True).fillna(0)"
   ]
  },
  {
   "cell_type": "code",
   "execution_count": 744,
   "metadata": {
    "scrolled": false
   },
   "outputs": [],
   "source": [
    "cols = df_new.columns[12:]\n",
    "df_new[cols]  = df_new[cols].apply(pd.to_numeric, errors='coerce', axis=1)"
   ]
  },
  {
   "cell_type": "code",
   "execution_count": 814,
   "metadata": {
    "scrolled": true
   },
   "outputs": [
    {
     "name": "stderr",
     "output_type": "stream",
     "text": [
      "C:\\Users\\marazken\\AppData\\Local\\Temp/ipykernel_50448/2259036696.py:47: SettingWithCopyWarning: \n",
      "A value is trying to be set on a copy of a slice from a DataFrame\n",
      "\n",
      "See the caveats in the documentation: https://pandas.pydata.org/pandas-docs/stable/user_guide/indexing.html#returning-a-view-versus-a-copy\n",
      "  df_new['expected_emissoins'][df_new['expected_emissoins'] <=0] = None\n"
     ]
    }
   ],
   "source": [
    "df_new['emissoins_2020_kgCO2_sf'] = (df_new.electricity_kwh_2020 * 0.288962 + df_new.natural_gas_kbtu_2020 * 0.05311 + \n",
    "                                     df_new.steam_kbtu_2020 * 0.04493 + df_new.fuel_2_kbtu_2020 * 0.07421 + \n",
    "                                     df_new.fuel_4_kbtu_2020 * 0.07529) / df_new.floor_area_ft\n",
    "\n",
    "df_new['emissoins_2019_kgCO2_sf'] = (df_new.electricity_kwh_2019 * 0.288962 + df_new.natural_gas_kbtu_2019 * 0.05311 + \n",
    "                                     df_new.steam_kbtu_2019 * 0.04493 + df_new.fuel_2_kbtu_2019 * 0.07421 + \n",
    "                                     df_new.fuel_4_kbtu_2019 * 0.07529) / df_new.floor_area_ft\n",
    "\n",
    "df_new['emissoins_2018_kgCO2_sf'] = (df_new.electricity_kwh_2018 * 0.288962 + df_new.natural_gas_kbtu_2018 * 0.05311 + \n",
    "                                     df_new.steam_kbtu_2018 * 0.04493 + df_new.fuel_2_kbtu_2018 * 0.07421 + \n",
    "                                     df_new.fuel_4_kbtu_2018 * 0.07529) / df_new.floor_area_ft\n",
    "\n",
    "df_new['emissoins_2017_kgCO2_sf'] = (df_new.electricity_kwh_2017 * 0.288962 + df_new.natural_gas_kbtu_2017 * 0.05311 + \n",
    "                                     df_new.steam_kbtu_2017 * 0.04493 + df_new.fuel_2_kbtu_2017 * 0.07421 + \n",
    "                                     df_new.fuel_4_kbtu_2017 * 0.07529) / df_new.floor_area_ft\n",
    "\n",
    "df_new['emissoins_2016_kgCO2_sf'] = (df_new.electricity_kwh_2016 * 0.288962 + df_new.natural_gas_kbtu_2016 * 0.05311 + \n",
    "                                     df_new.steam_kbtu_2016 * 0.04493 + df_new.fuel_2_kbtu_2016 * 0.07421 + \n",
    "                                     df_new.fuel_4_kbtu_2016 * 0.07529) / df_new.floor_area_ft\n",
    "\n",
    "df_new['emissoins_2015_kgCO2_sf'] = (df_new.electricity_kwh_2015 * 0.288962 + df_new.natural_gas_kbtu_2015 * 0.05311 + \n",
    "                                     df_new.steam_kbtu_2015 * 0.04493 + df_new.fuel_2_kbtu_2015 * 0.07421 + \n",
    "                                     df_new.fuel_4_kbtu_2015 * 0.07529) / df_new.floor_area_ft\n",
    "\n",
    "df_new['emissoins_2014_kgCO2_sf'] = (df_new.electricity_kwh_2014 * 0.288962 + df_new.natural_gas_kbtu_2014 * 0.05311 + \n",
    "                                     df_new.steam_kbtu_2014 * 0.04493 + df_new.fuel_2_kbtu_2014 * 0.07421 + \n",
    "                                     df_new.fuel_4_kbtu_2014 * 0.07529) / df_new.floor_area_ft\n",
    "\n",
    "df_new['emissoins_2013_kgCO2_sf'] = (df_new.electricity_kwh_2013 * 0.288962 + df_new.natural_gas_kbtu_2013 * 0.05311 + \n",
    "                                     df_new.steam_kbtu_2013 * 0.04493 + df_new.fuel_2_kbtu_2013 * 0.07421 + \n",
    "                                     df_new.fuel_4_kbtu_2013 * 0.07529) / df_new.floor_area_ft\n",
    "\n",
    "df_new['emissoins_2012_kgCO2_sf'] = (df_new.electricity_kwh_2012 * 0.288962 + df_new.natural_gas_kbtu_2012 * 0.05311 + \n",
    "                                     df_new.steam_kbtu_2012 * 0.04493 + df_new.fuel_2_kbtu_2012 * 0.07421 + \n",
    "                                     df_new.fuel_4_kbtu_2012 * 0.07529) / df_new.floor_area_ft\n",
    "\n",
    "df_new['emissoins_2011_kgCO2_sf'] = (df_new.electricity_kwh_2011 * 0.288962 + df_new.natural_gas_kbtu_2011 * 0.05311 + \n",
    "                                     df_new.steam_kbtu_2011 * 0.04493 + df_new.fuel_2_kbtu_2011 * 0.07421 + \n",
    "                                     df_new.fuel_4_kbtu_2011 * 0.07529) / df_new.floor_area_ft\n",
    "\n",
    "df_new['emissoins_2010_kgCO2_sf'] = (df_new.electricity_kwh_2010 * 0.288962 + df_new.natural_gas_kbtu_2010 * 0.05311 + \n",
    "                                     df_new.steam_kbtu_2010 * 0.04493 + df_new.fuel_2_kbtu_2010 * 0.07421 + \n",
    "                                     df_new.fuel_4_kbtu_2010 * 0.07529) / df_new.floor_area_ft\n",
    "\n",
    "#Assuming expected future emissions is just the max of previous years\n",
    "df_new['expected_emissoins'] = df_new.iloc[:, 70:75].max(axis=1)\n",
    "df_new['expected_emissoins'][df_new['expected_emissoins'] <=0] = None"
   ]
  },
  {
   "cell_type": "code",
   "execution_count": 816,
   "metadata": {},
   "outputs": [],
   "source": [
    "classification_mapping = {\n",
    "        'Assembly (A)': ['CBECS - Public Assembly', 'CBECS - Food Sales', 'CBECS - Social/Meeting', 'CBECS - Courthouse',\n",
    "                        'CBECS - Religious Worship','CBECS - Food Service', 'CBECS - Restaurant/Cafeteria', \n",
    "                         'CBECS - Bar/Pub/Lounge', 'CBECS - Recreation'],\n",
    "        'Civic (B)' : ['CBECS - Service'],\n",
    "        'Labratory (B)': ['CBECS - Laboratory'], \n",
    "        'Health Care (B)': ['CBECS - Clinic/Outpatient', 'CBECS - Medical Office'],\n",
    "        'Office (B)': ['CBECS - Office & Bank/Financial', 'CBECS - Bank/Financial','CBECS - College/University', \n",
    "                         'EPA - Data Center','CBECS - Library', 'CBECS - Fire Station/Police Station'], \n",
    "        'Educational (E)': ['CBECS - Education', 'CBECS - Elementary/Middle & High School', 'CBECS - Preschool'],\n",
    "        'Industrial (F)': ['Industry Survey', 'AWWA - Wastewater Plant'],\n",
    "        'High Hazard (H)' :['CBECS - Refrigerated Warehouse'] ,\n",
    "        'Board and Care (I-1)': ['CBECS - Inpatient Healthcare', 'CBECS - Lodging'], \n",
    "        'Medical Care and Institutional (I-2)': ['ASHE Survey', 'CBECS - Outpatient Healthcare'],\n",
    "        'Detention and Correctional (I-3)': [],\n",
    "        'Day Care (I-4)' : [],\n",
    "        'Mercantile (M)': ['CBECS - Retail Store', 'CBECS - Grocery Store/Food Market', 'CBECS - Enclosed Mall',\n",
    "                          'CBECS - Retail other than Mall', 'CBECS - Strip Shopping Mall', \n",
    "                           'CBECS - Public Order and Safety','CBECS - Enclosed Mall and Strip Shopping Mall'], \n",
    "        'Hotels and Dormitories (R-1)': ['CBECS - Hotel & Motel/Inn', 'CBECS - Dormitory'],\n",
    "        'Multifamily (R-2) ': ['Fannie Mae Industry Survey - Multifamily'],\n",
    "        'Storage (S)': ['CBECS - Non-Refrigerated Warehouse', 'CBECS - Unrefrigerated Warehouse & Distribution Center'],\n",
    "        'Utility and Miscellaneous (U)' : ['CBECS - Public Order and Safety', 'CBECS - Other']\n",
    "    }\n",
    "\n",
    "def find_class(property_type):\n",
    "    for key, value in classification_mapping.items():\n",
    "        if property_type in value:\n",
    "            return key\n",
    "\n",
    "df_new['building_class'] = df.apply (lambda row: find_class(row.property_type), axis=1)"
   ]
  },
  {
   "cell_type": "code",
   "execution_count": 817,
   "metadata": {
    "scrolled": true
   },
   "outputs": [],
   "source": [
    "df_penalty = pd.DataFrame({'building_class': ['Assembly (A)', 'Civic (B)' , 'Labratory (B)', 'Health Care (B)', \n",
    "                                     'Office (B)', 'Educational (E)', 'Industrial (F)', 'High Hazard (H)', \n",
    "                                     'Board and Care (I-1)', 'Medical Care and Institutional (I-2)', \n",
    "                                     'Detention and Correctional (I-3)', 'Day Care (I-4)' , 'Mercantile (M)', \n",
    "                                     'Hotels and Dormitories (R-1)', 'Multifamily (R-2) ', \n",
    "                                     'Storage (S)', 'Utility and Miscellaneous (U)'], \n",
    "                           'e_2024_tCO2e_sf': [0.01074, 0.02381, 0.02381, 0.02381, 0.00846, 0.00758, 0.00574, \n",
    "                                              0.02381, 0.01138, 0.02381, 0.02381, 0.00758, 0.01181, 0.00987, \n",
    "                                              0.00675, 0.00426, 0.00426], \n",
    "                           'e_2030_tCO2e_sf': [0.00420 , 0.01193,  0.01193, 0.01193, 0.00453, 0.00344, 0.00167, \n",
    "                                              0.01193, 0.00598, 0.01193, 0.01193, 0.00344, 0.00403, 0.00526, \n",
    "                                              0.00407, 0.00110, 0.00110],\n",
    "                           'e_2050_tCO2e_sf': 0.0014})"
   ]
  },
  {
   "cell_type": "code",
   "execution_count": 819,
   "metadata": {},
   "outputs": [],
   "source": [
    "df_new = df_new.join(df_penalty.set_index('building_class'), on='building_class', how='left')"
   ]
  },
  {
   "cell_type": "code",
   "execution_count": 820,
   "metadata": {},
   "outputs": [],
   "source": [
    "df_new['estimated_penalty_2024'] = (df_new.expected_emissoins - df_new.e_2024_tCO2e_sf/1000) * 268 * df_new.floor_area_ft\n",
    "df_new['estimated_penalty_2030'] = (df_new.expected_emissoins - df_new.e_2030_tCO2e_sf/1000) * 268 * df_new.floor_area_ft\n",
    "df_new['estimated_penalty_2050'] = (df_new.expected_emissoins - df_new.e_2050_tCO2e_sf/1000) * 268 * df_new.floor_area_ft"
   ]
  },
  {
   "cell_type": "code",
   "execution_count": 825,
   "metadata": {},
   "outputs": [
    {
     "data": {
      "text/plain": [
       "count    3.091600e+04\n",
       "mean     1.228519e+09\n",
       "std      6.473009e+10\n",
       "min      1.089471e+04\n",
       "25%      6.250046e+07\n",
       "50%      1.189944e+08\n",
       "75%      2.479336e+08\n",
       "max      5.612321e+12\n",
       "Name: estimated_penalty_2024, dtype: float64"
      ]
     },
     "execution_count": 825,
     "metadata": {},
     "output_type": "execute_result"
    }
   ],
   "source": [
    "df_new.estimated_penalty_2024.describe()"
   ]
  },
  {
   "cell_type": "code",
   "execution_count": 824,
   "metadata": {},
   "outputs": [
    {
     "data": {
      "image/png": "[encoded data removed]",
      "text/plain": [
       "<Figure size 432x288 with 1 Axes>"
      ]
     },
     "metadata": {
      "needs_background": "light"
     },
     "output_type": "display_data"
    }
   ],
   "source": [
    "import matplotlib.pyplot as plt\n",
    "plt.hist(df_new.expected_emissoins, bins=50 , range = (0,30), linewidth=2, edgecolor=\"white\",color = '#0000FF')\n",
    "plt.xlabel('Emissions Intensity (kg$CO^{2}$e / $ft^{2}$ / year)')\n",
    "plt.ylabel('Count')\n",
    "plt.savefig('emissions.png', format='png')\n",
    "plt.show()"
   ]
  },
  {
   "cell_type": "code",
   "execution_count": 826,
   "metadata": {},
   "outputs": [
    {
     "data": {
      "image/png": "[encoded data removed]",
      "text/plain": [
       "<Figure size 432x288 with 1 Axes>"
      ]
     },
     "metadata": {
      "needs_background": "light"
     },
     "output_type": "display_data"
    }
   ],
   "source": [
    "import matplotlib.pyplot as plt\n",
    "plt.hist(df_new.estimated_penalty_2024, bins=50 , range = (0,1000000000), linewidth=2, edgecolor=\"white\",color = '#0000FF')\n",
    "plt.xlabel('Cost ( billion $ / year)')\n",
    "plt.ylabel('Count')\n",
    "plt.savefig('penalty_2024.png', format='png')\n",
    "plt.show()"
   ]
  },
  {
   "cell_type": "code",
   "execution_count": 827,
   "metadata": {},
   "outputs": [
    {
     "data": {
      "image/png": "[encoded data removed]",
      "text/plain": [
       "<Figure size 432x288 with 1 Axes>"
      ]
     },
     "metadata": {
      "needs_background": "light"
     },
     "output_type": "display_data"
    }
   ],
   "source": [
    "import matplotlib.pyplot as plt\n",
    "plt.hist(df_new.estimated_penalty_2030, bins=50 , range = (0,1000000000), linewidth=2, edgecolor=\"white\",color = '#0000FF')\n",
    "plt.xlabel('Cost ( billion $ / year)')\n",
    "plt.ylabel('Count')\n",
    "plt.savefig('penalty_2030.png', format='png')\n",
    "plt.show()"
   ]
  },
  {
   "cell_type": "code",
   "execution_count": 828,
   "metadata": {},
   "outputs": [
    {
     "data": {
      "image/png": "[encoded data removed]",
      "text/plain": [
       "<Figure size 432x288 with 1 Axes>"
      ]
     },
     "metadata": {
      "needs_background": "light"
     },
     "output_type": "display_data"
    }
   ],
   "source": [
    "import matplotlib.pyplot as plt\n",
    "plt.hist(df_new.estimated_penalty_2050, bins=50 , range = (0,1000000000), linewidth=2, edgecolor=\"white\",color = '#0000FF')\n",
    "plt.xlabel('Cost ( billion $ / year)')\n",
    "plt.ylabel('Count')\n",
    "plt.savefig('penalty_2050.png', format='png')\n",
    "plt.show()"
   ]
  },
  {
   "cell_type": "code",
   "execution_count": 829,
   "metadata": {},
   "outputs": [
    {
     "data": {
      "image/png": "[encoded data removed]",
      "text/plain": [
       "<Figure size 432x288 with 1 Axes>"
      ]
     },
     "metadata": {
      "needs_background": "light"
     },
     "output_type": "display_data"
    }
   ],
   "source": [
    "import matplotlib.pyplot as plt\n",
    "plt.hist(df_new.estimated_penalty_2050-df_new.estimated_penalty_2024, bins=50 , range = (0,1000), linewidth=2, edgecolor=\"white\",color = '#0000FF')\n",
    "plt.xlabel('Cost ( $ / year)')\n",
    "plt.ylabel('Count')\n",
    "plt.savefig('penalty_2050.png', format='png')\n",
    "plt.show()"
   ]
  },
  {
   "cell_type": "code",
   "execution_count": 849,
   "metadata": {
    "scrolled": true
   },
   "outputs": [
    {
     "data": {
      "text/html": [
       "<div>\n",
       "<style scoped>\n",
       "    .dataframe tbody tr th:only-of-type {\n",
       "        vertical-align: middle;\n",
       "    }\n",
       "\n",
       "    .dataframe tbody tr th {\n",
       "        vertical-align: top;\n",
       "    }\n",
       "\n",
       "    .dataframe thead th {\n",
       "        text-align: right;\n",
       "    }\n",
       "</style>\n",
       "<table border=\"1\" class=\"dataframe\">\n",
       "  <thead>\n",
       "    <tr style=\"text-align: right;\">\n",
       "      <th></th>\n",
       "      <th>bbl</th>\n",
       "      <th>bin</th>\n",
       "      <th>longitude</th>\n",
       "      <th>latitude</th>\n",
       "      <th>address</th>\n",
       "      <th>city</th>\n",
       "      <th>borough</th>\n",
       "      <th>postcode</th>\n",
       "      <th>census_tract</th>\n",
       "      <th>building_class</th>\n",
       "      <th>floor_area_ft</th>\n",
       "      <th>emissoins_2020_kgCO2_sf</th>\n",
       "      <th>emissoins_2019_kgCO2_sf</th>\n",
       "      <th>emissoins_2018_kgCO2_sf</th>\n",
       "      <th>emissoins_2017_kgCO2_sf</th>\n",
       "      <th>emissoins_2016_kgCO2_sf</th>\n",
       "      <th>emissoins_2015_kgCO2_sf</th>\n",
       "      <th>emissoins_2014_kgCO2_sf</th>\n",
       "      <th>emissoins_2013_kgCO2_sf</th>\n",
       "      <th>emissoins_2012_kgCO2_sf</th>\n",
       "      <th>emissoins_2011_kgCO2_sf</th>\n",
       "      <th>emissoins_2010_kgCO2_sf</th>\n",
       "      <th>expected_emissoins</th>\n",
       "      <th>estimated_penalty_2024</th>\n",
       "      <th>estimated_penalty_2030</th>\n",
       "      <th>estimated_penalty_2050</th>\n",
       "    </tr>\n",
       "  </thead>\n",
       "  <tbody>\n",
       "    <tr>\n",
       "      <th>0</th>\n",
       "      <td>1009970029</td>\n",
       "      <td>1022631</td>\n",
       "      <td>-73.982826</td>\n",
       "      <td>40.756631</td>\n",
       "      <td>1155  Avenue  of  the  Americas</td>\n",
       "      <td>Manhattan</td>\n",
       "      <td>MANHATTAN</td>\n",
       "      <td>10036</td>\n",
       "      <td>119.0</td>\n",
       "      <td>Office (B)</td>\n",
       "      <td>686838.0</td>\n",
       "      <td>3.157850</td>\n",
       "      <td>3.723833</td>\n",
       "      <td>3.440195</td>\n",
       "      <td>3.440195</td>\n",
       "      <td>18.706107</td>\n",
       "      <td>18.616113</td>\n",
       "      <td>15.173869</td>\n",
       "      <td>19.020255</td>\n",
       "      <td>5.810020</td>\n",
       "      <td>6.137662</td>\n",
       "      <td>0.0</td>\n",
       "      <td>18.706107</td>\n",
       "      <td>3.443280e+09</td>\n",
       "      <td>3.443281e+09</td>\n",
       "      <td>3.443281e+09</td>\n",
       "    </tr>\n",
       "    <tr>\n",
       "      <th>1</th>\n",
       "      <td>1013150001</td>\n",
       "      <td>1037545</td>\n",
       "      <td>-73.974306</td>\n",
       "      <td>40.750698</td>\n",
       "      <td>200  East  42nd  St.</td>\n",
       "      <td>Manhattan</td>\n",
       "      <td>MANHATTAN</td>\n",
       "      <td>10017</td>\n",
       "      <td>88.0</td>\n",
       "      <td>Office (B)</td>\n",
       "      <td>384432.0</td>\n",
       "      <td>12.037588</td>\n",
       "      <td>6.094833</td>\n",
       "      <td>6.328864</td>\n",
       "      <td>6.328864</td>\n",
       "      <td>16.289742</td>\n",
       "      <td>3.605834</td>\n",
       "      <td>14.445734</td>\n",
       "      <td>14.520275</td>\n",
       "      <td>5.383838</td>\n",
       "      <td>5.913956</td>\n",
       "      <td>0.0</td>\n",
       "      <td>16.289742</td>\n",
       "      <td>1.678295e+09</td>\n",
       "      <td>1.678295e+09</td>\n",
       "      <td>1.678296e+09</td>\n",
       "    </tr>\n",
       "    <tr>\n",
       "      <th>2</th>\n",
       "      <td>1009990019</td>\n",
       "      <td>1022667</td>\n",
       "      <td>-73.982504</td>\n",
       "      <td>40.758310</td>\n",
       "      <td>114  West  47th  st</td>\n",
       "      <td>Manhattan</td>\n",
       "      <td>MANHATTAN</td>\n",
       "      <td>10036</td>\n",
       "      <td>125.0</td>\n",
       "      <td>Office (B)</td>\n",
       "      <td>577534.0</td>\n",
       "      <td>3.964878</td>\n",
       "      <td>4.793835</td>\n",
       "      <td>4.948636</td>\n",
       "      <td>4.948636</td>\n",
       "      <td>12.763883</td>\n",
       "      <td>12.297099</td>\n",
       "      <td>13.453513</td>\n",
       "      <td>13.147011</td>\n",
       "      <td>4.760548</td>\n",
       "      <td>4.775833</td>\n",
       "      <td>0.0</td>\n",
       "      <td>12.763883</td>\n",
       "      <td>1.975581e+09</td>\n",
       "      <td>1.975582e+09</td>\n",
       "      <td>1.975582e+09</td>\n",
       "    </tr>\n",
       "    <tr>\n",
       "      <th>3</th>\n",
       "      <td>1013190047</td>\n",
       "      <td>1037596</td>\n",
       "      <td>-73.972753</td>\n",
       "      <td>40.753074</td>\n",
       "      <td>733  Third  Avenue</td>\n",
       "      <td>Manhattan</td>\n",
       "      <td>MANHATTAN</td>\n",
       "      <td>10017</td>\n",
       "      <td>90.0</td>\n",
       "      <td>Office (B)</td>\n",
       "      <td>390878.0</td>\n",
       "      <td>4.639959</td>\n",
       "      <td>6.433685</td>\n",
       "      <td>6.006887</td>\n",
       "      <td>6.006887</td>\n",
       "      <td>15.579725</td>\n",
       "      <td>16.042545</td>\n",
       "      <td>15.836086</td>\n",
       "      <td>16.186277</td>\n",
       "      <td>5.982637</td>\n",
       "      <td>6.551757</td>\n",
       "      <td>0.0</td>\n",
       "      <td>15.579725</td>\n",
       "      <td>1.632058e+09</td>\n",
       "      <td>1.632058e+09</td>\n",
       "      <td>1.632059e+09</td>\n",
       "    </tr>\n",
       "    <tr>\n",
       "      <th>4</th>\n",
       "      <td>1009950005</td>\n",
       "      <td>1085682</td>\n",
       "      <td>-73.986244</td>\n",
       "      <td>40.756181</td>\n",
       "      <td>4 Times Square</td>\n",
       "      <td>Manhattan</td>\n",
       "      <td>MANHATTAN</td>\n",
       "      <td>10036</td>\n",
       "      <td>119.0</td>\n",
       "      <td>Office (B)</td>\n",
       "      <td>1601977.0</td>\n",
       "      <td>5.721184</td>\n",
       "      <td>7.451105</td>\n",
       "      <td>7.413959</td>\n",
       "      <td>7.413959</td>\n",
       "      <td>19.722564</td>\n",
       "      <td>21.482753</td>\n",
       "      <td>24.752577</td>\n",
       "      <td>20.981639</td>\n",
       "      <td>8.467326</td>\n",
       "      <td>8.767983</td>\n",
       "      <td>0.0</td>\n",
       "      <td>19.722564</td>\n",
       "      <td>8.467482e+09</td>\n",
       "      <td>8.467483e+09</td>\n",
       "      <td>8.467485e+09</td>\n",
       "    </tr>\n",
       "  </tbody>\n",
       "</table>\n",
       "</div>"
      ],
      "text/plain": [
       "          bbl      bin  longitude   latitude                          address  \\\n",
       "0  1009970029  1022631 -73.982826  40.756631  1155  Avenue  of  the  Americas   \n",
       "1  1013150001  1037545 -73.974306  40.750698             200  East  42nd  St.   \n",
       "2  1009990019  1022667 -73.982504  40.758310              114  West  47th  st   \n",
       "3  1013190047  1037596 -73.972753  40.753074               733  Third  Avenue   \n",
       "4  1009950005  1085682 -73.986244  40.756181                   4 Times Square   \n",
       "\n",
       "        city    borough postcode  census_tract building_class  floor_area_ft  \\\n",
       "0  Manhattan  MANHATTAN    10036         119.0     Office (B)       686838.0   \n",
       "1  Manhattan  MANHATTAN    10017          88.0     Office (B)       384432.0   \n",
       "2  Manhattan  MANHATTAN    10036         125.0     Office (B)       577534.0   \n",
       "3  Manhattan  MANHATTAN    10017          90.0     Office (B)       390878.0   \n",
       "4  Manhattan  MANHATTAN    10036         119.0     Office (B)      1601977.0   \n",
       "\n",
       "   emissoins_2020_kgCO2_sf  emissoins_2019_kgCO2_sf  emissoins_2018_kgCO2_sf  \\\n",
       "0                 3.157850                 3.723833                 3.440195   \n",
       "1                12.037588                 6.094833                 6.328864   \n",
       "2                 3.964878                 4.793835                 4.948636   \n",
       "3                 4.639959                 6.433685                 6.006887   \n",
       "4                 5.721184                 7.451105                 7.413959   \n",
       "\n",
       "   emissoins_2017_kgCO2_sf  emissoins_2016_kgCO2_sf  emissoins_2015_kgCO2_sf  \\\n",
       "0                 3.440195                18.706107                18.616113   \n",
       "1                 6.328864                16.289742                 3.605834   \n",
       "2                 4.948636                12.763883                12.297099   \n",
       "3                 6.006887                15.579725                16.042545   \n",
       "4                 7.413959                19.722564                21.482753   \n",
       "\n",
       "   emissoins_2014_kgCO2_sf  emissoins_2013_kgCO2_sf  emissoins_2012_kgCO2_sf  \\\n",
       "0                15.173869                19.020255                 5.810020   \n",
       "1                14.445734                14.520275                 5.383838   \n",
       "2                13.453513                13.147011                 4.760548   \n",
       "3                15.836086                16.186277                 5.982637   \n",
       "4                24.752577                20.981639                 8.467326   \n",
       "\n",
       "   emissoins_2011_kgCO2_sf  emissoins_2010_kgCO2_sf  expected_emissoins  \\\n",
       "0                 6.137662                      0.0           18.706107   \n",
       "1                 5.913956                      0.0           16.289742   \n",
       "2                 4.775833                      0.0           12.763883   \n",
       "3                 6.551757                      0.0           15.579725   \n",
       "4                 8.767983                      0.0           19.722564   \n",
       "\n",
       "   estimated_penalty_2024  estimated_penalty_2030  estimated_penalty_2050  \n",
       "0            3.443280e+09            3.443281e+09            3.443281e+09  \n",
       "1            1.678295e+09            1.678295e+09            1.678296e+09  \n",
       "2            1.975581e+09            1.975582e+09            1.975582e+09  \n",
       "3            1.632058e+09            1.632058e+09            1.632059e+09  \n",
       "4            8.467482e+09            8.467483e+09            8.467485e+09  "
      ]
     },
     "execution_count": 849,
     "metadata": {},
     "output_type": "execute_result"
    }
   ],
   "source": [
    "df_final = df_new[['bbl', 'bin', 'longitude', 'latitude', 'address', 'city', 'borough', \n",
    "                  'postcode', 'census_tract', 'building_class', 'floor_area_ft', \n",
    "                  'emissoins_2020_kgCO2_sf', 'emissoins_2019_kgCO2_sf', 'emissoins_2018_kgCO2_sf', \n",
    "                  'emissoins_2017_kgCO2_sf', 'emissoins_2016_kgCO2_sf', 'emissoins_2015_kgCO2_sf', \n",
    "                  'emissoins_2014_kgCO2_sf','emissoins_2013_kgCO2_sf', 'emissoins_2012_kgCO2_sf', \n",
    "                  'emissoins_2011_kgCO2_sf', 'emissoins_2010_kgCO2_sf','expected_emissoins', \n",
    "                  'estimated_penalty_2024', 'estimated_penalty_2030', 'estimated_penalty_2050']]\n",
    "\n",
    "df_final.head()"
   ]
  },
  {
   "cell_type": "code",
   "execution_count": 850,
   "metadata": {
    "scrolled": false,
    "slideshow": {
     "slide_type": "slide"
    }
   },
   "outputs": [
    {
     "data": {
      "text/html": [
       "<div>\n",
       "<style scoped>\n",
       "    .dataframe tbody tr th:only-of-type {\n",
       "        vertical-align: middle;\n",
       "    }\n",
       "\n",
       "    .dataframe tbody tr th {\n",
       "        vertical-align: top;\n",
       "    }\n",
       "\n",
       "    .dataframe thead th {\n",
       "        text-align: right;\n",
       "    }\n",
       "</style>\n",
       "<table border=\"1\" class=\"dataframe\">\n",
       "  <thead>\n",
       "    <tr style=\"text-align: right;\">\n",
       "      <th></th>\n",
       "      <th>bin</th>\n",
       "      <th>the_geom</th>\n",
       "      <th>cnstrct_yr</th>\n",
       "    </tr>\n",
       "  </thead>\n",
       "  <tbody>\n",
       "    <tr>\n",
       "      <th>0</th>\n",
       "      <td>3170958</td>\n",
       "      <td>{'type': 'MultiPolygon', 'coordinates': [[[[-7...</td>\n",
       "      <td>1925.0</td>\n",
       "    </tr>\n",
       "    <tr>\n",
       "      <th>1</th>\n",
       "      <td>5028452</td>\n",
       "      <td>{'type': 'MultiPolygon', 'coordinates': [[[[-7...</td>\n",
       "      <td>1965.0</td>\n",
       "    </tr>\n",
       "    <tr>\n",
       "      <th>2</th>\n",
       "      <td>5078368</td>\n",
       "      <td>{'type': 'MultiPolygon', 'coordinates': [[[[-7...</td>\n",
       "      <td>1970.0</td>\n",
       "    </tr>\n",
       "    <tr>\n",
       "      <th>3</th>\n",
       "      <td>3245111</td>\n",
       "      <td>{'type': 'MultiPolygon', 'coordinates': [[[[-7...</td>\n",
       "      <td>1928.0</td>\n",
       "    </tr>\n",
       "    <tr>\n",
       "      <th>4</th>\n",
       "      <td>4161096</td>\n",
       "      <td>{'type': 'MultiPolygon', 'coordinates': [[[[-7...</td>\n",
       "      <td>1950.0</td>\n",
       "    </tr>\n",
       "  </tbody>\n",
       "</table>\n",
       "</div>"
      ],
      "text/plain": [
       "       bin                                           the_geom  cnstrct_yr\n",
       "0  3170958  {'type': 'MultiPolygon', 'coordinates': [[[[-7...      1925.0\n",
       "1  5028452  {'type': 'MultiPolygon', 'coordinates': [[[[-7...      1965.0\n",
       "2  5078368  {'type': 'MultiPolygon', 'coordinates': [[[[-7...      1970.0\n",
       "3  3245111  {'type': 'MultiPolygon', 'coordinates': [[[[-7...      1928.0\n",
       "4  4161096  {'type': 'MultiPolygon', 'coordinates': [[[[-7...      1950.0"
      ]
     },
     "execution_count": 850,
     "metadata": {},
     "output_type": "execute_result"
    }
   ],
   "source": [
    "df_footprint[['bin', 'the_geom', 'cnstrct_yr']].head()"
   ]
  },
  {
   "cell_type": "code",
   "execution_count": 851,
   "metadata": {},
   "outputs": [],
   "source": [
    "df_footprint[\"bin\"] = df_footprint[\"bin\"].astype('str', errors='ignore')\n"
   ]
  },
  {
   "cell_type": "code",
   "execution_count": 852,
   "metadata": {},
   "outputs": [],
   "source": [
    "df_final = df_final.join(df_footprint[['bin', 'the_geom', 'cnstrct_yr']].set_index('bin'), on='bin', how='left')"
   ]
  },
  {
   "cell_type": "code",
   "execution_count": 854,
   "metadata": {},
   "outputs": [
    {
     "data": {
      "text/plain": [
       "38229"
      ]
     },
     "execution_count": 854,
     "metadata": {},
     "output_type": "execute_result"
    }
   ],
   "source": [
    "len(df_final)"
   ]
  },
  {
   "cell_type": "code",
   "execution_count": 856,
   "metadata": {},
   "outputs": [],
   "source": [
    "df_final.to_csv('final_data.csv')"
   ]
  }
 ],
 "metadata": {
  "interpreter": {
   "hash": "1d461b30fc5edc508db32526b337aad33bd293f14f2b02d30461578ede1a81f2"
  },
  "kernelspec": {
   "display_name": "Python 3 (ipykernel)",
   "language": "python",
   "name": "python3"
  },
  "language_info": {
   "codemirror_mode": {
    "name": "ipython",
    "version": 3
   },
   "file_extension": ".py",
   "mimetype": "text/x-python",
   "name": "python",
   "nbconvert_exporter": "python",
   "pygments_lexer": "ipython3",
   "version": "3.9.7"
  }
 },
 "nbformat": 4,
 "nbformat_minor": 2
}
