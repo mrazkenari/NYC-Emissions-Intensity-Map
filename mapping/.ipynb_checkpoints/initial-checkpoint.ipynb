{
 "cells": [
  {
   "cell_type": "markdown",
   "metadata": {
    "slideshow": {
     "slide_type": "slide"
    }
   },
   "source": [
    "## New York City Emissions Intensity Map"
   ]
  },
  {
   "cell_type": "markdown",
   "metadata": {
    "slideshow": {
     "slide_type": "fragment"
    }
   },
   "source": [
    "##### Notebook by [Mohamad Razkenari](https://www.razkenari.com)"
   ]
  },
  {
   "cell_type": "markdown",
   "metadata": {
    "slideshow": {
     "slide_type": "fragment"
    }
   },
   "source": [
    "<img src=\"https://www.urbangreencouncil.org/sites/default/files/landing_page_image.jpg\"/>"
   ]
  },
  {
   "cell_type": "markdown",
   "metadata": {
    "slideshow": {
     "slide_type": "slide"
    }
   },
   "source": [
    "## Introduction"
   ]
  },
  {
   "cell_type": "markdown",
   "metadata": {
    "slideshow": {
     "slide_type": "fragment"
    }
   },
   "source": [
    "\n",
    "To reduce carbon emissions from buildings, the City of New York enacted Local Law 97 (LL97) in 2019 as a part of the Climate Mobilization Act. This law places carbon caps on most buildings larger than 25,000 square feet—roughly 50,000 residential and commercial properties across NYC. These caps start in 2024 and will become more stringent over time, eventually reducing emissions 80 percent by 2050. This project uses building energy consumption and building characteristics data to calculate the emissions intensity, and compare it with the emissions limit according to building end use classification. Then, maximum penalty for non-compliance is calculated."
   ]
  },
  {
   "cell_type": "markdown",
   "metadata": {
    "slideshow": {
     "slide_type": "subslide"
    }
   },
   "source": [
    ">**Project Objective**: Calculate Emissions Intensity for buildings in New York City, and assess their compliance with Local Law 97.\n",
    "\n",
    "<img src=\"https://www.circuitmeter.com/wp-content/uploads/2020/02/image-industryArticles_NYC-LL97.jpg\"/>\n",
    "\n",
    "<!-- Here’s what you need to know\n",
    "\n",
    "* Applies to all buildings in NYC greater than 25000 square feet; applicable for approximately 60% residential and 40% commercial buildings\n",
    "* Penalties for non-compliance; maximum penalty is calculated based on the difference between a building’s annual emissions limit and its actual emissions multiplied by 268\n",
    "* A building’s annual emissions limit equals its emissions intensity limit multiplied by its gross floor area\n",
    "* Many buildings are significantly above emissions limits and will require comprehensive retrofits or potentially face millions of dollars in penalties\n",
    "* There are two increasingly stringent phases of limits; first phase takes effect in 2024 and the second occurring in 2030\n",
    "* Emissions intensity limits (metric tons of CO2e per square foot) are set based on 10 building categories defined by Building Code occupancy groups\n",
    "* Renewable energy credits and/or emissions offsets can be used to comply with the caps -->"
   ]
  },
  {
   "cell_type": "markdown",
   "metadata": {
    "slideshow": {
     "slide_type": "skip"
    }
   },
   "source": [
    "## Required libraries\n",
    "This notebook uses several Python packages that come standard with the Anaconda Python distribution. The primary libraries that we'll be using are:\n",
    "\n",
    "* **NumPy**: Provides a fast numerical array structure and helper functions.\n",
    "* **Pandas**: Provides a DataFrame structure to store data in memory and work with it easily and efficiently.\n",
    "* **Scikit-learn**: The essential Machine Learning package in Python.\n",
    "* **Matplotlib**: Basic plotting library in Python; most other Python plotting libraries are built on top of it.\n",
    "* **Seaborn**: Advanced statistical plotting library.\n",
    "* **GeoPandas**: GeoPandas is an open source project to make working with geospatial data in python easier.\n",
    "* **ArcGIS**: Advanced library to convert and manage geographic data, automate spatial workflows, perform advanced spatial analytics.\n",
    "* **Sodapy**: API for getting NYC data.\n",
    "* **folium**: A library to create several types of Leaflet maps"
   ]
  },
  {
   "cell_type": "code",
   "execution_count": 1,
   "metadata": {
    "slideshow": {
     "slide_type": "skip"
    }
   },
   "outputs": [],
   "source": [
    "# Install and Import packages in the current Jupyter kernel\n",
    "import sys\n",
    "import os\n",
    "# !{sys.executable} -m pip install numpy pandas scikit-learn matplotlib seaborn arcgis sodapy folium\n",
    "# !conda install --yes --prefix {sys.prefix} geopandas\n",
    "\n",
    "import pandas as pd\n",
    "import numpy as np\n",
    "from sodapy import Socrata\n",
    "\n",
    "from arcgis import GIS\n",
    "from arcgis.geocoding import geocode\n",
    "from arcgis.geometry import lengths, areas_and_lengths, project\n",
    "from arcgis.geometry import Point, Polyline, Polygon, Geometry\n",
    "import geopandas\n",
    "import folium"
   ]
  },
  {
   "cell_type": "markdown",
   "metadata": {
    "slideshow": {
     "slide_type": "slide"
    }
   },
   "source": [
    "## Required Datasets"
   ]
  },
  {
   "cell_type": "markdown",
   "metadata": {
    "slideshow": {
     "slide_type": "fragment"
    }
   },
   "source": [
    "**To calculate Emissions Intensity:** Emissions intensity is the total global warming potential per square foot per year, measured in kg CO2e/m2/a\n",
    "* [Energy use benchmarking data](https://data.cityofnewyork.us/Environment/Energy-and-Water-Data-Disclosure-for-Local-Law-84-/usc3-8zwd) (anual energy consumption, including natural gas, electricity, and district steam - NYC Open Data, LL84)    \n",
    "* [Building footprint data](https://data.cityofnewyork.us/Housing-Development/Building-Footprints/nqwf-w8eh) (available in NYC Open Data)\n",
    "* [Building 3D models](https://www1.nyc.gov/site/doitt/initiatives/3d-building.page) (available in NYC Open Data)"
   ]
  },
  {
   "cell_type": "markdown",
   "metadata": {
    "slideshow": {
     "slide_type": "fragment"
    }
   },
   "source": [
    "**To identify Emissions Target:** Emissions limit are specifed in the LL97 based on the building classification for 2024 and 2030. \n",
    "* [Building Use and Characteristics](https://www1.nyc.gov/site/planning/data-maps/open-data/bytes-archive.page?sorts[year]=0) (available in NYC Open Data)"
   ]
  },
  {
   "cell_type": "markdown",
   "metadata": {
    "slideshow": {
     "slide_type": "skip"
    }
   },
   "source": [
    "--\n",
    "<!-- ** Featureset Exploration **\n",
    "\n",
    "* **age**: continuous. \n",
    "* **workclass**: Private, Self-emp-not-inc, Self-emp-inc, Federal-gov, Local-gov, State-gov, Without-pay, Never-worked. \n",
    "* **education**: Bachelors, Some-college, 11th, HS-grad, Prof-school, Assoc-acdm, Assoc-voc, 9th, 7th-8th, 12th, Masters, 1st-4th, 10th, Doctorate, 5th-6th, Preschool. \n",
    "* **education-num**: continuous. \n",
    "* **marital-status**: Married-civ-spouse, Divorced, Never-married, Separated, Widowed, Married-spouse-absent, Married-AF-spouse. \n",
    "* **occupation**: Tech-support, Craft-repair, Other-service, Sales, Exec-managerial, Prof-specialty, Handlers-cleaners, Machine-op-inspct, Adm-clerical, Farming-fishing, Transport-moving, Priv-house-serv, Protective-serv, Armed-Forces. \n",
    "* **relationship**: Wife, Own-child, Husband, Not-in-family, Other-relative, Unmarried. \n",
    "* **race**: Black, White, Asian-Pac-Islander, Amer-Indian-Eskimo, Other. \n",
    "* **sex**: Female, Male. \n",
    "* **capital-gain**: continuous. \n",
    "* **capital-loss**: continuous. \n",
    "* **hours-per-week**: continuous. \n",
    "* **native-country**: United-States, Cambodia, England, Puerto-Rico, Canada, Germany, Outlying-US(Guam-USVI-etc), India, Japan, Greece, South, China, Cuba, Iran, Honduras, Philippines, Italy, Poland, Jamaica, Vietnam, Mexico, Portugal, Ireland, France, Dominican-Republic, Laos, Ecuador, Taiwan, Haiti, Columbia, Hungary, Guatemala, Nicaragua, Scotland, Thailand, Yugoslavia, El-Salvador, Trinadad&Tobago, Peru, Hong, Holand-Netherlands. -->"
   ]
  },
  {
   "cell_type": "code",
   "execution_count": 31,
   "metadata": {
    "slideshow": {
     "slide_type": "skip"
    }
   },
   "outputs": [
    {
     "name": "stderr",
     "output_type": "stream",
     "text": [
      "WARNING:root:Requests made without an app_token will be subject to strict throttling limits.\n"
     ]
    }
   ],
   "source": [
    "# Enter the information from those sections here\n",
    "socrata_domain = 'data.cityofnewyork.us'\n",
    "consumption_id = 'usc3-8zwd' #building consumption\n",
    "footprint_id = '7w4b-tj9d' #building foorprint coordinates\n",
    "points_id = 'qb5r-6dgf' #building coordinates\n",
    "\n",
    "socrata_token = os.environ.get(\"SODAPY_APPTOKEN\")\n",
    "client = Socrata(socrata_domain, socrata_token)"
   ]
  },
  {
   "cell_type": "code",
   "execution_count": 32,
   "metadata": {
    "slideshow": {
     "slide_type": "skip"
    }
   },
   "outputs": [],
   "source": [
    "# Building consumption 2020\n",
    "consumption = client.get(consumption_id)\n",
    "df_consumption = pd.DataFrame.from_dict(consumption)\n",
    "# consumption = client.get_all(consumption_id) # to get all data\n",
    "# df_consumption = pd.DataFrame.from_dict(consumption)\n",
    "\n",
    "# Building coordinates\n",
    "points = client.get(points_id)\n",
    "df_points = pd.DataFrame.from_dict(points)\n",
    "# points = client.get_all(points_id) # to get all data\n",
    "# df_points = pd.DataFrame.from_dict(points)\n",
    "\n",
    "# Building footprint coordinates\n",
    "footprint = client.get(footprint_id)\n",
    "df_footprint = pd.DataFrame.from_dict(footprint)\n",
    "# footprint = client.get_all(footprint_id) # to get all data\n",
    "# df_footprint = pd.DataFrame.from_dict(footprint)"
   ]
  },
  {
   "cell_type": "code",
   "execution_count": 33,
   "metadata": {
    "scrolled": true,
    "slideshow": {
     "slide_type": "skip"
    }
   },
   "outputs": [
    {
     "data": {
      "text/html": [
       "<div>\n",
       "<style scoped>\n",
       "    .dataframe tbody tr th:only-of-type {\n",
       "        vertical-align: middle;\n",
       "    }\n",
       "\n",
       "    .dataframe tbody tr th {\n",
       "        vertical-align: top;\n",
       "    }\n",
       "\n",
       "    .dataframe thead th {\n",
       "        text-align: right;\n",
       "    }\n",
       "</style>\n",
       "<table border=\"1\" class=\"dataframe\">\n",
       "  <thead>\n",
       "    <tr style=\"text-align: right;\">\n",
       "      <th></th>\n",
       "      <th>property_id</th>\n",
       "      <th>property_name</th>\n",
       "      <th>parent_property_id</th>\n",
       "      <th>parent_property_name</th>\n",
       "      <th>year_ending</th>\n",
       "      <th>nyc_borough_block_and_lot_bbl</th>\n",
       "      <th>nyc_building_identification_number_bin</th>\n",
       "      <th>address_1</th>\n",
       "      <th>city</th>\n",
       "      <th>postcode</th>\n",
       "      <th>...</th>\n",
       "      <th>number_of_active_it_meters</th>\n",
       "      <th>generation_date</th>\n",
       "      <th>release_date</th>\n",
       "      <th>borough</th>\n",
       "      <th>community_board</th>\n",
       "      <th>council_district</th>\n",
       "      <th>census_tract</th>\n",
       "      <th>nta</th>\n",
       "      <th>longitude</th>\n",
       "      <th>latitude</th>\n",
       "    </tr>\n",
       "  </thead>\n",
       "  <tbody>\n",
       "    <tr>\n",
       "      <th>0</th>\n",
       "      <td>7365</td>\n",
       "      <td>1155</td>\n",
       "      <td>Not Applicable: Standalone Property</td>\n",
       "      <td>Not Applicable: Standalone Property</td>\n",
       "      <td>2020-12-31T00:00:00.000</td>\n",
       "      <td>1009970029</td>\n",
       "      <td>1022631</td>\n",
       "      <td>1155  Avenue  of  the  Americas</td>\n",
       "      <td>Manhattan</td>\n",
       "      <td>10036</td>\n",
       "      <td>...</td>\n",
       "      <td>0</td>\n",
       "      <td>2021-05-20T14:43:12.000</td>\n",
       "      <td>2021-05-20T14:44:16.000</td>\n",
       "      <td>MANHATTAN</td>\n",
       "      <td>105</td>\n",
       "      <td>4</td>\n",
       "      <td>119</td>\n",
       "      <td>Midtown-Midtown South</td>\n",
       "      <td>-73.982826</td>\n",
       "      <td>40.756631</td>\n",
       "    </tr>\n",
       "    <tr>\n",
       "      <th>1</th>\n",
       "      <td>8139</td>\n",
       "      <td>200</td>\n",
       "      <td>Not Applicable: Standalone Property</td>\n",
       "      <td>Not Applicable: Standalone Property</td>\n",
       "      <td>2020-12-31T00:00:00.000</td>\n",
       "      <td>1013150001</td>\n",
       "      <td>1037545</td>\n",
       "      <td>200  East  42nd  St.</td>\n",
       "      <td>Manhattan</td>\n",
       "      <td>10017</td>\n",
       "      <td>...</td>\n",
       "      <td>0</td>\n",
       "      <td>2021-05-20T14:43:12.000</td>\n",
       "      <td>2021-05-20T14:44:16.000</td>\n",
       "      <td>MANHATTAN</td>\n",
       "      <td>106</td>\n",
       "      <td>4</td>\n",
       "      <td>88</td>\n",
       "      <td>Turtle Bay-East Midtown</td>\n",
       "      <td>-73.974306</td>\n",
       "      <td>40.750698</td>\n",
       "    </tr>\n",
       "    <tr>\n",
       "      <th>2</th>\n",
       "      <td>8604</td>\n",
       "      <td>114</td>\n",
       "      <td>Not Applicable: Standalone Property</td>\n",
       "      <td>Not Applicable: Standalone Property</td>\n",
       "      <td>2020-12-31T00:00:00.000</td>\n",
       "      <td>1009990019</td>\n",
       "      <td>1022667</td>\n",
       "      <td>114  West  47th  st</td>\n",
       "      <td>Manhattan</td>\n",
       "      <td>10036</td>\n",
       "      <td>...</td>\n",
       "      <td>0</td>\n",
       "      <td>2021-05-21T16:10:56.000</td>\n",
       "      <td>2021-05-21T16:13:00.000</td>\n",
       "      <td>MANHATTAN</td>\n",
       "      <td>105</td>\n",
       "      <td>4</td>\n",
       "      <td>125</td>\n",
       "      <td>Midtown-Midtown South</td>\n",
       "      <td>-73.982504</td>\n",
       "      <td>40.75831</td>\n",
       "    </tr>\n",
       "    <tr>\n",
       "      <th>3</th>\n",
       "      <td>8841</td>\n",
       "      <td>733</td>\n",
       "      <td>Not Applicable: Standalone Property</td>\n",
       "      <td>Not Applicable: Standalone Property</td>\n",
       "      <td>2020-12-31T00:00:00.000</td>\n",
       "      <td>1013190047</td>\n",
       "      <td>1037596</td>\n",
       "      <td>733  Third  Avenue</td>\n",
       "      <td>Manhattan</td>\n",
       "      <td>10017</td>\n",
       "      <td>...</td>\n",
       "      <td>0</td>\n",
       "      <td>2021-05-20T14:43:13.000</td>\n",
       "      <td>2021-05-20T14:44:16.000</td>\n",
       "      <td>MANHATTAN</td>\n",
       "      <td>106</td>\n",
       "      <td>4</td>\n",
       "      <td>90</td>\n",
       "      <td>Turtle Bay-East Midtown</td>\n",
       "      <td>-73.972753</td>\n",
       "      <td>40.753074</td>\n",
       "    </tr>\n",
       "    <tr>\n",
       "      <th>4</th>\n",
       "      <td>11809</td>\n",
       "      <td>Conde Nast Building</td>\n",
       "      <td>Not Applicable: Standalone Property</td>\n",
       "      <td>Not Applicable: Standalone Property</td>\n",
       "      <td>2020-12-31T00:00:00.000</td>\n",
       "      <td>1009950005</td>\n",
       "      <td>1085682</td>\n",
       "      <td>4 Times Square</td>\n",
       "      <td>Manhattan</td>\n",
       "      <td>10036</td>\n",
       "      <td>...</td>\n",
       "      <td>0</td>\n",
       "      <td>2021-05-10T18:30:37.000</td>\n",
       "      <td>2021-05-10T18:34:54.000</td>\n",
       "      <td>MANHATTAN</td>\n",
       "      <td>105</td>\n",
       "      <td>4</td>\n",
       "      <td>119</td>\n",
       "      <td>Midtown-Midtown South</td>\n",
       "      <td>-73.986244</td>\n",
       "      <td>40.756181</td>\n",
       "    </tr>\n",
       "  </tbody>\n",
       "</table>\n",
       "<p>5 rows × 250 columns</p>\n",
       "</div>"
      ],
      "text/plain": [
       "  property_id        property_name                   parent_property_id  \\\n",
       "0        7365                 1155  Not Applicable: Standalone Property   \n",
       "1        8139                  200  Not Applicable: Standalone Property   \n",
       "2        8604                  114  Not Applicable: Standalone Property   \n",
       "3        8841                  733  Not Applicable: Standalone Property   \n",
       "4       11809  Conde Nast Building  Not Applicable: Standalone Property   \n",
       "\n",
       "                  parent_property_name              year_ending  \\\n",
       "0  Not Applicable: Standalone Property  2020-12-31T00:00:00.000   \n",
       "1  Not Applicable: Standalone Property  2020-12-31T00:00:00.000   \n",
       "2  Not Applicable: Standalone Property  2020-12-31T00:00:00.000   \n",
       "3  Not Applicable: Standalone Property  2020-12-31T00:00:00.000   \n",
       "4  Not Applicable: Standalone Property  2020-12-31T00:00:00.000   \n",
       "\n",
       "  nyc_borough_block_and_lot_bbl nyc_building_identification_number_bin  \\\n",
       "0                    1009970029                                1022631   \n",
       "1                    1013150001                                1037545   \n",
       "2                    1009990019                                1022667   \n",
       "3                    1013190047                                1037596   \n",
       "4                    1009950005                                1085682   \n",
       "\n",
       "                         address_1       city postcode  ...  \\\n",
       "0  1155  Avenue  of  the  Americas  Manhattan    10036  ...   \n",
       "1             200  East  42nd  St.  Manhattan    10017  ...   \n",
       "2              114  West  47th  st  Manhattan    10036  ...   \n",
       "3               733  Third  Avenue  Manhattan    10017  ...   \n",
       "4                   4 Times Square  Manhattan    10036  ...   \n",
       "\n",
       "  number_of_active_it_meters          generation_date  \\\n",
       "0                          0  2021-05-20T14:43:12.000   \n",
       "1                          0  2021-05-20T14:43:12.000   \n",
       "2                          0  2021-05-21T16:10:56.000   \n",
       "3                          0  2021-05-20T14:43:13.000   \n",
       "4                          0  2021-05-10T18:30:37.000   \n",
       "\n",
       "              release_date    borough community_board council_district  \\\n",
       "0  2021-05-20T14:44:16.000  MANHATTAN             105                4   \n",
       "1  2021-05-20T14:44:16.000  MANHATTAN             106                4   \n",
       "2  2021-05-21T16:13:00.000  MANHATTAN             105                4   \n",
       "3  2021-05-20T14:44:16.000  MANHATTAN             106                4   \n",
       "4  2021-05-10T18:34:54.000  MANHATTAN             105                4   \n",
       "\n",
       "  census_tract                      nta   longitude   latitude  \n",
       "0          119    Midtown-Midtown South  -73.982826  40.756631  \n",
       "1           88  Turtle Bay-East Midtown  -73.974306  40.750698  \n",
       "2          125    Midtown-Midtown South  -73.982504   40.75831  \n",
       "3           90  Turtle Bay-East Midtown  -73.972753  40.753074  \n",
       "4          119    Midtown-Midtown South  -73.986244  40.756181  \n",
       "\n",
       "[5 rows x 250 columns]"
      ]
     },
     "execution_count": 33,
     "metadata": {},
     "output_type": "execute_result"
    }
   ],
   "source": [
    "df_consumption.head()"
   ]
  },
  {
   "cell_type": "code",
   "execution_count": 80,
   "metadata": {
    "slideshow": {
     "slide_type": "slide"
    }
   },
   "outputs": [
    {
     "data": {
      "text/html": [
       "<div>\n",
       "<style scoped>\n",
       "    .dataframe tbody tr th:only-of-type {\n",
       "        vertical-align: middle;\n",
       "    }\n",
       "\n",
       "    .dataframe tbody tr th {\n",
       "        vertical-align: top;\n",
       "    }\n",
       "\n",
       "    .dataframe thead th {\n",
       "        text-align: right;\n",
       "    }\n",
       "</style>\n",
       "<table border=\"1\" class=\"dataframe\">\n",
       "  <thead>\n",
       "    <tr style=\"text-align: right;\">\n",
       "      <th></th>\n",
       "      <th>address_1</th>\n",
       "      <th>electricity_use_grid_purchase_kwh</th>\n",
       "      <th>natural_gas_use_kbtu</th>\n",
       "      <th>district_steam_use_kbtu</th>\n",
       "    </tr>\n",
       "  </thead>\n",
       "  <tbody>\n",
       "    <tr>\n",
       "      <th>0</th>\n",
       "      <td>1155  Avenue  of  the  Americas</td>\n",
       "      <td>6508637.9</td>\n",
       "      <td>Not Available</td>\n",
       "      <td>6414034.1</td>\n",
       "    </tr>\n",
       "    <tr>\n",
       "      <th>1</th>\n",
       "      <td>200  East  42nd  St.</td>\n",
       "      <td>4198817</td>\n",
       "      <td>Not Available</td>\n",
       "      <td>75992330.6</td>\n",
       "    </tr>\n",
       "    <tr>\n",
       "      <th>2</th>\n",
       "      <td>114  West  47th  st</td>\n",
       "      <td>6117997</td>\n",
       "      <td>893036.7</td>\n",
       "      <td>10562069.7</td>\n",
       "    </tr>\n",
       "    <tr>\n",
       "      <th>3</th>\n",
       "      <td>733  Third  Avenue</td>\n",
       "      <td>4207162</td>\n",
       "      <td>804271.7</td>\n",
       "      <td>12357732.6</td>\n",
       "    </tr>\n",
       "    <tr>\n",
       "      <th>4</th>\n",
       "      <td>4 Times Square</td>\n",
       "      <td>23758868.1</td>\n",
       "      <td>34039087.3</td>\n",
       "      <td>10949895.3</td>\n",
       "    </tr>\n",
       "  </tbody>\n",
       "</table>\n",
       "</div>"
      ],
      "text/plain": [
       "                         address_1 electricity_use_grid_purchase_kwh  \\\n",
       "0  1155  Avenue  of  the  Americas                         6508637.9   \n",
       "1             200  East  42nd  St.                           4198817   \n",
       "2              114  West  47th  st                           6117997   \n",
       "3               733  Third  Avenue                           4207162   \n",
       "4                   4 Times Square                        23758868.1   \n",
       "\n",
       "  natural_gas_use_kbtu district_steam_use_kbtu  \n",
       "0        Not Available               6414034.1  \n",
       "1        Not Available              75992330.6  \n",
       "2             893036.7              10562069.7  \n",
       "3             804271.7              12357732.6  \n",
       "4           34039087.3              10949895.3  "
      ]
     },
     "execution_count": 80,
     "metadata": {},
     "output_type": "execute_result"
    }
   ],
   "source": [
    "df_consumption[['address_1', 'electricity_use_grid_purchase_kwh', 'natural_gas_use_kbtu', \n",
    "                'district_steam_use_kbtu']].head()"
   ]
  },
  {
   "cell_type": "code",
   "execution_count": 82,
   "metadata": {
    "slideshow": {
     "slide_type": "subslide"
    }
   },
   "outputs": [
    {
     "data": {
      "image/png": "[encoded data removed]",
      "text/plain": [
       "<Figure size 432x288 with 1 Axes>"
      ]
     },
     "metadata": {
      "needs_background": "light"
     },
     "output_type": "display_data"
    }
   ],
   "source": [
    "import matplotlib.pyplot as plt\n",
    "emissions_intensity = df_consumption.total_ghg_emissions_intensity_kgco2e_ft \\\n",
    "    .replace(r'Not Available', np.nan, regex=True).astype(float)\n",
    "plt.plot(emissions_intensity)\n",
    "plt.show()"
   ]
  },
  {
   "cell_type": "code",
   "execution_count": null,
   "metadata": {
    "slideshow": {
     "slide_type": "skip"
    }
   },
   "outputs": [],
   "source": [
    "# property_id\n",
    "# property_name\n",
    "# year_ending\n",
    "# nyc_borough_block_and_lot_bbl\n",
    "# nyc_building_identification_number_bin\n",
    "# address_1\n",
    "# largest_property_use_type\n",
    "# largest_property_use_type_gross_floor_area_ft\n",
    "# _2nd_largest_property_use_type\n",
    "# _2nd_largest_property_use_gross_floor_area_ft\n",
    "# _3nd_largest_property_use_type\n",
    "# _3nd_largest_property_use_gross_floor_area_ft\n",
    "# site_energy_use_kbtu\n",
    "# occupancy\n",
    "# percent_of_total_electricity_generated_from_onsite_renewable_systems\n",
    "# natural_gas_use_kbtu\n",
    "# electricity_use_grid_purchase_kwh\n",
    "# district_steam_use_kbtu\n",
    "# year_built"
   ]
  },
  {
   "cell_type": "code",
   "execution_count": 35,
   "metadata": {
    "slideshow": {
     "slide_type": "skip"
    }
   },
   "outputs": [
    {
     "data": {
      "text/html": [
       "<div>\n",
       "<style scoped>\n",
       "    .dataframe tbody tr th:only-of-type {\n",
       "        vertical-align: middle;\n",
       "    }\n",
       "\n",
       "    .dataframe tbody tr th {\n",
       "        vertical-align: top;\n",
       "    }\n",
       "\n",
       "    .dataframe thead th {\n",
       "        text-align: right;\n",
       "    }\n",
       "</style>\n",
       "<table border=\"1\" class=\"dataframe\">\n",
       "  <thead>\n",
       "    <tr style=\"text-align: right;\">\n",
       "      <th></th>\n",
       "      <th>the_geom</th>\n",
       "      <th>bin</th>\n",
       "      <th>cnstrct_yr</th>\n",
       "      <th>lstmoddate</th>\n",
       "      <th>lststatype</th>\n",
       "      <th>doitt_id</th>\n",
       "      <th>heightroof</th>\n",
       "      <th>feat_code</th>\n",
       "      <th>groundelev</th>\n",
       "      <th>shape_area</th>\n",
       "      <th>shape_len</th>\n",
       "      <th>base_bbl</th>\n",
       "      <th>mpluto_bbl</th>\n",
       "      <th>geomsource</th>\n",
       "    </tr>\n",
       "  </thead>\n",
       "  <tbody>\n",
       "  </tbody>\n",
       "</table>\n",
       "</div>"
      ],
      "text/plain": [
       "Empty DataFrame\n",
       "Columns: [the_geom, bin, cnstrct_yr, lstmoddate, lststatype, doitt_id, heightroof, feat_code, groundelev, shape_area, shape_len, base_bbl, mpluto_bbl, geomsource]\n",
       "Index: []"
      ]
     },
     "execution_count": 35,
     "metadata": {},
     "output_type": "execute_result"
    }
   ],
   "source": [
    "df_footprint[df_footprint.bin=='1022631']"
   ]
  },
  {
   "cell_type": "code",
   "execution_count": 89,
   "metadata": {
    "scrolled": false,
    "slideshow": {
     "slide_type": "slide"
    }
   },
   "outputs": [
    {
     "data": {
      "text/html": [
       "<div>\n",
       "<style scoped>\n",
       "    .dataframe tbody tr th:only-of-type {\n",
       "        vertical-align: middle;\n",
       "    }\n",
       "\n",
       "    .dataframe tbody tr th {\n",
       "        vertical-align: top;\n",
       "    }\n",
       "\n",
       "    .dataframe thead th {\n",
       "        text-align: right;\n",
       "    }\n",
       "</style>\n",
       "<table border=\"1\" class=\"dataframe\">\n",
       "  <thead>\n",
       "    <tr style=\"text-align: right;\">\n",
       "      <th></th>\n",
       "      <th>bin</th>\n",
       "      <th>the_geom</th>\n",
       "    </tr>\n",
       "  </thead>\n",
       "  <tbody>\n",
       "    <tr>\n",
       "      <th>0</th>\n",
       "      <td>3170958</td>\n",
       "      <td>{'type': 'MultiPolygon', 'coordinates': [[[[-7...</td>\n",
       "    </tr>\n",
       "    <tr>\n",
       "      <th>1</th>\n",
       "      <td>5028452</td>\n",
       "      <td>{'type': 'MultiPolygon', 'coordinates': [[[[-7...</td>\n",
       "    </tr>\n",
       "    <tr>\n",
       "      <th>2</th>\n",
       "      <td>5078368</td>\n",
       "      <td>{'type': 'MultiPolygon', 'coordinates': [[[[-7...</td>\n",
       "    </tr>\n",
       "    <tr>\n",
       "      <th>3</th>\n",
       "      <td>3245111</td>\n",
       "      <td>{'type': 'MultiPolygon', 'coordinates': [[[[-7...</td>\n",
       "    </tr>\n",
       "    <tr>\n",
       "      <th>4</th>\n",
       "      <td>4161096</td>\n",
       "      <td>{'type': 'MultiPolygon', 'coordinates': [[[[-7...</td>\n",
       "    </tr>\n",
       "  </tbody>\n",
       "</table>\n",
       "</div>"
      ],
      "text/plain": [
       "       bin                                           the_geom\n",
       "0  3170958  {'type': 'MultiPolygon', 'coordinates': [[[[-7...\n",
       "1  5028452  {'type': 'MultiPolygon', 'coordinates': [[[[-7...\n",
       "2  5078368  {'type': 'MultiPolygon', 'coordinates': [[[[-7...\n",
       "3  3245111  {'type': 'MultiPolygon', 'coordinates': [[[[-7...\n",
       "4  4161096  {'type': 'MultiPolygon', 'coordinates': [[[[-7..."
      ]
     },
     "execution_count": 89,
     "metadata": {},
     "output_type": "execute_result"
    }
   ],
   "source": [
    "df_footprint[['bin', 'the_geom']].head()"
   ]
  },
  {
   "cell_type": "code",
   "execution_count": 90,
   "metadata": {
    "slideshow": {
     "slide_type": "skip"
    }
   },
   "outputs": [],
   "source": [
    "gis = GIS()\n",
    "m=gis.map('New York, NY')"
   ]
  },
  {
   "cell_type": "code",
   "execution_count": 91,
   "metadata": {
    "scrolled": true,
    "slideshow": {
     "slide_type": "subslide"
    }
   },
   "outputs": [
    {
     "data": {
      "application/vnd.jupyter.widget-view+json": {
       "model_id": "fef01097d1094c239590cc2f43da8351",
       "version_major": 2,
       "version_minor": 0
      },
      "text/plain": [
       "MapView(layout=Layout(height='400px', width='100%'))"
      ]
     },
     "metadata": {},
     "output_type": "display_data"
    },
    {
     "data": {
      "text/html": [
       "<div class=\"map-static-img-preview-df0b638f-c28e-4ef4-a128-9f539207b385\"><img src=\"\"></img></div>"
      ],
      "text/plain": [
       "<IPython.core.display.HTML object>"
      ]
     },
     "metadata": {},
     "output_type": "display_data"
    },
    {
     "data": {
      "text/html": [
       "<div class=\"map-html-embed-preview-df0b638f-c28e-4ef4-a128-9f539207b385\"></div>"
      ],
      "text/plain": [
       "<IPython.core.display.HTML object>"
      ]
     },
     "metadata": {},
     "output_type": "display_data"
    }
   ],
   "source": [
    "m"
   ]
  },
  {
   "cell_type": "code",
   "execution_count": 42,
   "metadata": {
    "slideshow": {
     "slide_type": "skip"
    }
   },
   "outputs": [
    {
     "data": {
      "text/plain": [
       "[[[-73.96664570466969, 40.62599676998366],\n",
       "  [-73.96684846176461, 40.625977490862574],\n",
       "  [-73.96685938726297, 40.62604419372411],\n",
       "  [-73.96661621040211, 40.62606731716107],\n",
       "  [-73.96660638332114, 40.626007324369795],\n",
       "  [-73.96664680403327, 40.626003480977275],\n",
       "  [-73.96664570466969, 40.62599676998366]]]"
      ]
     },
     "execution_count": 42,
     "metadata": {},
     "output_type": "execute_result"
    }
   ],
   "source": [
    "l = df_footprint['the_geom'][0]['coordinates'][0]\n",
    "l"
   ]
  },
  {
   "cell_type": "code",
   "execution_count": 43,
   "metadata": {
    "slideshow": {
     "slide_type": "skip"
    }
   },
   "outputs": [
    {
     "name": "stdout",
     "output_type": "stream",
     "text": [
      "True\n"
     ]
    }
   ],
   "source": [
    "line1 = {\n",
    "  \"paths\" : l,\n",
    "  \"spatialReference\" : {\"wkid\" : 4326}\n",
    "}\n",
    "\n",
    "polyline1 = Polyline(line1)\n",
    "print(polyline1.is_valid())"
   ]
  },
  {
   "cell_type": "code",
   "execution_count": 47,
   "metadata": {
    "slideshow": {
     "slide_type": "skip"
    }
   },
   "outputs": [],
   "source": [
    "sym_poly_aoi = {\n",
    "  \"type\": \"esriSFS\",\n",
    "  \"style\": \"esriSFSSolid\",\n",
    "  \"color\": [100,50,50,150],\n",
    "    \"outline\": {\n",
    "     \"type\": \"esriSLS\",\n",
    "     \"style\": \"esriSLSSolid\",\n",
    "     \"color\": [100,50,50,150],\n",
    "     \"width\": 3}\n",
    "}\n",
    "\n",
    "m.draw(polyline1, symbol = sym_poly_aoi)"
   ]
  },
  {
   "cell_type": "markdown",
   "metadata": {
    "slideshow": {
     "slide_type": "skip"
    }
   },
   "source": [
    "--\n",
    "<!--\n",
    "# https://geopandas.org/en/stable/gallery/choro_legends.html\n",
    "# https://geopandas.org/en/stable/getting_started/introduction.html\n",
    "\n",
    "# import httplib, urllib, base64\n",
    "\n",
    "# headers = {\n",
    "#     # Request headers\n",
    "#     'Ocp-Apim-Subscription-Key': '{subscription key}',\n",
    "# }\n",
    "\n",
    "# params = urllib.urlencode({\n",
    "# })\n",
    "\n",
    "\n",
    "# import geopandas as gpd\n",
    "# import matplotlib.pyplot as plt \n",
    "# from mpl_toolkits.axes_grid1 import make_axes_locatable \n",
    "\n",
    "# # Reading the world shapefile \n",
    "# world_data = gpd.read_file(r'D:\\GeoDelta\\Introduction to Geopandas_Basics\\Visualizing Geographical Data\\world.shp')\n",
    "# world_data = world_data[['NAME', 'geometry']]\n",
    "\n",
    "# # Calculating the area of each country \n",
    "# world_data['area'] = world_data.area\n",
    "\n",
    "# # Removing Antarctica from GeoPandas GeoDataframe\n",
    "# world_data = world_data[world_data['NAME'] != 'Antarctica']\n",
    "# world_data.plot()\n",
    "\n",
    "# # Changing the projection\n",
    "# current_crs = world_data.crs   \n",
    "# world_data.to_crs(epsg = 3857, inplace = True)\n",
    "# world_data.plot(column = 'NAME', cmap = 'hsv')\n",
    "\n",
    "# # Re-calculate the areas in Sq. Km.\n",
    "# world_data['area'] = world_data.area/1000000\n",
    "\n",
    "# # Adding a legend \n",
    "# world_data.plot(column = 'area' , cmap = 'hsv' , legend = True, \n",
    "#                 legend_kwds = {'label': \"Area of the country (Sq. Km.)\"}, figsize = (7,7))\n",
    "\n",
    "# # Resizing the legend \n",
    "# fig, ax = plt.subplots(figsize = (10,10))\n",
    "# divider = make_axes_locatable(ax)\n",
    "# cax = divider.append_axes(\"right\", size = \"7%\", pad = 0.1)\n",
    "# world_data.plot(column = 'NAME' , cmap = 'hsv' , legend = None, \n",
    "#                 legend_kwds = {'label': \"Area of the country (Sq. Km.)\"},\n",
    "#                 ax = ax, cax = cax)\n",
    "\n",
    "# https://data.cityofnewyork.us/resource/7w4b-tj9d.json\n",
    "\n",
    "# https://www1.nyc.gov/site/planning/data-maps/open-data/bytes-archive.page?sorts[year]=0\n",
    "# https://www1.nyc.gov/site/doitt/initiatives/3d-building.page\n",
    "# https://www1.nyc.gov/html/gbee/html/plan/ll84_scores.shtml\n",
    "\n",
    "# https://benchmarking.cityofnewyork.us/#/\n",
    "\n",
    "# https://uil.carto.com/api/v2/sql?format=csv&filename=filtered_evt&q=SELECT%20bbl,%20bin,%20address,%20zipcode,%20bldgtype,%20ess,%20year,%20gfa,%20numbldgs,%20numfloors,%20eui,%20energy,%20wui,%20ghg,%20primary_type,%20other_types_dict,%20has_datacenter,%20electricity,%20bedrooms,%20natural_gas,%20steam,%20worker_dens,%20res_units,%20diesel,%20fuel_4,%20fuel_2,%20fuel_5_6%20FROM%20table_2017_disclosure_ll84_viz_01_2019%20WHERE%20(year%20%3E=%201900%20AND%20year%20%3C=%202017)%20AND%20(gfa%20%3E=%2010000%20AND%20gfa%20%3C=%20500035)%20%20AND%20(eui%20%3E=%2050%20AND%20eui%20%3C=%20350)\n",
    "\n",
    "!-->"
   ]
  }
 ],
 "metadata": {
  "interpreter": {
   "hash": "1d461b30fc5edc508db32526b337aad33bd293f14f2b02d30461578ede1a81f2"
  },
  "kernelspec": {
   "display_name": "Python 3 (ipykernel)",
   "language": "python",
   "name": "python3"
  },
  "language_info": {
   "codemirror_mode": {
    "name": "ipython",
    "version": 3
   },
   "file_extension": ".py",
   "mimetype": "text/x-python",
   "name": "python",
   "nbconvert_exporter": "python",
   "pygments_lexer": "ipython3",
   "version": "3.9.7"
  }
 },
 "nbformat": 4,
 "nbformat_minor": 2
}
