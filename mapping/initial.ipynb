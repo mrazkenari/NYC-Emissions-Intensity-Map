{
 "cells": [
  {
   "attachments": {},
   "cell_type": "markdown",
   "metadata": {},
   "source": [
    "## New York City Emissions Intensity Map\n",
    "##### Notebook by [Mohamad Razkenari](https://www.razkenari.com)\n",
    "\n",
    "<img src=\"https://www.urbangreencouncil.org/sites/default/files/landing_page_image.jpg\"/>"
   ]
  },
  {
   "cell_type": "markdown",
   "metadata": {},
   "source": [
    "## Introduction\n",
    "In the time it took you to read this sentence, terabytes of data have been collectively generated across the world — more data than any of us could ever hope to process, much less make sense of, on the machines we're using to read this notebook.\n",
    "\n",
    "<img src=\"https://www.circuitmeter.com/wp-content/uploads/2020/02/image-industryArticles_NYC-LL97.jpg\" width=50% />\n",
    "\n",
    "\n",
    ">**Note:** Please specify.\n",
    "\n",
    "Here’s what you need to know\n",
    "\n",
    "* Applies to all buildings in NYC greater than 25000 square feet; applicable for approximately 60% residential and 40% commercial buildings\n",
    "* Penalties for non-compliance; maximum penalty is calculated based on the difference between a building’s annual emissions limit and its actual emissions multiplied by 268\n",
    "* A building’s annual emissions limit equals its emissions intensity limit multiplied by its gross floor area\n",
    "* Many buildings are significantly above emissions limits and will require comprehensive retrofits or potentially face millions of dollars in penalties\n",
    "* There are two increasingly stringent phases of limits; first phase takes effect in 2024 and the second occurring in 2030\n",
    "* Emissions intensity limits (metric tons of CO2e per square foot) are set based on 10 building categories defined by Building Code occupancy groups\n",
    "* Renewable energy credits and/or emissions offsets can be used to comply with the caps"
   ]
  },
  {
   "cell_type": "markdown",
   "metadata": {},
   "source": [
    "## Required Datasets"
   ]
  },
  {
   "attachments": {},
   "cell_type": "markdown",
   "metadata": {},
   "source": [
    "**Step 1 - Calculate Emissions Intensity**: total global warming potential per square foot per year, neasured in kg CO2e/m2/a\n",
    "* Energy Consumption per year\n",
    " * Natural Gas\n",
    " * Electricity\n",
    " * District Steam\n",
    "* Building Floor area \n",
    "\n",
    "**Step 2 - Identify Emissions Target**: Based on building classification, as specified by the Local Law 97\n",
    "* Building Occupancy Classification\n",
    "* Global Warming Potential per unit of energy\n",
    "\n",
    "**Data Sources:**\n",
    "* **Energy use benchmarking data** (required by LL84) [LINK](https://data.cityofnewyork.us/Environment/Local-Law-84-2021-Monthly-Data-for-Calendar-Year-2/in83-58q5) \n",
    "* **Building footprint data** [LINK](https://data.cityofnewyork.us/Housing-Development/Building-Footprints/nqwf-w8eh)\n",
    "* **Building 3D models** [LINK](https://www1.nyc.gov/site/doitt/initiatives/3d-building.page)\n",
    "* **Building Use and Characteristics** [LINK](https://www1.nyc.gov/site/planning/data-maps/open-data/bytes-archive.page?sorts[year]=0)\n",
    "\n",
    "** Featureset Exploration **\n",
    "\n",
    "* **age**: continuous. \n",
    "* **workclass**: Private, Self-emp-not-inc, Self-emp-inc, Federal-gov, Local-gov, State-gov, Without-pay, Never-worked. \n",
    "* **education**: Bachelors, Some-college, 11th, HS-grad, Prof-school, Assoc-acdm, Assoc-voc, 9th, 7th-8th, 12th, Masters, 1st-4th, 10th, Doctorate, 5th-6th, Preschool. \n",
    "* **education-num**: continuous. \n",
    "* **marital-status**: Married-civ-spouse, Divorced, Never-married, Separated, Widowed, Married-spouse-absent, Married-AF-spouse. \n",
    "* **occupation**: Tech-support, Craft-repair, Other-service, Sales, Exec-managerial, Prof-specialty, Handlers-cleaners, Machine-op-inspct, Adm-clerical, Farming-fishing, Transport-moving, Priv-house-serv, Protective-serv, Armed-Forces. \n",
    "* **relationship**: Wife, Own-child, Husband, Not-in-family, Other-relative, Unmarried. \n",
    "* **race**: Black, White, Asian-Pac-Islander, Amer-Indian-Eskimo, Other. \n",
    "* **sex**: Female, Male. \n",
    "* **capital-gain**: continuous. \n",
    "* **capital-loss**: continuous. \n",
    "* **hours-per-week**: continuous. \n",
    "* **native-country**: United-States, Cambodia, England, Puerto-Rico, Canada, Germany, Outlying-US(Guam-USVI-etc), India, Japan, Greece, South, China, Cuba, Iran, Honduras, Philippines, Italy, Poland, Jamaica, Vietnam, Mexico, Portugal, Ireland, France, Dominican-Republic, Laos, Ecuador, Taiwan, Haiti, Columbia, Hungary, Guatemala, Nicaragua, Scotland, Thailand, Yugoslavia, El-Salvador, Trinadad&Tobago, Peru, Hong, Holand-Netherlands."
   ]
  },
  {
   "cell_type": "markdown",
   "metadata": {},
   "source": [
    "## Required libraries\n",
    "This notebook uses several Python packages that come standard with the Anaconda Python distribution. The primary libraries that we'll be using are:\n",
    "\n",
    "* **NumPy**: Provides a fast numerical array structure and helper functions.\n",
    "* **Pandas**: Provides a DataFrame structure to store data in memory and work with it easily and efficiently.\n",
    "* **Scikit-learn**: The essential Machine Learning package in Python.\n",
    "* **Matplotlib**: Basic plotting library in Python; most other Python plotting libraries are built on top of it.\n",
    "* **Seaborn**: Advanced statistical plotting library.\n",
    "* **ArcGIS**: Advanced library to convert and manage geographic data, automate spatial workflows, perform advanced spatial analytics.\n",
    "* **Sodapy**: API for getting NYC data.\n",
    "* **ArcPy**: ArcPy is a site-package that builds on the successful arcgisscripting module."
   ]
  },
  {
   "cell_type": "code",
   "execution_count": 59,
   "metadata": {},
   "outputs": [],
   "source": [
    "# Install and Import packages in the current Jupyter kernel\n",
    "import sys\n",
    "import os\n",
    "# !{sys.executable} -m pip install numpy pandas scikit-learn matplotlib seaborn arcgis sodapy\n",
    " \n",
    "import pandas as pd\n",
    "import numpy as np\n",
    "from sodapy import Socrata\n",
    "\n",
    "from arcgis import GIS\n",
    "from arcgis.geocoding import geocode\n",
    "from arcgis.geometry import lengths, areas_and_lengths, project\n",
    "from arcgis.geometry import Point, Polyline, Polygon, Geometry"
   ]
  },
  {
   "cell_type": "code",
   "execution_count": 43,
   "metadata": {},
   "outputs": [
    {
     "name": "stderr",
     "output_type": "stream",
     "text": [
      "WARNING:root:Requests made without an app_token will be subject to strict throttling limits.\n"
     ]
    }
   ],
   "source": [
    "# Enter the information from those sections here\n",
    "socrata_domain = 'data.cityofnewyork.us'\n",
    "\n",
    "consumption_id = 'in83-58q5' #building consumption\n",
    "footprint_id = 'qb5r-6dgf' #building foorprint coordinates\n",
    "points_id = '7w4b-tj9d' #building coordinates\n",
    "\n",
    "socrata_token = os.environ.get(\"SODAPY_APPTOKEN\")\n",
    "client = Socrata(socrata_domain, socrata_token)"
   ]
  },
  {
   "cell_type": "code",
   "execution_count": 45,
   "metadata": {},
   "outputs": [
    {
     "data": {
      "text/html": [
       "<div>\n",
       "<style scoped>\n",
       "    .dataframe tbody tr th:only-of-type {\n",
       "        vertical-align: middle;\n",
       "    }\n",
       "\n",
       "    .dataframe tbody tr th {\n",
       "        vertical-align: top;\n",
       "    }\n",
       "\n",
       "    .dataframe thead th {\n",
       "        text-align: right;\n",
       "    }\n",
       "</style>\n",
       "<table border=\"1\" class=\"dataframe\">\n",
       "  <thead>\n",
       "    <tr style=\"text-align: right;\">\n",
       "      <th></th>\n",
       "      <th>property_id</th>\n",
       "      <th>property_name</th>\n",
       "      <th>parent_property_id</th>\n",
       "      <th>parent_property_name</th>\n",
       "      <th>month</th>\n",
       "      <th>electricity_use_kbtu</th>\n",
       "      <th>natural_gas_use_kbtu</th>\n",
       "    </tr>\n",
       "  </thead>\n",
       "  <tbody>\n",
       "    <tr>\n",
       "      <th>0</th>\n",
       "      <td>7365</td>\n",
       "      <td>1155</td>\n",
       "      <td>Not Applicable: Standalone Property</td>\n",
       "      <td>Not Applicable: Standalone Property</td>\n",
       "      <td>Jan-20</td>\n",
       "      <td>2175731.1</td>\n",
       "      <td>Not Available</td>\n",
       "    </tr>\n",
       "    <tr>\n",
       "      <th>1</th>\n",
       "      <td>7365</td>\n",
       "      <td>1155</td>\n",
       "      <td>Not Applicable: Standalone Property</td>\n",
       "      <td>Not Applicable: Standalone Property</td>\n",
       "      <td>Feb-20</td>\n",
       "      <td>1902208.9</td>\n",
       "      <td>Not Available</td>\n",
       "    </tr>\n",
       "    <tr>\n",
       "      <th>2</th>\n",
       "      <td>7365</td>\n",
       "      <td>1155</td>\n",
       "      <td>Not Applicable: Standalone Property</td>\n",
       "      <td>Not Applicable: Standalone Property</td>\n",
       "      <td>Mar-20</td>\n",
       "      <td>1847793.7</td>\n",
       "      <td>Not Available</td>\n",
       "    </tr>\n",
       "    <tr>\n",
       "      <th>3</th>\n",
       "      <td>7365</td>\n",
       "      <td>1155</td>\n",
       "      <td>Not Applicable: Standalone Property</td>\n",
       "      <td>Not Applicable: Standalone Property</td>\n",
       "      <td>Apr-20</td>\n",
       "      <td>1613573.0</td>\n",
       "      <td>Not Available</td>\n",
       "    </tr>\n",
       "    <tr>\n",
       "      <th>4</th>\n",
       "      <td>7365</td>\n",
       "      <td>1155</td>\n",
       "      <td>Not Applicable: Standalone Property</td>\n",
       "      <td>Not Applicable: Standalone Property</td>\n",
       "      <td>May-20</td>\n",
       "      <td>1747078.0</td>\n",
       "      <td>Not Available</td>\n",
       "    </tr>\n",
       "  </tbody>\n",
       "</table>\n",
       "</div>"
      ],
      "text/plain": [
       "  property_id property_name                   parent_property_id  \\\n",
       "0        7365          1155  Not Applicable: Standalone Property   \n",
       "1        7365          1155  Not Applicable: Standalone Property   \n",
       "2        7365          1155  Not Applicable: Standalone Property   \n",
       "3        7365          1155  Not Applicable: Standalone Property   \n",
       "4        7365          1155  Not Applicable: Standalone Property   \n",
       "\n",
       "                  parent_property_name   month electricity_use_kbtu  \\\n",
       "0  Not Applicable: Standalone Property  Jan-20            2175731.1   \n",
       "1  Not Applicable: Standalone Property  Feb-20            1902208.9   \n",
       "2  Not Applicable: Standalone Property  Mar-20            1847793.7   \n",
       "3  Not Applicable: Standalone Property  Apr-20            1613573.0   \n",
       "4  Not Applicable: Standalone Property  May-20            1747078.0   \n",
       "\n",
       "  natural_gas_use_kbtu  \n",
       "0        Not Available  \n",
       "1        Not Available  \n",
       "2        Not Available  \n",
       "3        Not Available  \n",
       "4        Not Available  "
      ]
     },
     "execution_count": 45,
     "metadata": {},
     "output_type": "execute_result"
    }
   ],
   "source": [
    "consumption = client.get(consumption_id)\n",
    "# consumption = client.get_all(consumption_id)\n",
    "df_consumption = pd.DataFrame.from_dict(consumption)\n",
    "df_consumption.head()"
   ]
  },
  {
   "cell_type": "code",
   "execution_count": 46,
   "metadata": {},
   "outputs": [
    {
     "data": {
      "text/html": [
       "<div>\n",
       "<style scoped>\n",
       "    .dataframe tbody tr th:only-of-type {\n",
       "        vertical-align: middle;\n",
       "    }\n",
       "\n",
       "    .dataframe tbody tr th {\n",
       "        vertical-align: top;\n",
       "    }\n",
       "\n",
       "    .dataframe thead th {\n",
       "        text-align: right;\n",
       "    }\n",
       "</style>\n",
       "<table border=\"1\" class=\"dataframe\">\n",
       "  <thead>\n",
       "    <tr style=\"text-align: right;\">\n",
       "      <th></th>\n",
       "      <th>the_geom</th>\n",
       "      <th>bin</th>\n",
       "      <th>cnstrct_yr</th>\n",
       "      <th>lstmoddate</th>\n",
       "      <th>lststatype</th>\n",
       "      <th>doitt_id</th>\n",
       "      <th>heightroof</th>\n",
       "      <th>feat_code</th>\n",
       "      <th>groundelev</th>\n",
       "      <th>base_bbl</th>\n",
       "      <th>mpluto_bbl</th>\n",
       "      <th>geomsource</th>\n",
       "    </tr>\n",
       "  </thead>\n",
       "  <tbody>\n",
       "    <tr>\n",
       "      <th>0</th>\n",
       "      <td>{'type': 'Point', 'coordinates': [-73.96673233...</td>\n",
       "      <td>3170958</td>\n",
       "      <td>1925</td>\n",
       "      <td>2017-08-22T00:00:00.000</td>\n",
       "      <td>Constructed</td>\n",
       "      <td>96807</td>\n",
       "      <td>29.74985318</td>\n",
       "      <td>2100</td>\n",
       "      <td>40</td>\n",
       "      <td>3065220021</td>\n",
       "      <td>3065220021</td>\n",
       "      <td>Photogramm</td>\n",
       "    </tr>\n",
       "    <tr>\n",
       "      <th>1</th>\n",
       "      <td>{'type': 'Point', 'coordinates': [-74.16795096...</td>\n",
       "      <td>5028452</td>\n",
       "      <td>1965</td>\n",
       "      <td>2017-08-22T00:00:00.000</td>\n",
       "      <td>Constructed</td>\n",
       "      <td>326368</td>\n",
       "      <td>22.63</td>\n",
       "      <td>2100</td>\n",
       "      <td>39</td>\n",
       "      <td>5012640036</td>\n",
       "      <td>5012640036</td>\n",
       "      <td>Photogramm</td>\n",
       "    </tr>\n",
       "    <tr>\n",
       "      <th>2</th>\n",
       "      <td>{'type': 'Point', 'coordinates': [-74.19517887...</td>\n",
       "      <td>5078368</td>\n",
       "      <td>1970</td>\n",
       "      <td>2017-08-22T00:00:00.000</td>\n",
       "      <td>Constructed</td>\n",
       "      <td>746627</td>\n",
       "      <td>35.76</td>\n",
       "      <td>2100</td>\n",
       "      <td>51</td>\n",
       "      <td>5060190091</td>\n",
       "      <td>5060190091</td>\n",
       "      <td>Photogramm</td>\n",
       "    </tr>\n",
       "    <tr>\n",
       "      <th>3</th>\n",
       "      <td>{'type': 'Point', 'coordinates': [-73.96116485...</td>\n",
       "      <td>3245111</td>\n",
       "      <td>1928</td>\n",
       "      <td>2017-08-22T00:00:00.000</td>\n",
       "      <td>Constructed</td>\n",
       "      <td>786626</td>\n",
       "      <td>37.5</td>\n",
       "      <td>2100</td>\n",
       "      <td>6</td>\n",
       "      <td>3086910048</td>\n",
       "      <td>3086910048</td>\n",
       "      <td>Photogramm</td>\n",
       "    </tr>\n",
       "    <tr>\n",
       "      <th>4</th>\n",
       "      <td>{'type': 'Point', 'coordinates': [-73.75428671...</td>\n",
       "      <td>4161096</td>\n",
       "      <td>1950</td>\n",
       "      <td>2017-08-22T00:00:00.000</td>\n",
       "      <td>Constructed</td>\n",
       "      <td>746409</td>\n",
       "      <td>18.01511294</td>\n",
       "      <td>2100</td>\n",
       "      <td>93</td>\n",
       "      <td>4075020005</td>\n",
       "      <td>4075020005</td>\n",
       "      <td>Photogramm</td>\n",
       "    </tr>\n",
       "  </tbody>\n",
       "</table>\n",
       "</div>"
      ],
      "text/plain": [
       "                                            the_geom      bin cnstrct_yr  \\\n",
       "0  {'type': 'Point', 'coordinates': [-73.96673233...  3170958       1925   \n",
       "1  {'type': 'Point', 'coordinates': [-74.16795096...  5028452       1965   \n",
       "2  {'type': 'Point', 'coordinates': [-74.19517887...  5078368       1970   \n",
       "3  {'type': 'Point', 'coordinates': [-73.96116485...  3245111       1928   \n",
       "4  {'type': 'Point', 'coordinates': [-73.75428671...  4161096       1950   \n",
       "\n",
       "                lstmoddate   lststatype doitt_id   heightroof feat_code  \\\n",
       "0  2017-08-22T00:00:00.000  Constructed    96807  29.74985318      2100   \n",
       "1  2017-08-22T00:00:00.000  Constructed   326368        22.63      2100   \n",
       "2  2017-08-22T00:00:00.000  Constructed   746627        35.76      2100   \n",
       "3  2017-08-22T00:00:00.000  Constructed   786626         37.5      2100   \n",
       "4  2017-08-22T00:00:00.000  Constructed   746409  18.01511294      2100   \n",
       "\n",
       "  groundelev    base_bbl  mpluto_bbl  geomsource  \n",
       "0         40  3065220021  3065220021  Photogramm  \n",
       "1         39  5012640036  5012640036  Photogramm  \n",
       "2         51  5060190091  5060190091  Photogramm  \n",
       "3          6  3086910048  3086910048  Photogramm  \n",
       "4         93  4075020005  4075020005  Photogramm  "
      ]
     },
     "execution_count": 46,
     "metadata": {},
     "output_type": "execute_result"
    }
   ],
   "source": [
    "# points_client = Socrata(socrata_domain, socrata_token)\n",
    "points = client.get(points_id)\n",
    "# points = client.get_all(points_id)\n",
    "df_points = pd.DataFrame.from_dict(points)\n",
    "df_points.head()"
   ]
  },
  {
   "cell_type": "code",
   "execution_count": 47,
   "metadata": {},
   "outputs": [
    {
     "data": {
      "text/html": [
       "<div>\n",
       "<style scoped>\n",
       "    .dataframe tbody tr th:only-of-type {\n",
       "        vertical-align: middle;\n",
       "    }\n",
       "\n",
       "    .dataframe tbody tr th {\n",
       "        vertical-align: top;\n",
       "    }\n",
       "\n",
       "    .dataframe thead th {\n",
       "        text-align: right;\n",
       "    }\n",
       "</style>\n",
       "<table border=\"1\" class=\"dataframe\">\n",
       "  <thead>\n",
       "    <tr style=\"text-align: right;\">\n",
       "      <th></th>\n",
       "      <th>the_geom</th>\n",
       "      <th>bin</th>\n",
       "      <th>cnstrct_yr</th>\n",
       "      <th>lstmoddate</th>\n",
       "      <th>lststatype</th>\n",
       "      <th>doitt_id</th>\n",
       "      <th>heightroof</th>\n",
       "      <th>feat_code</th>\n",
       "      <th>groundelev</th>\n",
       "      <th>shape_area</th>\n",
       "      <th>shape_len</th>\n",
       "      <th>base_bbl</th>\n",
       "      <th>mpluto_bbl</th>\n",
       "      <th>geomsource</th>\n",
       "    </tr>\n",
       "  </thead>\n",
       "  <tbody>\n",
       "    <tr>\n",
       "      <th>0</th>\n",
       "      <td>{'type': 'MultiPolygon', 'coordinates': [[[[-7...</td>\n",
       "      <td>3170958</td>\n",
       "      <td>1925</td>\n",
       "      <td>2017-08-22T00:00:00.000</td>\n",
       "      <td>Constructed</td>\n",
       "      <td>96807</td>\n",
       "      <td>29.74985318</td>\n",
       "      <td>2100</td>\n",
       "      <td>40</td>\n",
       "      <td>0.0</td>\n",
       "      <td>0.0</td>\n",
       "      <td>3065220021</td>\n",
       "      <td>3065220021</td>\n",
       "      <td>Photogramm</td>\n",
       "    </tr>\n",
       "    <tr>\n",
       "      <th>1</th>\n",
       "      <td>{'type': 'MultiPolygon', 'coordinates': [[[[-7...</td>\n",
       "      <td>5028452</td>\n",
       "      <td>1965</td>\n",
       "      <td>2017-08-22T00:00:00.000</td>\n",
       "      <td>Constructed</td>\n",
       "      <td>326368</td>\n",
       "      <td>22.63</td>\n",
       "      <td>2100</td>\n",
       "      <td>39</td>\n",
       "      <td>0.0</td>\n",
       "      <td>0.0</td>\n",
       "      <td>5012640036</td>\n",
       "      <td>5012640036</td>\n",
       "      <td>Photogramm</td>\n",
       "    </tr>\n",
       "    <tr>\n",
       "      <th>2</th>\n",
       "      <td>{'type': 'MultiPolygon', 'coordinates': [[[[-7...</td>\n",
       "      <td>5078368</td>\n",
       "      <td>1970</td>\n",
       "      <td>2017-08-22T00:00:00.000</td>\n",
       "      <td>Constructed</td>\n",
       "      <td>746627</td>\n",
       "      <td>35.76</td>\n",
       "      <td>2100</td>\n",
       "      <td>51</td>\n",
       "      <td>0.0</td>\n",
       "      <td>0.0</td>\n",
       "      <td>5060190091</td>\n",
       "      <td>5060190091</td>\n",
       "      <td>Photogramm</td>\n",
       "    </tr>\n",
       "    <tr>\n",
       "      <th>3</th>\n",
       "      <td>{'type': 'MultiPolygon', 'coordinates': [[[[-7...</td>\n",
       "      <td>3245111</td>\n",
       "      <td>1928</td>\n",
       "      <td>2017-08-22T00:00:00.000</td>\n",
       "      <td>Constructed</td>\n",
       "      <td>786626</td>\n",
       "      <td>37.5</td>\n",
       "      <td>2100</td>\n",
       "      <td>6</td>\n",
       "      <td>0.0</td>\n",
       "      <td>0.0</td>\n",
       "      <td>3086910048</td>\n",
       "      <td>3086910048</td>\n",
       "      <td>Photogramm</td>\n",
       "    </tr>\n",
       "    <tr>\n",
       "      <th>4</th>\n",
       "      <td>{'type': 'MultiPolygon', 'coordinates': [[[[-7...</td>\n",
       "      <td>4161096</td>\n",
       "      <td>1950</td>\n",
       "      <td>2017-08-22T00:00:00.000</td>\n",
       "      <td>Constructed</td>\n",
       "      <td>746409</td>\n",
       "      <td>18.01511294</td>\n",
       "      <td>2100</td>\n",
       "      <td>93</td>\n",
       "      <td>0.0</td>\n",
       "      <td>0.0</td>\n",
       "      <td>4075020005</td>\n",
       "      <td>4075020005</td>\n",
       "      <td>Photogramm</td>\n",
       "    </tr>\n",
       "  </tbody>\n",
       "</table>\n",
       "</div>"
      ],
      "text/plain": [
       "                                            the_geom      bin cnstrct_yr  \\\n",
       "0  {'type': 'MultiPolygon', 'coordinates': [[[[-7...  3170958       1925   \n",
       "1  {'type': 'MultiPolygon', 'coordinates': [[[[-7...  5028452       1965   \n",
       "2  {'type': 'MultiPolygon', 'coordinates': [[[[-7...  5078368       1970   \n",
       "3  {'type': 'MultiPolygon', 'coordinates': [[[[-7...  3245111       1928   \n",
       "4  {'type': 'MultiPolygon', 'coordinates': [[[[-7...  4161096       1950   \n",
       "\n",
       "                lstmoddate   lststatype doitt_id   heightroof feat_code  \\\n",
       "0  2017-08-22T00:00:00.000  Constructed    96807  29.74985318      2100   \n",
       "1  2017-08-22T00:00:00.000  Constructed   326368        22.63      2100   \n",
       "2  2017-08-22T00:00:00.000  Constructed   746627        35.76      2100   \n",
       "3  2017-08-22T00:00:00.000  Constructed   786626         37.5      2100   \n",
       "4  2017-08-22T00:00:00.000  Constructed   746409  18.01511294      2100   \n",
       "\n",
       "  groundelev shape_area shape_len    base_bbl  mpluto_bbl  geomsource  \n",
       "0         40        0.0       0.0  3065220021  3065220021  Photogramm  \n",
       "1         39        0.0       0.0  5012640036  5012640036  Photogramm  \n",
       "2         51        0.0       0.0  5060190091  5060190091  Photogramm  \n",
       "3          6        0.0       0.0  3086910048  3086910048  Photogramm  \n",
       "4         93        0.0       0.0  4075020005  4075020005  Photogramm  "
      ]
     },
     "execution_count": 47,
     "metadata": {},
     "output_type": "execute_result"
    }
   ],
   "source": [
    "footprint = client.get(footprint_id)\n",
    "# footprint = client.get_all(footprint_id) # to get all data\n",
    "df_footprint = pd.DataFrame.from_dict(footprint)\n",
    "df_footprint.head()"
   ]
  },
  {
   "cell_type": "code",
   "execution_count": 100,
   "metadata": {},
   "outputs": [
    {
     "data": {
      "text/plain": [
       "[-73.96673233583692, 40.626022404070476]"
      ]
     },
     "execution_count": 100,
     "metadata": {},
     "output_type": "execute_result"
    }
   ],
   "source": [
    "a = df_points['the_geom'][0]['coordinates']\n",
    "a"
   ]
  },
  {
   "cell_type": "code",
   "execution_count": 156,
   "metadata": {
    "scrolled": true
   },
   "outputs": [
    {
     "data": {
      "application/vnd.jupyter.widget-view+json": {
       "model_id": "851091b5091948c6bb9a4b48b281be21",
       "version_major": 2,
       "version_minor": 0
      },
      "text/plain": [
       "MapView(layout=Layout(height='400px', width='100%'))"
      ]
     },
     "metadata": {},
     "output_type": "display_data"
    },
    {
     "data": {
      "text/html": [
       "<div class=\"map-static-img-preview-c021c64d-3434-431a-b26b-3494748326d6\"><img src=\"\"></img></div>"
      ],
      "text/plain": [
       "<IPython.core.display.HTML object>"
      ]
     },
     "metadata": {},
     "output_type": "display_data"
    },
    {
     "data": {
      "text/html": [
       "<div class=\"map-html-embed-preview-c021c64d-3434-431a-b26b-3494748326d6\"></div>"
      ],
      "text/plain": [
       "<IPython.core.display.HTML object>"
      ]
     },
     "metadata": {},
     "output_type": "display_data"
    }
   ],
   "source": [
    "gis = GIS()\n",
    "m=gis.map('New York, NY')\n",
    "m"
   ]
  },
  {
   "cell_type": "code",
   "execution_count": 157,
   "metadata": {},
   "outputs": [
    {
     "data": {
      "text/plain": [
       "True"
      ]
     },
     "execution_count": 157,
     "metadata": {},
     "output_type": "execute_result"
    }
   ],
   "source": [
    "pt = Point({\"x\" : a[0], \"y\" : a[1], \n",
    "            \"spatialReference\" : {\"wkid\" : 4326}})\n",
    "pt.is_valid()"
   ]
  },
  {
   "cell_type": "code",
   "execution_count": 158,
   "metadata": {},
   "outputs": [],
   "source": [
    "# m.draw(pt, symbol=pt_sym)"
   ]
  },
  {
   "cell_type": "code",
   "execution_count": 159,
   "metadata": {},
   "outputs": [
    {
     "data": {
      "text/plain": [
       "[[[-73.96664570466969, 40.62599676998366],\n",
       "  [-73.96684846176461, 40.625977490862574],\n",
       "  [-73.96685938726297, 40.62604419372411],\n",
       "  [-73.96661621040211, 40.62606731716107],\n",
       "  [-73.96660638332114, 40.626007324369795],\n",
       "  [-73.96664680403327, 40.626003480977275],\n",
       "  [-73.96664570466969, 40.62599676998366]]]"
      ]
     },
     "execution_count": 159,
     "metadata": {},
     "output_type": "execute_result"
    }
   ],
   "source": [
    "l = df_footprint['the_geom'][0]['coordinates'][0]\n",
    "l"
   ]
  },
  {
   "cell_type": "code",
   "execution_count": 160,
   "metadata": {},
   "outputs": [
    {
     "name": "stdout",
     "output_type": "stream",
     "text": [
      "True\n"
     ]
    }
   ],
   "source": [
    "line1 = {\n",
    "  \"paths\" : l,\n",
    "  \"spatialReference\" : {\"wkid\" : 4326}\n",
    "}\n",
    "polyline1 = Polyline(line1)\n",
    "print(polyline1.is_valid())"
   ]
  },
  {
   "cell_type": "code",
   "execution_count": 162,
   "metadata": {},
   "outputs": [],
   "source": [
    "sym_poly_aoi = {\n",
    "  \"type\": \"esriSFS\",\n",
    "  \"style\": \"esriSFSSolid\",\n",
    "  \"color\": [255,140,0,255],\n",
    "    \"outline\": {\n",
    "     \"type\": \"esriSLS\",\n",
    "     \"style\": \"esriSLSSolid\",\n",
    "     \"color\": [0,255,0,255],\n",
    "     \"width\": 3}\n",
    "}\n",
    "m.draw(polyline1, symbol = sym_poly_aoi)"
   ]
  },
  {
   "cell_type": "code",
   "execution_count": 145,
   "metadata": {},
   "outputs": [],
   "source": [
    "# polygon1 = Polygon({'spatialReference': {'latestWkid': 4326}, \n",
    "#                 'rings': l\n",
    "#                 })"
   ]
  },
  {
   "cell_type": "code",
   "execution_count": 148,
   "metadata": {},
   "outputs": [],
   "source": [
    "# polygon1"
   ]
  },
  {
   "cell_type": "code",
   "execution_count": 149,
   "metadata": {},
   "outputs": [],
   "source": [
    "# m.draw(polygon1)"
   ]
  },
  {
   "cell_type": "code",
   "execution_count": 98,
   "metadata": {},
   "outputs": [],
   "source": [
    "def convert_to_rgb(minimum, maximum, value):\n",
    "    minimum, maximum = float(minimum), float(maximum)    \n",
    "    halfmax = (minimum + maximum) / 2\n",
    "    if minimum <= value <= halfmax:\n",
    "        r = 0\n",
    "        g = int( 255./(halfmax - minimum) * (value - minimum))\n",
    "        b = int( 255. + -255./(halfmax - minimum)  * (value - minimum))\n",
    "        return (r,g,b)    \n",
    "    elif halfmax < value <= maximum:\n",
    "        r = int( 255./(maximum - halfmax) * (value - halfmax))\n",
    "        g = int( 255. + -255./(maximum - halfmax)  * (value - halfmax))\n",
    "        b = 0\n",
    "        return (r,g,b)"
   ]
  },
  {
   "cell_type": "code",
   "execution_count": 163,
   "metadata": {},
   "outputs": [],
   "source": [
    "# https://geopandas.org/en/stable/gallery/choro_legends.html\n",
    "\n",
    "# https://geopandas.org/en/stable/getting_started/introduction.html"
   ]
  },
  {
   "cell_type": "code",
   "execution_count": 97,
   "metadata": {},
   "outputs": [],
   "source": [
    "# import httplib, urllib, base64\n",
    "\n",
    "# headers = {\n",
    "#     # Request headers\n",
    "#     'Ocp-Apim-Subscription-Key': '{subscription key}',\n",
    "# }\n",
    "\n",
    "# params = urllib.urlencode({\n",
    "# })\n",
    "\n",
    "\n",
    "# import geopandas as gpd\n",
    "# import matplotlib.pyplot as plt \n",
    "# from mpl_toolkits.axes_grid1 import make_axes_locatable \n",
    "\n",
    "# # Reading the world shapefile \n",
    "# world_data = gpd.read_file(r'D:\\GeoDelta\\Introduction to Geopandas_Basics\\Visualizing Geographical Data\\world.shp')\n",
    "# world_data = world_data[['NAME', 'geometry']]\n",
    "\n",
    "# # Calculating the area of each country \n",
    "# world_data['area'] = world_data.area\n",
    "\n",
    "# # Removing Antarctica from GeoPandas GeoDataframe\n",
    "# world_data = world_data[world_data['NAME'] != 'Antarctica']\n",
    "# world_data.plot()\n",
    "\n",
    "# # Changing the projection\n",
    "# current_crs = world_data.crs   \n",
    "# world_data.to_crs(epsg = 3857, inplace = True)\n",
    "# world_data.plot(column = 'NAME', cmap = 'hsv')\n",
    "\n",
    "# # Re-calculate the areas in Sq. Km.\n",
    "# world_data['area'] = world_data.area/1000000\n",
    "\n",
    "# # Adding a legend \n",
    "# world_data.plot(column = 'area' , cmap = 'hsv' , legend = True, \n",
    "#                 legend_kwds = {'label': \"Area of the country (Sq. Km.)\"}, figsize = (7,7))\n",
    "\n",
    "# # Resizing the legend \n",
    "# fig, ax = plt.subplots(figsize = (10,10))\n",
    "# divider = make_axes_locatable(ax)\n",
    "# cax = divider.append_axes(\"right\", size = \"7%\", pad = 0.1)\n",
    "# world_data.plot(column = 'NAME' , cmap = 'hsv' , legend = None, \n",
    "#                 legend_kwds = {'label': \"Area of the country (Sq. Km.)\"},\n",
    "#                 ax = ax, cax = cax)\n",
    "\n",
    "# https://data.cityofnewyork.us/resource/7w4b-tj9d.json\n",
    "\n",
    "# https://www1.nyc.gov/site/planning/data-maps/open-data/bytes-archive.page?sorts[year]=0\n",
    "# https://www1.nyc.gov/site/doitt/initiatives/3d-building.page\n",
    "# https://www1.nyc.gov/html/gbee/html/plan/ll84_scores.shtml\n",
    "\n",
    "# https://benchmarking.cityofnewyork.us/#/\n",
    "\n",
    "# https://uil.carto.com/api/v2/sql?format=csv&filename=filtered_evt&q=SELECT%20bbl,%20bin,%20address,%20zipcode,%20bldgtype,%20ess,%20year,%20gfa,%20numbldgs,%20numfloors,%20eui,%20energy,%20wui,%20ghg,%20primary_type,%20other_types_dict,%20has_datacenter,%20electricity,%20bedrooms,%20natural_gas,%20steam,%20worker_dens,%20res_units,%20diesel,%20fuel_4,%20fuel_2,%20fuel_5_6%20FROM%20table_2017_disclosure_ll84_viz_01_2019%20WHERE%20(year%20%3E=%201900%20AND%20year%20%3C=%202017)%20AND%20(gfa%20%3E=%2010000%20AND%20gfa%20%3C=%20500035)%20%20AND%20(eui%20%3E=%2050%20AND%20eui%20%3C=%20350)"
   ]
  },
  {
   "cell_type": "code",
   "execution_count": null,
   "metadata": {},
   "outputs": [],
   "source": []
  }
 ],
 "metadata": {
  "interpreter": {
   "hash": "1d461b30fc5edc508db32526b337aad33bd293f14f2b02d30461578ede1a81f2"
  },
  "kernelspec": {
   "display_name": "Python 3 (ipykernel)",
   "language": "python",
   "name": "python3"
  },
  "language_info": {
   "codemirror_mode": {
    "name": "ipython",
    "version": 3
   },
   "file_extension": ".py",
   "mimetype": "text/x-python",
   "name": "python",
   "nbconvert_exporter": "python",
   "pygments_lexer": "ipython3",
   "version": "3.9.7"
  }
 },
 "nbformat": 4,
 "nbformat_minor": 2
}
